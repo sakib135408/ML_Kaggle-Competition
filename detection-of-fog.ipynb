{
 "cells": [
  {
   "cell_type": "code",
   "execution_count": 1,
   "id": "4568fcc1",
   "metadata": {
    "execution": {
     "iopub.execute_input": "2023-04-15T03:56:04.317587Z",
     "iopub.status.busy": "2023-04-15T03:56:04.316514Z",
     "iopub.status.idle": "2023-04-15T03:56:28.174869Z",
     "shell.execute_reply": "2023-04-15T03:56:28.173484Z"
    },
    "papermill": {
     "duration": 23.875987,
     "end_time": "2023-04-15T03:56:28.178016",
     "exception": false,
     "start_time": "2023-04-15T03:56:04.302029",
     "status": "completed"
    },
    "tags": []
   },
   "outputs": [
    {
     "name": "stdout",
     "output_type": "stream",
     "text": [
      "Looking in links: file:///kaggle/input/package\r\n",
      "Processing /kaggle/input/package/tsflex-0.3.0-py3-none-any.whl\r\n",
      "Requirement already satisfied: numpy<2.0.0,>=1.21.5 in /opt/conda/lib/python3.7/site-packages (from tsflex) (1.21.6)\r\n",
      "Requirement already satisfied: pandas<2.0.0,>=1.3.5 in /opt/conda/lib/python3.7/site-packages (from tsflex) (1.3.5)\r\n",
      "Requirement already satisfied: tqdm<5.0.0,>=4.62.3 in /opt/conda/lib/python3.7/site-packages (from tsflex) (4.64.1)\r\n",
      "Requirement already satisfied: dill<0.4.0,>=0.3.4 in /opt/conda/lib/python3.7/site-packages (from tsflex) (0.3.6)\r\n",
      "Requirement already satisfied: multiprocess<0.71.0,>=0.70.12 in /opt/conda/lib/python3.7/site-packages (from tsflex) (0.70.14)\r\n",
      "Requirement already satisfied: python-dateutil>=2.7.3 in /opt/conda/lib/python3.7/site-packages (from pandas<2.0.0,>=1.3.5->tsflex) (2.8.2)\r\n",
      "Requirement already satisfied: pytz>=2017.3 in /opt/conda/lib/python3.7/site-packages (from pandas<2.0.0,>=1.3.5->tsflex) (2022.7.1)\r\n",
      "Requirement already satisfied: six>=1.5 in /opt/conda/lib/python3.7/site-packages (from python-dateutil>=2.7.3->pandas<2.0.0,>=1.3.5->tsflex) (1.16.0)\r\n",
      "Installing collected packages: tsflex\r\n",
      "Successfully installed tsflex-0.3.0\r\n",
      "\u001b[33mWARNING: Running pip as the 'root' user can result in broken permissions and conflicting behaviour with the system package manager. It is recommended to use a virtual environment instead: https://pip.pypa.io/warnings/venv\u001b[0m\u001b[33m\r\n",
      "\u001b[0mLooking in links: file:///kaggle/input/package\r\n",
      "Processing /kaggle/input/package/seglearn-1.2.5-py3-none-any.whl\r\n",
      "Requirement already satisfied: numpy in /opt/conda/lib/python3.7/site-packages (from seglearn) (1.21.6)\r\n",
      "Requirement already satisfied: scipy in /opt/conda/lib/python3.7/site-packages (from seglearn) (1.7.3)\r\n",
      "Requirement already satisfied: scikit-learn>=0.21.3 in /opt/conda/lib/python3.7/site-packages (from seglearn) (1.0.2)\r\n",
      "Requirement already satisfied: threadpoolctl>=2.0.0 in /opt/conda/lib/python3.7/site-packages (from scikit-learn>=0.21.3->seglearn) (3.1.0)\r\n",
      "Requirement already satisfied: joblib>=0.11 in /opt/conda/lib/python3.7/site-packages (from scikit-learn>=0.21.3->seglearn) (1.2.0)\r\n",
      "Installing collected packages: seglearn\r\n",
      "Successfully installed seglearn-1.2.5\r\n",
      "\u001b[33mWARNING: Running pip as the 'root' user can result in broken permissions and conflicting behaviour with the system package manager. It is recommended to use a virtual environment instead: https://pip.pypa.io/warnings/venv\u001b[0m\u001b[33m\r\n",
      "\u001b[0m"
     ]
    }
   ],
   "source": [
    "# Install tsflex and seglearn\n",
    "!pip install tsflex --no-index --find-links=file:///kaggle/input/package\n",
    "!pip install seglearn --no-index --find-links=file:///kaggle/input/package"
   ]
  },
  {
   "cell_type": "code",
   "execution_count": 2,
   "id": "509c4ebb",
   "metadata": {
    "execution": {
     "iopub.execute_input": "2023-04-15T03:56:28.206330Z",
     "iopub.status.busy": "2023-04-15T03:56:28.205923Z",
     "iopub.status.idle": "2023-04-15T03:56:30.181793Z",
     "shell.execute_reply": "2023-04-15T03:56:30.180763Z"
    },
    "papermill": {
     "duration": 1.993506,
     "end_time": "2023-04-15T03:56:30.184580",
     "exception": false,
     "start_time": "2023-04-15T03:56:28.191074",
     "status": "completed"
    },
    "tags": []
   },
   "outputs": [],
   "source": [
    "import numpy as np\n",
    "import pandas as pd\n",
    "from tqdm.auto import tqdm\n",
    "from sklearn import *\n",
    "import glob"
   ]
  },
  {
   "cell_type": "code",
   "execution_count": 3,
   "id": "b7c95797",
   "metadata": {
    "execution": {
     "iopub.execute_input": "2023-04-15T03:56:30.212120Z",
     "iopub.status.busy": "2023-04-15T03:56:30.210925Z",
     "iopub.status.idle": "2023-04-15T03:56:30.217433Z",
     "shell.execute_reply": "2023-04-15T03:56:30.216477Z"
    },
    "papermill": {
     "duration": 0.022546,
     "end_time": "2023-04-15T03:56:30.219559",
     "exception": false,
     "start_time": "2023-04-15T03:56:30.197013",
     "status": "completed"
    },
    "tags": []
   },
   "outputs": [],
   "source": [
    "pd.set_option('display.max_rows', 500)\n",
    "pd.set_option('display.max_columns', 500)\n",
    "pd.set_option('display.width', 1000)"
   ]
  },
  {
   "cell_type": "markdown",
   "id": "1212d0a7",
   "metadata": {
    "papermill": {
     "duration": 0.012119,
     "end_time": "2023-04-15T03:56:30.245488",
     "exception": false,
     "start_time": "2023-04-15T03:56:30.233369",
     "status": "completed"
    },
    "tags": []
   },
   "source": [
    "## Data Loading"
   ]
  },
  {
   "cell_type": "code",
   "execution_count": 4,
   "id": "4a94819b",
   "metadata": {
    "execution": {
     "iopub.execute_input": "2023-04-15T03:56:30.272094Z",
     "iopub.status.busy": "2023-04-15T03:56:30.271699Z",
     "iopub.status.idle": "2023-04-15T03:56:30.275827Z",
     "shell.execute_reply": "2023-04-15T03:56:30.274966Z"
    },
    "papermill": {
     "duration": 0.020104,
     "end_time": "2023-04-15T03:56:30.277871",
     "exception": false,
     "start_time": "2023-04-15T03:56:30.257767",
     "status": "completed"
    },
    "tags": []
   },
   "outputs": [],
   "source": [
    "p = '/kaggle/input/tlvmc-parkinsons-freezing-gait-prediction/'"
   ]
  },
  {
   "cell_type": "code",
   "execution_count": 5,
   "id": "d9a19725",
   "metadata": {
    "execution": {
     "iopub.execute_input": "2023-04-15T03:56:30.304964Z",
     "iopub.status.busy": "2023-04-15T03:56:30.304175Z",
     "iopub.status.idle": "2023-04-15T03:56:30.681293Z",
     "shell.execute_reply": "2023-04-15T03:56:30.679822Z"
    },
    "papermill": {
     "duration": 0.393845,
     "end_time": "2023-04-15T03:56:30.684110",
     "exception": false,
     "start_time": "2023-04-15T03:56:30.290265",
     "status": "completed"
    },
    "tags": []
   },
   "outputs": [],
   "source": [
    "train = glob.glob(p+'train/**/**')\n",
    "test = glob.glob(p+'test/**/**')\n",
    "subjects = pd.read_csv(p+'subjects.csv')\n",
    "tasks = pd.read_csv(p+'tasks.csv')\n",
    "sub = pd.read_csv(p+'sample_submission.csv')"
   ]
  },
  {
   "cell_type": "code",
   "execution_count": 6,
   "id": "56291950",
   "metadata": {
    "execution": {
     "iopub.execute_input": "2023-04-15T03:56:30.710950Z",
     "iopub.status.busy": "2023-04-15T03:56:30.710297Z",
     "iopub.status.idle": "2023-04-15T03:56:30.718103Z",
     "shell.execute_reply": "2023-04-15T03:56:30.717016Z"
    },
    "papermill": {
     "duration": 0.024,
     "end_time": "2023-04-15T03:56:30.720365",
     "exception": false,
     "start_time": "2023-04-15T03:56:30.696365",
     "status": "completed"
    },
    "tags": []
   },
   "outputs": [
    {
     "data": {
      "text/plain": [
       "(970, 2)"
      ]
     },
     "execution_count": 6,
     "metadata": {},
     "output_type": "execute_result"
    }
   ],
   "source": [
    "len(train), len(test)"
   ]
  },
  {
   "cell_type": "code",
   "execution_count": 7,
   "id": "b0b139e7",
   "metadata": {
    "execution": {
     "iopub.execute_input": "2023-04-15T03:56:30.746319Z",
     "iopub.status.busy": "2023-04-15T03:56:30.745933Z",
     "iopub.status.idle": "2023-04-15T03:56:30.775163Z",
     "shell.execute_reply": "2023-04-15T03:56:30.773930Z"
    },
    "papermill": {
     "duration": 0.045343,
     "end_time": "2023-04-15T03:56:30.777697",
     "exception": false,
     "start_time": "2023-04-15T03:56:30.732354",
     "status": "completed"
    },
    "tags": []
   },
   "outputs": [
    {
     "data": {
      "text/html": [
       "<div>\n",
       "<style scoped>\n",
       "    .dataframe tbody tr th:only-of-type {\n",
       "        vertical-align: middle;\n",
       "    }\n",
       "\n",
       "    .dataframe tbody tr th {\n",
       "        vertical-align: top;\n",
       "    }\n",
       "\n",
       "    .dataframe thead th {\n",
       "        text-align: right;\n",
       "    }\n",
       "</style>\n",
       "<table border=\"1\" class=\"dataframe\">\n",
       "  <thead>\n",
       "    <tr style=\"text-align: right;\">\n",
       "      <th></th>\n",
       "      <th>Subject</th>\n",
       "      <th>Visit</th>\n",
       "      <th>Age</th>\n",
       "      <th>Sex</th>\n",
       "      <th>YearsSinceDx</th>\n",
       "      <th>UPDRSIII_On</th>\n",
       "      <th>UPDRSIII_Off</th>\n",
       "      <th>NFOGQ</th>\n",
       "    </tr>\n",
       "  </thead>\n",
       "  <tbody>\n",
       "    <tr>\n",
       "      <th>0</th>\n",
       "      <td>04fcdb</td>\n",
       "      <td>1.0</td>\n",
       "      <td>63</td>\n",
       "      <td>M</td>\n",
       "      <td>3.0</td>\n",
       "      <td>30.0</td>\n",
       "      <td>NaN</td>\n",
       "      <td>0</td>\n",
       "    </tr>\n",
       "    <tr>\n",
       "      <th>1</th>\n",
       "      <td>05595e</td>\n",
       "      <td>1.0</td>\n",
       "      <td>56</td>\n",
       "      <td>M</td>\n",
       "      <td>8.0</td>\n",
       "      <td>28.0</td>\n",
       "      <td>NaN</td>\n",
       "      <td>0</td>\n",
       "    </tr>\n",
       "  </tbody>\n",
       "</table>\n",
       "</div>"
      ],
      "text/plain": [
       "  Subject  Visit  Age Sex  YearsSinceDx  UPDRSIII_On  UPDRSIII_Off  NFOGQ\n",
       "0  04fcdb    1.0   63   M           3.0         30.0           NaN      0\n",
       "1  05595e    1.0   56   M           8.0         28.0           NaN      0"
      ]
     },
     "execution_count": 7,
     "metadata": {},
     "output_type": "execute_result"
    }
   ],
   "source": [
    "subjects.head(2)"
   ]
  },
  {
   "cell_type": "code",
   "execution_count": 8,
   "id": "3dfd401c",
   "metadata": {
    "execution": {
     "iopub.execute_input": "2023-04-15T03:56:30.804662Z",
     "iopub.status.busy": "2023-04-15T03:56:30.803941Z",
     "iopub.status.idle": "2023-04-15T03:56:30.815891Z",
     "shell.execute_reply": "2023-04-15T03:56:30.814798Z"
    },
    "papermill": {
     "duration": 0.028154,
     "end_time": "2023-04-15T03:56:30.818404",
     "exception": false,
     "start_time": "2023-04-15T03:56:30.790250",
     "status": "completed"
    },
    "tags": []
   },
   "outputs": [
    {
     "data": {
      "text/html": [
       "<div>\n",
       "<style scoped>\n",
       "    .dataframe tbody tr th:only-of-type {\n",
       "        vertical-align: middle;\n",
       "    }\n",
       "\n",
       "    .dataframe tbody tr th {\n",
       "        vertical-align: top;\n",
       "    }\n",
       "\n",
       "    .dataframe thead th {\n",
       "        text-align: right;\n",
       "    }\n",
       "</style>\n",
       "<table border=\"1\" class=\"dataframe\">\n",
       "  <thead>\n",
       "    <tr style=\"text-align: right;\">\n",
       "      <th></th>\n",
       "      <th>Id</th>\n",
       "      <th>Begin</th>\n",
       "      <th>End</th>\n",
       "      <th>Task</th>\n",
       "    </tr>\n",
       "  </thead>\n",
       "  <tbody>\n",
       "    <tr>\n",
       "      <th>0</th>\n",
       "      <td>02ab235146</td>\n",
       "      <td>10.00</td>\n",
       "      <td>190.48</td>\n",
       "      <td>Rest1</td>\n",
       "    </tr>\n",
       "    <tr>\n",
       "      <th>1</th>\n",
       "      <td>02ab235146</td>\n",
       "      <td>211.24</td>\n",
       "      <td>271.56</td>\n",
       "      <td>Rest2</td>\n",
       "    </tr>\n",
       "  </tbody>\n",
       "</table>\n",
       "</div>"
      ],
      "text/plain": [
       "           Id   Begin     End   Task\n",
       "0  02ab235146   10.00  190.48  Rest1\n",
       "1  02ab235146  211.24  271.56  Rest2"
      ]
     },
     "execution_count": 8,
     "metadata": {},
     "output_type": "execute_result"
    }
   ],
   "source": [
    "tasks.head(2)"
   ]
  },
  {
   "cell_type": "code",
   "execution_count": 9,
   "id": "73cecf6c",
   "metadata": {
    "execution": {
     "iopub.execute_input": "2023-04-15T03:56:30.846171Z",
     "iopub.status.busy": "2023-04-15T03:56:30.845209Z",
     "iopub.status.idle": "2023-04-15T03:56:30.861589Z",
     "shell.execute_reply": "2023-04-15T03:56:30.860342Z"
    },
    "papermill": {
     "duration": 0.032785,
     "end_time": "2023-04-15T03:56:30.863910",
     "exception": false,
     "start_time": "2023-04-15T03:56:30.831125",
     "status": "completed"
    },
    "tags": []
   },
   "outputs": [],
   "source": [
    "tdcsfog_metadata=pd.read_csv(p+'tdcsfog_metadata.csv')\n",
    "defog_metadata=pd.read_csv(p+'defog_metadata.csv')"
   ]
  },
  {
   "cell_type": "code",
   "execution_count": 10,
   "id": "a00e572f",
   "metadata": {
    "execution": {
     "iopub.execute_input": "2023-04-15T03:56:30.890441Z",
     "iopub.status.busy": "2023-04-15T03:56:30.890039Z",
     "iopub.status.idle": "2023-04-15T03:56:30.900902Z",
     "shell.execute_reply": "2023-04-15T03:56:30.899714Z"
    },
    "papermill": {
     "duration": 0.026815,
     "end_time": "2023-04-15T03:56:30.903281",
     "exception": false,
     "start_time": "2023-04-15T03:56:30.876466",
     "status": "completed"
    },
    "tags": []
   },
   "outputs": [],
   "source": [
    "tdcsfog_metadata['Module']='tdcsfog'\n",
    "defog_metadata['Module']='defog'"
   ]
  },
  {
   "cell_type": "code",
   "execution_count": 11,
   "id": "ffe666b3",
   "metadata": {
    "execution": {
     "iopub.execute_input": "2023-04-15T03:56:30.930938Z",
     "iopub.status.busy": "2023-04-15T03:56:30.930066Z",
     "iopub.status.idle": "2023-04-15T03:56:30.948391Z",
     "shell.execute_reply": "2023-04-15T03:56:30.947308Z"
    },
    "papermill": {
     "duration": 0.034997,
     "end_time": "2023-04-15T03:56:30.950894",
     "exception": false,
     "start_time": "2023-04-15T03:56:30.915897",
     "status": "completed"
    },
    "tags": []
   },
   "outputs": [
    {
     "data": {
      "text/html": [
       "<div>\n",
       "<style scoped>\n",
       "    .dataframe tbody tr th:only-of-type {\n",
       "        vertical-align: middle;\n",
       "    }\n",
       "\n",
       "    .dataframe tbody tr th {\n",
       "        vertical-align: top;\n",
       "    }\n",
       "\n",
       "    .dataframe thead th {\n",
       "        text-align: right;\n",
       "    }\n",
       "</style>\n",
       "<table border=\"1\" class=\"dataframe\">\n",
       "  <thead>\n",
       "    <tr style=\"text-align: right;\">\n",
       "      <th></th>\n",
       "      <th>Id</th>\n",
       "      <th>Subject</th>\n",
       "      <th>Visit</th>\n",
       "      <th>Test</th>\n",
       "      <th>Medication</th>\n",
       "      <th>Module</th>\n",
       "    </tr>\n",
       "  </thead>\n",
       "  <tbody>\n",
       "    <tr>\n",
       "      <th>0</th>\n",
       "      <td>003f117e14</td>\n",
       "      <td>13abfd</td>\n",
       "      <td>3</td>\n",
       "      <td>2.0</td>\n",
       "      <td>on</td>\n",
       "      <td>tdcsfog</td>\n",
       "    </tr>\n",
       "    <tr>\n",
       "      <th>1</th>\n",
       "      <td>009ee11563</td>\n",
       "      <td>d81e3a</td>\n",
       "      <td>4</td>\n",
       "      <td>2.0</td>\n",
       "      <td>on</td>\n",
       "      <td>tdcsfog</td>\n",
       "    </tr>\n",
       "  </tbody>\n",
       "</table>\n",
       "</div>"
      ],
      "text/plain": [
       "           Id Subject  Visit  Test Medication   Module\n",
       "0  003f117e14  13abfd      3   2.0         on  tdcsfog\n",
       "1  009ee11563  d81e3a      4   2.0         on  tdcsfog"
      ]
     },
     "execution_count": 11,
     "metadata": {},
     "output_type": "execute_result"
    }
   ],
   "source": [
    "metadata=pd.concat([tdcsfog_metadata,defog_metadata])\n",
    "metadata.head(2)"
   ]
  },
  {
   "cell_type": "markdown",
   "id": "a5fed5ee",
   "metadata": {
    "papermill": {
     "duration": 0.01303,
     "end_time": "2023-04-15T03:56:30.976733",
     "exception": false,
     "start_time": "2023-04-15T03:56:30.963703",
     "status": "completed"
    },
    "tags": []
   },
   "source": [
    "## Feature Engineering"
   ]
  },
  {
   "cell_type": "code",
   "execution_count": 12,
   "id": "99cf7e3a",
   "metadata": {
    "execution": {
     "iopub.execute_input": "2023-04-15T03:56:31.005284Z",
     "iopub.status.busy": "2023-04-15T03:56:31.004535Z",
     "iopub.status.idle": "2023-04-15T03:56:31.097319Z",
     "shell.execute_reply": "2023-04-15T03:56:31.096316Z"
    },
    "papermill": {
     "duration": 0.110046,
     "end_time": "2023-04-15T03:56:31.100189",
     "exception": false,
     "start_time": "2023-04-15T03:56:30.990143",
     "status": "completed"
    },
    "tags": []
   },
   "outputs": [],
   "source": [
    "tasks['Duration'] = tasks['End'] - tasks['Begin']\n",
    "tasks = pd.pivot_table(tasks, values=['Duration'], index=['Id'], columns=['Task'], aggfunc='sum', fill_value=0)\n",
    "tasks.columns = [c[-1] for c in tasks.columns]\n",
    "tasks = tasks.reset_index()\n",
    "\n",
    "## Clustering all tasks to nearest clusters\n",
    "tasks['t_kmeans'] = cluster.KMeans(n_clusters=10, random_state=3).fit_predict(tasks[tasks.columns[1:]])"
   ]
  },
  {
   "cell_type": "code",
   "execution_count": 13,
   "id": "618991ae",
   "metadata": {
    "execution": {
     "iopub.execute_input": "2023-04-15T03:56:31.130829Z",
     "iopub.status.busy": "2023-04-15T03:56:31.129717Z",
     "iopub.status.idle": "2023-04-15T03:56:31.184158Z",
     "shell.execute_reply": "2023-04-15T03:56:31.183177Z"
    },
    "papermill": {
     "duration": 0.072042,
     "end_time": "2023-04-15T03:56:31.187285",
     "exception": false,
     "start_time": "2023-04-15T03:56:31.115243",
     "status": "completed"
    },
    "tags": []
   },
   "outputs": [],
   "source": [
    "subjects = subjects.fillna(0).groupby('Subject').median()\n",
    "subjects = subjects.reset_index()\n",
    "\n",
    "## Clustering all subjects to nearest clusters\n",
    "subjects['s_kmeans'] = cluster.KMeans(n_clusters=10, random_state=3).fit_predict(subjects[subjects.columns[1:]])\n",
    "subjects=subjects.rename(columns={'Visit':'s_Visit','Age':'s_Age','YearsSinceDx':'s_YearsSinceDx','UPDRSIII_On':'s_UPDRSIII_On','UPDRSIII_Off':'s_UPDRSIII_Off','NFOGQ':'s_NFOGQ'})"
   ]
  },
  {
   "cell_type": "code",
   "execution_count": 14,
   "id": "dc6e7d74",
   "metadata": {
    "execution": {
     "iopub.execute_input": "2023-04-15T03:56:31.217040Z",
     "iopub.status.busy": "2023-04-15T03:56:31.215998Z",
     "iopub.status.idle": "2023-04-15T03:56:31.220575Z",
     "shell.execute_reply": "2023-04-15T03:56:31.219790Z"
    },
    "papermill": {
     "duration": 0.020626,
     "end_time": "2023-04-15T03:56:31.222640",
     "exception": false,
     "start_time": "2023-04-15T03:56:31.202014",
     "status": "completed"
    },
    "tags": []
   },
   "outputs": [],
   "source": [
    "## From Metadata and Subjects dataframe\n",
    "complex_featlist=['Visit','Test','Medication','s_Visit','s_Age','s_YearsSinceDx','s_UPDRSIII_On','s_UPDRSIII_Off','s_NFOGQ','s_kmeans']"
   ]
  },
  {
   "cell_type": "code",
   "execution_count": 15,
   "id": "3bca1047",
   "metadata": {
    "execution": {
     "iopub.execute_input": "2023-04-15T03:56:31.250263Z",
     "iopub.status.busy": "2023-04-15T03:56:31.249407Z",
     "iopub.status.idle": "2023-04-15T03:56:31.262086Z",
     "shell.execute_reply": "2023-04-15T03:56:31.261118Z"
    },
    "papermill": {
     "duration": 0.029864,
     "end_time": "2023-04-15T03:56:31.265110",
     "exception": false,
     "start_time": "2023-04-15T03:56:31.235246",
     "status": "completed"
    },
    "tags": []
   },
   "outputs": [],
   "source": [
    "metadata_complex=metadata.merge(subjects,how='left',on='Subject').copy()"
   ]
  },
  {
   "cell_type": "code",
   "execution_count": 16,
   "id": "fd0f25c2",
   "metadata": {
    "execution": {
     "iopub.execute_input": "2023-04-15T03:56:31.293341Z",
     "iopub.status.busy": "2023-04-15T03:56:31.292172Z",
     "iopub.status.idle": "2023-04-15T03:56:31.298914Z",
     "shell.execute_reply": "2023-04-15T03:56:31.297725Z"
    },
    "papermill": {
     "duration": 0.023384,
     "end_time": "2023-04-15T03:56:31.301322",
     "exception": false,
     "start_time": "2023-04-15T03:56:31.277938",
     "status": "completed"
    },
    "tags": []
   },
   "outputs": [
    {
     "data": {
      "text/plain": [
       "970"
      ]
     },
     "execution_count": 16,
     "metadata": {},
     "output_type": "execute_result"
    }
   ],
   "source": [
    "len(metadata_complex)"
   ]
  },
  {
   "cell_type": "code",
   "execution_count": 17,
   "id": "91bc1c34",
   "metadata": {
    "execution": {
     "iopub.execute_input": "2023-04-15T03:56:31.328896Z",
     "iopub.status.busy": "2023-04-15T03:56:31.328438Z",
     "iopub.status.idle": "2023-04-15T03:56:31.336484Z",
     "shell.execute_reply": "2023-04-15T03:56:31.335270Z"
    },
    "papermill": {
     "duration": 0.024327,
     "end_time": "2023-04-15T03:56:31.338706",
     "exception": false,
     "start_time": "2023-04-15T03:56:31.314379",
     "status": "completed"
    },
    "tags": []
   },
   "outputs": [],
   "source": [
    "metadata_complex['Medication']=metadata_complex['Medication'].factorize()[0]  ## Changing from On/Off to 0/1."
   ]
  },
  {
   "cell_type": "code",
   "execution_count": 18,
   "id": "5ec547d9",
   "metadata": {
    "execution": {
     "iopub.execute_input": "2023-04-15T03:56:31.366204Z",
     "iopub.status.busy": "2023-04-15T03:56:31.365777Z",
     "iopub.status.idle": "2023-04-15T03:56:31.383293Z",
     "shell.execute_reply": "2023-04-15T03:56:31.382175Z"
    },
    "papermill": {
     "duration": 0.033612,
     "end_time": "2023-04-15T03:56:31.385450",
     "exception": false,
     "start_time": "2023-04-15T03:56:31.351838",
     "status": "completed"
    },
    "tags": []
   },
   "outputs": [
    {
     "data": {
      "text/html": [
       "<div>\n",
       "<style scoped>\n",
       "    .dataframe tbody tr th:only-of-type {\n",
       "        vertical-align: middle;\n",
       "    }\n",
       "\n",
       "    .dataframe tbody tr th {\n",
       "        vertical-align: top;\n",
       "    }\n",
       "\n",
       "    .dataframe thead th {\n",
       "        text-align: right;\n",
       "    }\n",
       "</style>\n",
       "<table border=\"1\" class=\"dataframe\">\n",
       "  <thead>\n",
       "    <tr style=\"text-align: right;\">\n",
       "      <th></th>\n",
       "      <th>Id</th>\n",
       "      <th>Subject</th>\n",
       "      <th>Visit</th>\n",
       "      <th>Test</th>\n",
       "      <th>Medication</th>\n",
       "      <th>Module</th>\n",
       "      <th>s_Visit</th>\n",
       "      <th>s_Age</th>\n",
       "      <th>s_YearsSinceDx</th>\n",
       "      <th>s_UPDRSIII_On</th>\n",
       "      <th>s_UPDRSIII_Off</th>\n",
       "      <th>s_NFOGQ</th>\n",
       "      <th>s_kmeans</th>\n",
       "    </tr>\n",
       "  </thead>\n",
       "  <tbody>\n",
       "    <tr>\n",
       "      <th>0</th>\n",
       "      <td>003f117e14</td>\n",
       "      <td>13abfd</td>\n",
       "      <td>3</td>\n",
       "      <td>2.0</td>\n",
       "      <td>0</td>\n",
       "      <td>tdcsfog</td>\n",
       "      <td>0.0</td>\n",
       "      <td>68.0</td>\n",
       "      <td>9.0</td>\n",
       "      <td>17.0</td>\n",
       "      <td>15.0</td>\n",
       "      <td>15.0</td>\n",
       "      <td>8</td>\n",
       "    </tr>\n",
       "    <tr>\n",
       "      <th>1</th>\n",
       "      <td>009ee11563</td>\n",
       "      <td>d81e3a</td>\n",
       "      <td>4</td>\n",
       "      <td>2.0</td>\n",
       "      <td>0</td>\n",
       "      <td>tdcsfog</td>\n",
       "      <td>0.0</td>\n",
       "      <td>71.0</td>\n",
       "      <td>10.0</td>\n",
       "      <td>42.0</td>\n",
       "      <td>0.0</td>\n",
       "      <td>24.0</td>\n",
       "      <td>1</td>\n",
       "    </tr>\n",
       "  </tbody>\n",
       "</table>\n",
       "</div>"
      ],
      "text/plain": [
       "           Id Subject  Visit  Test  Medication   Module  s_Visit  s_Age  s_YearsSinceDx  s_UPDRSIII_On  s_UPDRSIII_Off  s_NFOGQ  s_kmeans\n",
       "0  003f117e14  13abfd      3   2.0           0  tdcsfog      0.0   68.0             9.0           17.0            15.0     15.0         8\n",
       "1  009ee11563  d81e3a      4   2.0           0  tdcsfog      0.0   71.0            10.0           42.0             0.0     24.0         1"
      ]
     },
     "execution_count": 18,
     "metadata": {},
     "output_type": "execute_result"
    }
   ],
   "source": [
    "metadata_complex.head(2)"
   ]
  },
  {
   "cell_type": "markdown",
   "id": "0c765e06",
   "metadata": {
    "papermill": {
     "duration": 0.012855,
     "end_time": "2023-04-15T03:56:31.411551",
     "exception": false,
     "start_time": "2023-04-15T03:56:31.398696",
     "status": "completed"
    },
    "tags": []
   },
   "source": [
    "## tsflex feature selection"
   ]
  },
  {
   "cell_type": "code",
   "execution_count": 19,
   "id": "18e23ade",
   "metadata": {
    "execution": {
     "iopub.execute_input": "2023-04-15T03:56:31.439219Z",
     "iopub.status.busy": "2023-04-15T03:56:31.438803Z",
     "iopub.status.idle": "2023-04-15T03:56:31.443627Z",
     "shell.execute_reply": "2023-04-15T03:56:31.442483Z"
    },
    "papermill": {
     "duration": 0.021332,
     "end_time": "2023-04-15T03:56:31.445799",
     "exception": false,
     "start_time": "2023-04-15T03:56:31.424467",
     "status": "completed"
    },
    "tags": []
   },
   "outputs": [],
   "source": [
    "# https://reader.elsevier.com/reader/sd/pii/S2352711021001904?token=37B0595F026ECFAFADE3BA1B280E37EC55CAF307DECCF7282D0EFB1258D766249CACAC5DE202D333E40F3B13FBD39844&originRegion=us-east-1&originCreation=20230414151308"
   ]
  },
  {
   "cell_type": "code",
   "execution_count": 20,
   "id": "f2e062d9",
   "metadata": {
    "execution": {
     "iopub.execute_input": "2023-04-15T03:56:31.473580Z",
     "iopub.status.busy": "2023-04-15T03:56:31.473180Z",
     "iopub.status.idle": "2023-04-15T03:56:31.517809Z",
     "shell.execute_reply": "2023-04-15T03:56:31.516799Z"
    },
    "papermill": {
     "duration": 0.061911,
     "end_time": "2023-04-15T03:56:31.520722",
     "exception": false,
     "start_time": "2023-04-15T03:56:31.458811",
     "status": "completed"
    },
    "tags": []
   },
   "outputs": [],
   "source": [
    "from seglearn.feature_functions import base_features, emg_features\n",
    "\n",
    "from tsflex.features import FeatureCollection, MultipleFeatureDescriptors\n",
    "from tsflex.features.integrations import seglearn_feature_dict_wrapper"
   ]
  },
  {
   "cell_type": "code",
   "execution_count": 21,
   "id": "faca1495",
   "metadata": {
    "execution": {
     "iopub.execute_input": "2023-04-15T03:56:31.549873Z",
     "iopub.status.busy": "2023-04-15T03:56:31.548703Z",
     "iopub.status.idle": "2023-04-15T03:56:31.555530Z",
     "shell.execute_reply": "2023-04-15T03:56:31.554445Z"
    },
    "papermill": {
     "duration": 0.023858,
     "end_time": "2023-04-15T03:56:31.557972",
     "exception": false,
     "start_time": "2023-04-15T03:56:31.534114",
     "status": "completed"
    },
    "tags": []
   },
   "outputs": [],
   "source": [
    "basic_feats = MultipleFeatureDescriptors(\n",
    "    functions=seglearn_feature_dict_wrapper(base_features()),\n",
    "    series_names=['AccV', 'AccML', 'AccAP'],    ## These 3 series will be used to extract features\n",
    "    windows=[5_000],                            ## Rolling window of 5_000\n",
    "    strides=[5_000],                            ## Similar value of windows, it can also be less than windows value\n",
    ")"
   ]
  },
  {
   "cell_type": "code",
   "execution_count": 22,
   "id": "c7c7f344",
   "metadata": {
    "execution": {
     "iopub.execute_input": "2023-04-15T03:56:31.586402Z",
     "iopub.status.busy": "2023-04-15T03:56:31.586010Z",
     "iopub.status.idle": "2023-04-15T03:56:31.591395Z",
     "shell.execute_reply": "2023-04-15T03:56:31.590186Z"
    },
    "papermill": {
     "duration": 0.022126,
     "end_time": "2023-04-15T03:56:31.593555",
     "exception": false,
     "start_time": "2023-04-15T03:56:31.571429",
     "status": "completed"
    },
    "tags": []
   },
   "outputs": [],
   "source": [
    "emg_feats = emg_features()              ## Coming from seglearn\n",
    "del emg_feats['simple square integral']"
   ]
  },
  {
   "cell_type": "code",
   "execution_count": 23,
   "id": "e4d8f159",
   "metadata": {
    "execution": {
     "iopub.execute_input": "2023-04-15T03:56:31.621793Z",
     "iopub.status.busy": "2023-04-15T03:56:31.621331Z",
     "iopub.status.idle": "2023-04-15T03:56:31.627585Z",
     "shell.execute_reply": "2023-04-15T03:56:31.626446Z"
    },
    "papermill": {
     "duration": 0.023161,
     "end_time": "2023-04-15T03:56:31.629836",
     "exception": false,
     "start_time": "2023-04-15T03:56:31.606675",
     "status": "completed"
    },
    "tags": []
   },
   "outputs": [],
   "source": [
    "emg_feats = MultipleFeatureDescriptors(\n",
    "    functions=seglearn_feature_dict_wrapper(emg_feats),\n",
    "    series_names=['AccV', 'AccML', 'AccAP'],\n",
    "    windows=[5_000],\n",
    "    strides=[5_000],\n",
    ")"
   ]
  },
  {
   "cell_type": "code",
   "execution_count": 24,
   "id": "51bab0b2",
   "metadata": {
    "execution": {
     "iopub.execute_input": "2023-04-15T03:56:31.657647Z",
     "iopub.status.busy": "2023-04-15T03:56:31.657233Z",
     "iopub.status.idle": "2023-04-15T03:56:31.663897Z",
     "shell.execute_reply": "2023-04-15T03:56:31.662722Z"
    },
    "papermill": {
     "duration": 0.023088,
     "end_time": "2023-04-15T03:56:31.666080",
     "exception": false,
     "start_time": "2023-04-15T03:56:31.642992",
     "status": "completed"
    },
    "tags": []
   },
   "outputs": [],
   "source": [
    "fc = FeatureCollection([basic_feats, emg_feats])    # Create the feature collection & calculate the features"
   ]
  },
  {
   "cell_type": "code",
   "execution_count": 25,
   "id": "298d03f8",
   "metadata": {
    "execution": {
     "iopub.execute_input": "2023-04-15T03:56:31.694331Z",
     "iopub.status.busy": "2023-04-15T03:56:31.693895Z",
     "iopub.status.idle": "2023-04-15T03:56:31.701079Z",
     "shell.execute_reply": "2023-04-15T03:56:31.699956Z"
    },
    "papermill": {
     "duration": 0.024227,
     "end_time": "2023-04-15T03:56:31.703459",
     "exception": false,
     "start_time": "2023-04-15T03:56:31.679232",
     "status": "completed"
    },
    "tags": []
   },
   "outputs": [
    {
     "data": {
      "text/plain": [
       "AccAP: (\n",
       "\twin: 5000  : [\n",
       "\t\tFeatureDescriptor - func: FuncWrapper([seglearn_wrapped]__mean, ['mean'], {})    stride: ['5000'],\n",
       "\t\tFeatureDescriptor - func: FuncWrapper([seglearn_wrapped]__median, ['median'], {})    stride: ['5000'],\n",
       "\t\tFeatureDescriptor - func: FuncWrapper([seglearn_wrapped]__abs_energy, ['abs_energy'], {})    stride: ['5000'],\n",
       "\t\tFeatureDescriptor - func: FuncWrapper([seglearn_wrapped]__std, ['std'], {})    stride: ['5000'],\n",
       "\t\tFeatureDescriptor - func: FuncWrapper([seglearn_wrapped]__var, ['var'], {})    stride: ['5000'],\n",
       "\t\tFeatureDescriptor - func: FuncWrapper([seglearn_wrapped]__minimum, ['minimum'], {})    stride: ['5000'],\n",
       "\t\tFeatureDescriptor - func: FuncWrapper([seglearn_wrapped]__maximum, ['maximum'], {})    stride: ['5000'],\n",
       "\t\tFeatureDescriptor - func: FuncWrapper([seglearn_wrapped]__skew, ['skew'], {})    stride: ['5000'],\n",
       "\t\tFeatureDescriptor - func: FuncWrapper([seglearn_wrapped]__kurt, ['kurt'], {})    stride: ['5000'],\n",
       "\t\tFeatureDescriptor - func: FuncWrapper([seglearn_wrapped]__mse, ['mse'], {})    stride: ['5000'],\n",
       "\t\tFeatureDescriptor - func: FuncWrapper([seglearn_wrapped]__mean_crossings, ['mean_crossings'], {})    stride: ['5000'],\n",
       "\t\tFeatureDescriptor - func: FuncWrapper([seglearn_wrapped]__mean_abs, ['mean_abs'], {})    stride: ['5000'],\n",
       "\t\tFeatureDescriptor - func: FuncWrapper([seglearn_wrapped]__zero_crossing, ['zero_crossing'], {})    stride: ['5000'],\n",
       "\t\tFeatureDescriptor - func: FuncWrapper([seglearn_wrapped]__slope_sign_changes, ['slope_sign_changes'], {})    stride: ['5000'],\n",
       "\t\tFeatureDescriptor - func: FuncWrapper([seglearn_wrapped]__waveform_length, ['waveform_length'], {})    stride: ['5000'],\n",
       "\t\tFeatureDescriptor - func: FuncWrapper([seglearn_wrapped]__abs_sum, ['abs_sum'], {})    stride: ['5000'],\n",
       "\t\tFeatureDescriptor - func: FuncWrapper([seglearn_wrapped]__emg_var, ['emg_var'], {})    stride: ['5000'],\n",
       "\t\tFeatureDescriptor - func: FuncWrapper([seglearn_wrapped]__root_mean_square, ['root_mean_square'], {})    stride: ['5000'],\n",
       "\t\tFeatureDescriptor - func: FuncWrapper([seglearn_wrapped]__willison_amplitude, ['willison_amplitude'], {})    stride: ['5000'],\n",
       "\t]\n",
       ")\n",
       "AccML: (\n",
       "\twin: 5000  : [\n",
       "\t\tFeatureDescriptor - func: FuncWrapper([seglearn_wrapped]__mean, ['mean'], {})    stride: ['5000'],\n",
       "\t\tFeatureDescriptor - func: FuncWrapper([seglearn_wrapped]__median, ['median'], {})    stride: ['5000'],\n",
       "\t\tFeatureDescriptor - func: FuncWrapper([seglearn_wrapped]__abs_energy, ['abs_energy'], {})    stride: ['5000'],\n",
       "\t\tFeatureDescriptor - func: FuncWrapper([seglearn_wrapped]__std, ['std'], {})    stride: ['5000'],\n",
       "\t\tFeatureDescriptor - func: FuncWrapper([seglearn_wrapped]__var, ['var'], {})    stride: ['5000'],\n",
       "\t\tFeatureDescriptor - func: FuncWrapper([seglearn_wrapped]__minimum, ['minimum'], {})    stride: ['5000'],\n",
       "\t\tFeatureDescriptor - func: FuncWrapper([seglearn_wrapped]__maximum, ['maximum'], {})    stride: ['5000'],\n",
       "\t\tFeatureDescriptor - func: FuncWrapper([seglearn_wrapped]__skew, ['skew'], {})    stride: ['5000'],\n",
       "\t\tFeatureDescriptor - func: FuncWrapper([seglearn_wrapped]__kurt, ['kurt'], {})    stride: ['5000'],\n",
       "\t\tFeatureDescriptor - func: FuncWrapper([seglearn_wrapped]__mse, ['mse'], {})    stride: ['5000'],\n",
       "\t\tFeatureDescriptor - func: FuncWrapper([seglearn_wrapped]__mean_crossings, ['mean_crossings'], {})    stride: ['5000'],\n",
       "\t\tFeatureDescriptor - func: FuncWrapper([seglearn_wrapped]__mean_abs, ['mean_abs'], {})    stride: ['5000'],\n",
       "\t\tFeatureDescriptor - func: FuncWrapper([seglearn_wrapped]__zero_crossing, ['zero_crossing'], {})    stride: ['5000'],\n",
       "\t\tFeatureDescriptor - func: FuncWrapper([seglearn_wrapped]__slope_sign_changes, ['slope_sign_changes'], {})    stride: ['5000'],\n",
       "\t\tFeatureDescriptor - func: FuncWrapper([seglearn_wrapped]__waveform_length, ['waveform_length'], {})    stride: ['5000'],\n",
       "\t\tFeatureDescriptor - func: FuncWrapper([seglearn_wrapped]__abs_sum, ['abs_sum'], {})    stride: ['5000'],\n",
       "\t\tFeatureDescriptor - func: FuncWrapper([seglearn_wrapped]__emg_var, ['emg_var'], {})    stride: ['5000'],\n",
       "\t\tFeatureDescriptor - func: FuncWrapper([seglearn_wrapped]__root_mean_square, ['root_mean_square'], {})    stride: ['5000'],\n",
       "\t\tFeatureDescriptor - func: FuncWrapper([seglearn_wrapped]__willison_amplitude, ['willison_amplitude'], {})    stride: ['5000'],\n",
       "\t]\n",
       ")\n",
       "AccV: (\n",
       "\twin: 5000  : [\n",
       "\t\tFeatureDescriptor - func: FuncWrapper([seglearn_wrapped]__mean, ['mean'], {})    stride: ['5000'],\n",
       "\t\tFeatureDescriptor - func: FuncWrapper([seglearn_wrapped]__median, ['median'], {})    stride: ['5000'],\n",
       "\t\tFeatureDescriptor - func: FuncWrapper([seglearn_wrapped]__abs_energy, ['abs_energy'], {})    stride: ['5000'],\n",
       "\t\tFeatureDescriptor - func: FuncWrapper([seglearn_wrapped]__std, ['std'], {})    stride: ['5000'],\n",
       "\t\tFeatureDescriptor - func: FuncWrapper([seglearn_wrapped]__var, ['var'], {})    stride: ['5000'],\n",
       "\t\tFeatureDescriptor - func: FuncWrapper([seglearn_wrapped]__minimum, ['minimum'], {})    stride: ['5000'],\n",
       "\t\tFeatureDescriptor - func: FuncWrapper([seglearn_wrapped]__maximum, ['maximum'], {})    stride: ['5000'],\n",
       "\t\tFeatureDescriptor - func: FuncWrapper([seglearn_wrapped]__skew, ['skew'], {})    stride: ['5000'],\n",
       "\t\tFeatureDescriptor - func: FuncWrapper([seglearn_wrapped]__kurt, ['kurt'], {})    stride: ['5000'],\n",
       "\t\tFeatureDescriptor - func: FuncWrapper([seglearn_wrapped]__mse, ['mse'], {})    stride: ['5000'],\n",
       "\t\tFeatureDescriptor - func: FuncWrapper([seglearn_wrapped]__mean_crossings, ['mean_crossings'], {})    stride: ['5000'],\n",
       "\t\tFeatureDescriptor - func: FuncWrapper([seglearn_wrapped]__mean_abs, ['mean_abs'], {})    stride: ['5000'],\n",
       "\t\tFeatureDescriptor - func: FuncWrapper([seglearn_wrapped]__zero_crossing, ['zero_crossing'], {})    stride: ['5000'],\n",
       "\t\tFeatureDescriptor - func: FuncWrapper([seglearn_wrapped]__slope_sign_changes, ['slope_sign_changes'], {})    stride: ['5000'],\n",
       "\t\tFeatureDescriptor - func: FuncWrapper([seglearn_wrapped]__waveform_length, ['waveform_length'], {})    stride: ['5000'],\n",
       "\t\tFeatureDescriptor - func: FuncWrapper([seglearn_wrapped]__abs_sum, ['abs_sum'], {})    stride: ['5000'],\n",
       "\t\tFeatureDescriptor - func: FuncWrapper([seglearn_wrapped]__emg_var, ['emg_var'], {})    stride: ['5000'],\n",
       "\t\tFeatureDescriptor - func: FuncWrapper([seglearn_wrapped]__root_mean_square, ['root_mean_square'], {})    stride: ['5000'],\n",
       "\t\tFeatureDescriptor - func: FuncWrapper([seglearn_wrapped]__willison_amplitude, ['willison_amplitude'], {})    stride: ['5000'],\n",
       "\t]\n",
       ")"
      ]
     },
     "execution_count": 25,
     "metadata": {},
     "output_type": "execute_result"
    }
   ],
   "source": [
    "fc"
   ]
  },
  {
   "cell_type": "markdown",
   "id": "4c90c1ec",
   "metadata": {
    "papermill": {
     "duration": 0.012791,
     "end_time": "2023-04-15T03:56:31.729567",
     "exception": false,
     "start_time": "2023-04-15T03:56:31.716776",
     "status": "completed"
    },
    "tags": []
   },
   "source": [
    "## Feature Extraction"
   ]
  },
  {
   "cell_type": "code",
   "execution_count": 26,
   "id": "8b582ce1",
   "metadata": {
    "execution": {
     "iopub.execute_input": "2023-04-15T03:56:31.757891Z",
     "iopub.status.busy": "2023-04-15T03:56:31.757465Z",
     "iopub.status.idle": "2023-04-15T03:56:31.762287Z",
     "shell.execute_reply": "2023-04-15T03:56:31.761101Z"
    },
    "papermill": {
     "duration": 0.021657,
     "end_time": "2023-04-15T03:56:31.764502",
     "exception": false,
     "start_time": "2023-04-15T03:56:31.742845",
     "status": "completed"
    },
    "tags": []
   },
   "outputs": [],
   "source": [
    "import pathlib"
   ]
  },
  {
   "cell_type": "code",
   "execution_count": 27,
   "id": "8dc6401a",
   "metadata": {
    "execution": {
     "iopub.execute_input": "2023-04-15T03:56:31.792874Z",
     "iopub.status.busy": "2023-04-15T03:56:31.792435Z",
     "iopub.status.idle": "2023-04-15T03:56:31.802698Z",
     "shell.execute_reply": "2023-04-15T03:56:31.801520Z"
    },
    "papermill": {
     "duration": 0.027312,
     "end_time": "2023-04-15T03:56:31.804998",
     "exception": false,
     "start_time": "2023-04-15T03:56:31.777686",
     "status": "completed"
    },
    "tags": []
   },
   "outputs": [],
   "source": [
    "def reader(f):\n",
    "    try:\n",
    "        df = pd.read_csv(f, index_col=\"Time\", usecols=['Time', 'AccV', 'AccML', 'AccAP', 'StartHesitation', 'Turn' , 'Walking'])\n",
    "        \n",
    "        df['Id'] = f.split('/')[-1].split('.')[0]\n",
    "        df['Module'] = pathlib.Path(f).parts[-2]\n",
    "        \n",
    "        df['Time_frac']=(df.index/df.index.max()).values#currently the index of data is actually \"Time\"\n",
    "        \n",
    "        df = pd.merge(df, tasks[['Id','t_kmeans']], how='left', on='Id').fillna(-1)\n",
    "\n",
    "        df = pd.merge(df, metadata_complex[['Id','Subject']+['Visit','Test','Medication','s_kmeans']], how='left', on='Id').fillna(-1)\n",
    "        \n",
    "        ## Apply the tsflex feature collections\n",
    "        df_feats = fc.calculate(df, return_df=True, include_final_window=True, approve_sparsity=True, window_idx=\"begin\").astype(np.float32)\n",
    "        \n",
    "        df = df.merge(df_feats, how=\"left\", left_index=True, right_index=True)\n",
    "        \n",
    "        df.fillna(method=\"ffill\", inplace=True)\n",
    "        \n",
    "        return df\n",
    "    \n",
    "    except: \n",
    "        pass"
   ]
  },
  {
   "cell_type": "code",
   "execution_count": 28,
   "id": "168ed63b",
   "metadata": {
    "execution": {
     "iopub.execute_input": "2023-04-15T03:56:31.833653Z",
     "iopub.status.busy": "2023-04-15T03:56:31.833278Z",
     "iopub.status.idle": "2023-04-15T04:04:39.961211Z",
     "shell.execute_reply": "2023-04-15T04:04:39.959833Z"
    },
    "papermill": {
     "duration": 488.158268,
     "end_time": "2023-04-15T04:04:39.976723",
     "exception": false,
     "start_time": "2023-04-15T03:56:31.818455",
     "status": "completed"
    },
    "tags": []
   },
   "outputs": [
    {
     "data": {
      "application/vnd.jupyter.widget-view+json": {
       "model_id": "fcf600c0982f459890994375c6d8854e",
       "version_major": 2,
       "version_minor": 0
      },
      "text/plain": [
       "  0%|          | 0/970 [00:00<?, ?it/s]"
      ]
     },
     "metadata": {},
     "output_type": "display_data"
    },
    {
     "name": "stdout",
     "output_type": "stream",
     "text": [
      "(20588374, 72)\n"
     ]
    }
   ],
   "source": [
    "train = pd.concat([reader(f) for f in tqdm(train)]).fillna(0); print(train.shape)"
   ]
  },
  {
   "cell_type": "code",
   "execution_count": 29,
   "id": "990002c1",
   "metadata": {
    "execution": {
     "iopub.execute_input": "2023-04-15T04:04:40.006659Z",
     "iopub.status.busy": "2023-04-15T04:04:40.005410Z",
     "iopub.status.idle": "2023-04-15T04:04:40.058521Z",
     "shell.execute_reply": "2023-04-15T04:04:40.057679Z"
    },
    "papermill": {
     "duration": 0.070514,
     "end_time": "2023-04-15T04:04:40.060659",
     "exception": false,
     "start_time": "2023-04-15T04:04:39.990145",
     "status": "completed"
    },
    "tags": []
   },
   "outputs": [
    {
     "data": {
      "text/html": [
       "<div>\n",
       "<style scoped>\n",
       "    .dataframe tbody tr th:only-of-type {\n",
       "        vertical-align: middle;\n",
       "    }\n",
       "\n",
       "    .dataframe tbody tr th {\n",
       "        vertical-align: top;\n",
       "    }\n",
       "\n",
       "    .dataframe thead th {\n",
       "        text-align: right;\n",
       "    }\n",
       "</style>\n",
       "<table border=\"1\" class=\"dataframe\">\n",
       "  <thead>\n",
       "    <tr style=\"text-align: right;\">\n",
       "      <th></th>\n",
       "      <th>AccV</th>\n",
       "      <th>AccML</th>\n",
       "      <th>AccAP</th>\n",
       "      <th>StartHesitation</th>\n",
       "      <th>Turn</th>\n",
       "      <th>Walking</th>\n",
       "      <th>Id</th>\n",
       "      <th>Module</th>\n",
       "      <th>Time_frac</th>\n",
       "      <th>t_kmeans</th>\n",
       "      <th>Subject</th>\n",
       "      <th>Visit</th>\n",
       "      <th>Test</th>\n",
       "      <th>Medication</th>\n",
       "      <th>s_kmeans</th>\n",
       "      <th>AccAP__abs_energy__w=5000</th>\n",
       "      <th>AccAP__abs_sum__w=5000</th>\n",
       "      <th>AccAP__emg_var__w=5000</th>\n",
       "      <th>AccAP__kurt__w=5000</th>\n",
       "      <th>AccAP__maximum__w=5000</th>\n",
       "      <th>AccAP__mean__w=5000</th>\n",
       "      <th>AccAP__mean_abs__w=5000</th>\n",
       "      <th>AccAP__mean_crossings__w=5000</th>\n",
       "      <th>AccAP__median__w=5000</th>\n",
       "      <th>AccAP__minimum__w=5000</th>\n",
       "      <th>AccAP__mse__w=5000</th>\n",
       "      <th>AccAP__root_mean_square__w=5000</th>\n",
       "      <th>AccAP__skew__w=5000</th>\n",
       "      <th>AccAP__slope_sign_changes__w=5000</th>\n",
       "      <th>AccAP__std__w=5000</th>\n",
       "      <th>AccAP__var__w=5000</th>\n",
       "      <th>AccAP__waveform_length__w=5000</th>\n",
       "      <th>AccAP__willison_amplitude__w=5000</th>\n",
       "      <th>AccAP__zero_crossing__w=5000</th>\n",
       "      <th>AccML__abs_energy__w=5000</th>\n",
       "      <th>AccML__abs_sum__w=5000</th>\n",
       "      <th>AccML__emg_var__w=5000</th>\n",
       "      <th>AccML__kurt__w=5000</th>\n",
       "      <th>AccML__maximum__w=5000</th>\n",
       "      <th>AccML__mean__w=5000</th>\n",
       "      <th>AccML__mean_abs__w=5000</th>\n",
       "      <th>AccML__mean_crossings__w=5000</th>\n",
       "      <th>AccML__median__w=5000</th>\n",
       "      <th>AccML__minimum__w=5000</th>\n",
       "      <th>AccML__mse__w=5000</th>\n",
       "      <th>AccML__root_mean_square__w=5000</th>\n",
       "      <th>AccML__skew__w=5000</th>\n",
       "      <th>AccML__slope_sign_changes__w=5000</th>\n",
       "      <th>AccML__std__w=5000</th>\n",
       "      <th>AccML__var__w=5000</th>\n",
       "      <th>AccML__waveform_length__w=5000</th>\n",
       "      <th>AccML__willison_amplitude__w=5000</th>\n",
       "      <th>AccML__zero_crossing__w=5000</th>\n",
       "      <th>AccV__abs_energy__w=5000</th>\n",
       "      <th>AccV__abs_sum__w=5000</th>\n",
       "      <th>AccV__emg_var__w=5000</th>\n",
       "      <th>AccV__kurt__w=5000</th>\n",
       "      <th>AccV__maximum__w=5000</th>\n",
       "      <th>AccV__mean__w=5000</th>\n",
       "      <th>AccV__mean_abs__w=5000</th>\n",
       "      <th>AccV__mean_crossings__w=5000</th>\n",
       "      <th>AccV__median__w=5000</th>\n",
       "      <th>AccV__minimum__w=5000</th>\n",
       "      <th>AccV__mse__w=5000</th>\n",
       "      <th>AccV__root_mean_square__w=5000</th>\n",
       "      <th>AccV__skew__w=5000</th>\n",
       "      <th>AccV__slope_sign_changes__w=5000</th>\n",
       "      <th>AccV__std__w=5000</th>\n",
       "      <th>AccV__var__w=5000</th>\n",
       "      <th>AccV__waveform_length__w=5000</th>\n",
       "      <th>AccV__willison_amplitude__w=5000</th>\n",
       "      <th>AccV__zero_crossing__w=5000</th>\n",
       "    </tr>\n",
       "  </thead>\n",
       "  <tbody>\n",
       "    <tr>\n",
       "      <th>0</th>\n",
       "      <td>-1.002697</td>\n",
       "      <td>0.022371</td>\n",
       "      <td>0.068304</td>\n",
       "      <td>0</td>\n",
       "      <td>0</td>\n",
       "      <td>0</td>\n",
       "      <td>be9d33541d</td>\n",
       "      <td>defog</td>\n",
       "      <td>0.000000</td>\n",
       "      <td>0.0</td>\n",
       "      <td>49f526</td>\n",
       "      <td>1</td>\n",
       "      <td>-1.0</td>\n",
       "      <td>0</td>\n",
       "      <td>2</td>\n",
       "      <td>115.534416</td>\n",
       "      <td>662.12384</td>\n",
       "      <td>0.023112</td>\n",
       "      <td>0.536912</td>\n",
       "      <td>0.36955</td>\n",
       "      <td>0.111433</td>\n",
       "      <td>0.132425</td>\n",
       "      <td>120.0</td>\n",
       "      <td>0.144087</td>\n",
       "      <td>-0.4458</td>\n",
       "      <td>115.534416</td>\n",
       "      <td>0.152009</td>\n",
       "      <td>-0.897214</td>\n",
       "      <td>1663.0</td>\n",
       "      <td>0.10339</td>\n",
       "      <td>0.01069</td>\n",
       "      <td>43.071453</td>\n",
       "      <td>4999.0</td>\n",
       "      <td>4999.0</td>\n",
       "      <td>39.403107</td>\n",
       "      <td>288.67923</td>\n",
       "      <td>0.007882</td>\n",
       "      <td>6.877556</td>\n",
       "      <td>0.684099</td>\n",
       "      <td>0.012571</td>\n",
       "      <td>0.057736</td>\n",
       "      <td>179.0</td>\n",
       "      <td>0.015336</td>\n",
       "      <td>-0.660446</td>\n",
       "      <td>39.403107</td>\n",
       "      <td>0.088773</td>\n",
       "      <td>0.103732</td>\n",
       "      <td>1269.0</td>\n",
       "      <td>0.087878</td>\n",
       "      <td>0.007723</td>\n",
       "      <td>54.090939</td>\n",
       "      <td>4999.0</td>\n",
       "      <td>4999.0</td>\n",
       "      <td>4976.811035</td>\n",
       "      <td>4958.188965</td>\n",
       "      <td>0.995561</td>\n",
       "      <td>25.696182</td>\n",
       "      <td>-0.617042</td>\n",
       "      <td>-0.991638</td>\n",
       "      <td>0.991638</td>\n",
       "      <td>0.0</td>\n",
       "      <td>-0.98608</td>\n",
       "      <td>-2.295443</td>\n",
       "      <td>4976.811035</td>\n",
       "      <td>0.997678</td>\n",
       "      <td>-3.076039</td>\n",
       "      <td>1459.0</td>\n",
       "      <td>0.10962</td>\n",
       "      <td>0.012017</td>\n",
       "      <td>75.765259</td>\n",
       "      <td>4999.0</td>\n",
       "      <td>4999.0</td>\n",
       "    </tr>\n",
       "    <tr>\n",
       "      <th>1</th>\n",
       "      <td>-1.002641</td>\n",
       "      <td>0.019173</td>\n",
       "      <td>0.066162</td>\n",
       "      <td>0</td>\n",
       "      <td>0</td>\n",
       "      <td>0</td>\n",
       "      <td>be9d33541d</td>\n",
       "      <td>defog</td>\n",
       "      <td>0.000008</td>\n",
       "      <td>0.0</td>\n",
       "      <td>49f526</td>\n",
       "      <td>1</td>\n",
       "      <td>-1.0</td>\n",
       "      <td>0</td>\n",
       "      <td>2</td>\n",
       "      <td>115.534416</td>\n",
       "      <td>662.12384</td>\n",
       "      <td>0.023112</td>\n",
       "      <td>0.536912</td>\n",
       "      <td>0.36955</td>\n",
       "      <td>0.111433</td>\n",
       "      <td>0.132425</td>\n",
       "      <td>120.0</td>\n",
       "      <td>0.144087</td>\n",
       "      <td>-0.4458</td>\n",
       "      <td>115.534416</td>\n",
       "      <td>0.152009</td>\n",
       "      <td>-0.897214</td>\n",
       "      <td>1663.0</td>\n",
       "      <td>0.10339</td>\n",
       "      <td>0.01069</td>\n",
       "      <td>43.071453</td>\n",
       "      <td>4999.0</td>\n",
       "      <td>4999.0</td>\n",
       "      <td>39.403107</td>\n",
       "      <td>288.67923</td>\n",
       "      <td>0.007882</td>\n",
       "      <td>6.877556</td>\n",
       "      <td>0.684099</td>\n",
       "      <td>0.012571</td>\n",
       "      <td>0.057736</td>\n",
       "      <td>179.0</td>\n",
       "      <td>0.015336</td>\n",
       "      <td>-0.660446</td>\n",
       "      <td>39.403107</td>\n",
       "      <td>0.088773</td>\n",
       "      <td>0.103732</td>\n",
       "      <td>1269.0</td>\n",
       "      <td>0.087878</td>\n",
       "      <td>0.007723</td>\n",
       "      <td>54.090939</td>\n",
       "      <td>4999.0</td>\n",
       "      <td>4999.0</td>\n",
       "      <td>4976.811035</td>\n",
       "      <td>4958.188965</td>\n",
       "      <td>0.995561</td>\n",
       "      <td>25.696182</td>\n",
       "      <td>-0.617042</td>\n",
       "      <td>-0.991638</td>\n",
       "      <td>0.991638</td>\n",
       "      <td>0.0</td>\n",
       "      <td>-0.98608</td>\n",
       "      <td>-2.295443</td>\n",
       "      <td>4976.811035</td>\n",
       "      <td>0.997678</td>\n",
       "      <td>-3.076039</td>\n",
       "      <td>1459.0</td>\n",
       "      <td>0.10962</td>\n",
       "      <td>0.012017</td>\n",
       "      <td>75.765259</td>\n",
       "      <td>4999.0</td>\n",
       "      <td>4999.0</td>\n",
       "    </tr>\n",
       "  </tbody>\n",
       "</table>\n",
       "</div>"
      ],
      "text/plain": [
       "       AccV     AccML     AccAP  StartHesitation  Turn  Walking          Id Module  Time_frac  t_kmeans Subject  Visit  Test  Medication  s_kmeans  AccAP__abs_energy__w=5000  AccAP__abs_sum__w=5000  AccAP__emg_var__w=5000  AccAP__kurt__w=5000  AccAP__maximum__w=5000  AccAP__mean__w=5000  AccAP__mean_abs__w=5000  AccAP__mean_crossings__w=5000  AccAP__median__w=5000  AccAP__minimum__w=5000  AccAP__mse__w=5000  AccAP__root_mean_square__w=5000  AccAP__skew__w=5000  AccAP__slope_sign_changes__w=5000  AccAP__std__w=5000  AccAP__var__w=5000  AccAP__waveform_length__w=5000  AccAP__willison_amplitude__w=5000  AccAP__zero_crossing__w=5000  AccML__abs_energy__w=5000  AccML__abs_sum__w=5000  AccML__emg_var__w=5000  AccML__kurt__w=5000  AccML__maximum__w=5000  AccML__mean__w=5000  AccML__mean_abs__w=5000  AccML__mean_crossings__w=5000  AccML__median__w=5000  AccML__minimum__w=5000  AccML__mse__w=5000  AccML__root_mean_square__w=5000  AccML__skew__w=5000  AccML__slope_sign_changes__w=5000  \\\n",
       "0 -1.002697  0.022371  0.068304                0     0        0  be9d33541d  defog   0.000000       0.0  49f526      1  -1.0           0         2                 115.534416               662.12384                0.023112             0.536912                 0.36955             0.111433                 0.132425                          120.0               0.144087                 -0.4458          115.534416                         0.152009            -0.897214                             1663.0             0.10339             0.01069                       43.071453                             4999.0                        4999.0                  39.403107               288.67923                0.007882             6.877556                0.684099             0.012571                 0.057736                          179.0               0.015336               -0.660446           39.403107                         0.088773             0.103732                             1269.0   \n",
       "1 -1.002641  0.019173  0.066162                0     0        0  be9d33541d  defog   0.000008       0.0  49f526      1  -1.0           0         2                 115.534416               662.12384                0.023112             0.536912                 0.36955             0.111433                 0.132425                          120.0               0.144087                 -0.4458          115.534416                         0.152009            -0.897214                             1663.0             0.10339             0.01069                       43.071453                             4999.0                        4999.0                  39.403107               288.67923                0.007882             6.877556                0.684099             0.012571                 0.057736                          179.0               0.015336               -0.660446           39.403107                         0.088773             0.103732                             1269.0   \n",
       "\n",
       "   AccML__std__w=5000  AccML__var__w=5000  AccML__waveform_length__w=5000  AccML__willison_amplitude__w=5000  AccML__zero_crossing__w=5000  AccV__abs_energy__w=5000  AccV__abs_sum__w=5000  AccV__emg_var__w=5000  AccV__kurt__w=5000  AccV__maximum__w=5000  AccV__mean__w=5000  AccV__mean_abs__w=5000  AccV__mean_crossings__w=5000  AccV__median__w=5000  AccV__minimum__w=5000  AccV__mse__w=5000  AccV__root_mean_square__w=5000  AccV__skew__w=5000  AccV__slope_sign_changes__w=5000  AccV__std__w=5000  AccV__var__w=5000  AccV__waveform_length__w=5000  AccV__willison_amplitude__w=5000  AccV__zero_crossing__w=5000  \n",
       "0            0.087878            0.007723                       54.090939                             4999.0                        4999.0               4976.811035            4958.188965               0.995561           25.696182              -0.617042           -0.991638                0.991638                           0.0              -0.98608              -2.295443        4976.811035                        0.997678           -3.076039                            1459.0            0.10962           0.012017                      75.765259                            4999.0                       4999.0  \n",
       "1            0.087878            0.007723                       54.090939                             4999.0                        4999.0               4976.811035            4958.188965               0.995561           25.696182              -0.617042           -0.991638                0.991638                           0.0              -0.98608              -2.295443        4976.811035                        0.997678           -3.076039                            1459.0            0.10962           0.012017                      75.765259                            4999.0                       4999.0  "
      ]
     },
     "execution_count": 29,
     "metadata": {},
     "output_type": "execute_result"
    }
   ],
   "source": [
    "train.head(2)"
   ]
  },
  {
   "cell_type": "code",
   "execution_count": 30,
   "id": "13ac50c2",
   "metadata": {
    "execution": {
     "iopub.execute_input": "2023-04-15T04:04:40.091539Z",
     "iopub.status.busy": "2023-04-15T04:04:40.090756Z",
     "iopub.status.idle": "2023-04-15T04:04:40.095815Z",
     "shell.execute_reply": "2023-04-15T04:04:40.095006Z"
    },
    "papermill": {
     "duration": 0.022783,
     "end_time": "2023-04-15T04:04:40.097814",
     "exception": false,
     "start_time": "2023-04-15T04:04:40.075031",
     "status": "completed"
    },
    "tags": []
   },
   "outputs": [],
   "source": [
    "cols = [c for c in train.columns if c not in ['Id','Subject','Module', 'Time', 'StartHesitation', 'Turn' , 'Walking', 'Valid', 'Task','Event']]"
   ]
  },
  {
   "cell_type": "code",
   "execution_count": 31,
   "id": "13671f9a",
   "metadata": {
    "execution": {
     "iopub.execute_input": "2023-04-15T04:04:40.127922Z",
     "iopub.status.busy": "2023-04-15T04:04:40.127461Z",
     "iopub.status.idle": "2023-04-15T04:04:40.134140Z",
     "shell.execute_reply": "2023-04-15T04:04:40.133312Z"
    },
    "papermill": {
     "duration": 0.024325,
     "end_time": "2023-04-15T04:04:40.136252",
     "exception": false,
     "start_time": "2023-04-15T04:04:40.111927",
     "status": "completed"
    },
    "tags": []
   },
   "outputs": [
    {
     "data": {
      "text/plain": [
       "['AccV',\n",
       " 'AccML',\n",
       " 'AccAP',\n",
       " 'Time_frac',\n",
       " 't_kmeans',\n",
       " 'Visit',\n",
       " 'Test',\n",
       " 'Medication',\n",
       " 's_kmeans',\n",
       " 'AccAP__abs_energy__w=5000',\n",
       " 'AccAP__abs_sum__w=5000',\n",
       " 'AccAP__emg_var__w=5000',\n",
       " 'AccAP__kurt__w=5000',\n",
       " 'AccAP__maximum__w=5000',\n",
       " 'AccAP__mean__w=5000',\n",
       " 'AccAP__mean_abs__w=5000',\n",
       " 'AccAP__mean_crossings__w=5000',\n",
       " 'AccAP__median__w=5000',\n",
       " 'AccAP__minimum__w=5000',\n",
       " 'AccAP__mse__w=5000',\n",
       " 'AccAP__root_mean_square__w=5000',\n",
       " 'AccAP__skew__w=5000',\n",
       " 'AccAP__slope_sign_changes__w=5000',\n",
       " 'AccAP__std__w=5000',\n",
       " 'AccAP__var__w=5000',\n",
       " 'AccAP__waveform_length__w=5000',\n",
       " 'AccAP__willison_amplitude__w=5000',\n",
       " 'AccAP__zero_crossing__w=5000',\n",
       " 'AccML__abs_energy__w=5000',\n",
       " 'AccML__abs_sum__w=5000',\n",
       " 'AccML__emg_var__w=5000',\n",
       " 'AccML__kurt__w=5000',\n",
       " 'AccML__maximum__w=5000',\n",
       " 'AccML__mean__w=5000',\n",
       " 'AccML__mean_abs__w=5000',\n",
       " 'AccML__mean_crossings__w=5000',\n",
       " 'AccML__median__w=5000',\n",
       " 'AccML__minimum__w=5000',\n",
       " 'AccML__mse__w=5000',\n",
       " 'AccML__root_mean_square__w=5000',\n",
       " 'AccML__skew__w=5000',\n",
       " 'AccML__slope_sign_changes__w=5000',\n",
       " 'AccML__std__w=5000',\n",
       " 'AccML__var__w=5000',\n",
       " 'AccML__waveform_length__w=5000',\n",
       " 'AccML__willison_amplitude__w=5000',\n",
       " 'AccML__zero_crossing__w=5000',\n",
       " 'AccV__abs_energy__w=5000',\n",
       " 'AccV__abs_sum__w=5000',\n",
       " 'AccV__emg_var__w=5000',\n",
       " 'AccV__kurt__w=5000',\n",
       " 'AccV__maximum__w=5000',\n",
       " 'AccV__mean__w=5000',\n",
       " 'AccV__mean_abs__w=5000',\n",
       " 'AccV__mean_crossings__w=5000',\n",
       " 'AccV__median__w=5000',\n",
       " 'AccV__minimum__w=5000',\n",
       " 'AccV__mse__w=5000',\n",
       " 'AccV__root_mean_square__w=5000',\n",
       " 'AccV__skew__w=5000',\n",
       " 'AccV__slope_sign_changes__w=5000',\n",
       " 'AccV__std__w=5000',\n",
       " 'AccV__var__w=5000',\n",
       " 'AccV__waveform_length__w=5000',\n",
       " 'AccV__willison_amplitude__w=5000',\n",
       " 'AccV__zero_crossing__w=5000']"
      ]
     },
     "execution_count": 31,
     "metadata": {},
     "output_type": "execute_result"
    }
   ],
   "source": [
    "cols"
   ]
  },
  {
   "cell_type": "code",
   "execution_count": 32,
   "id": "122c2d80",
   "metadata": {
    "execution": {
     "iopub.execute_input": "2023-04-15T04:04:40.167034Z",
     "iopub.status.busy": "2023-04-15T04:04:40.166039Z",
     "iopub.status.idle": "2023-04-15T04:04:40.170537Z",
     "shell.execute_reply": "2023-04-15T04:04:40.169780Z"
    },
    "papermill": {
     "duration": 0.022347,
     "end_time": "2023-04-15T04:04:40.172769",
     "exception": false,
     "start_time": "2023-04-15T04:04:40.150422",
     "status": "completed"
    },
    "tags": []
   },
   "outputs": [],
   "source": [
    "pcols = ['StartHesitation', 'Turn' , 'Walking']"
   ]
  },
  {
   "cell_type": "code",
   "execution_count": 33,
   "id": "ee8973b8",
   "metadata": {
    "execution": {
     "iopub.execute_input": "2023-04-15T04:04:40.203707Z",
     "iopub.status.busy": "2023-04-15T04:04:40.202603Z",
     "iopub.status.idle": "2023-04-15T04:04:40.207377Z",
     "shell.execute_reply": "2023-04-15T04:04:40.206553Z"
    },
    "papermill": {
     "duration": 0.022407,
     "end_time": "2023-04-15T04:04:40.209550",
     "exception": false,
     "start_time": "2023-04-15T04:04:40.187143",
     "status": "completed"
    },
    "tags": []
   },
   "outputs": [],
   "source": [
    "scols = ['Id', 'StartHesitation', 'Turn' , 'Walking']"
   ]
  },
  {
   "cell_type": "code",
   "execution_count": 34,
   "id": "b6323cb2",
   "metadata": {
    "execution": {
     "iopub.execute_input": "2023-04-15T04:04:40.239873Z",
     "iopub.status.busy": "2023-04-15T04:04:40.239420Z",
     "iopub.status.idle": "2023-04-15T04:04:48.659138Z",
     "shell.execute_reply": "2023-04-15T04:04:48.650926Z"
    },
    "papermill": {
     "duration": 8.459237,
     "end_time": "2023-04-15T04:04:48.683169",
     "exception": false,
     "start_time": "2023-04-15T04:04:40.223932",
     "status": "completed"
    },
    "tags": []
   },
   "outputs": [],
   "source": [
    "train=train.reset_index(drop=True)"
   ]
  },
  {
   "cell_type": "markdown",
   "id": "0514c606",
   "metadata": {
    "papermill": {
     "duration": 0.074776,
     "end_time": "2023-04-15T04:04:48.854180",
     "exception": false,
     "start_time": "2023-04-15T04:04:48.779404",
     "status": "completed"
    },
    "tags": []
   },
   "source": [
    "## Looking at the distribution of Time for different target variable"
   ]
  },
  {
   "cell_type": "code",
   "execution_count": 35,
   "id": "5c27b2f3",
   "metadata": {
    "execution": {
     "iopub.execute_input": "2023-04-15T04:04:49.022825Z",
     "iopub.status.busy": "2023-04-15T04:04:49.018517Z",
     "iopub.status.idle": "2023-04-15T04:04:50.606542Z",
     "shell.execute_reply": "2023-04-15T04:04:50.602125Z"
    },
    "papermill": {
     "duration": 1.67696,
     "end_time": "2023-04-15T04:04:50.609411",
     "exception": false,
     "start_time": "2023-04-15T04:04:48.932451",
     "status": "completed"
    },
    "tags": []
   },
   "outputs": [
    {
     "data": {
      "text/plain": [
       "<AxesSubplot:>"
      ]
     },
     "execution_count": 35,
     "metadata": {},
     "output_type": "execute_result"
    },
    {
     "data": {
      "image/png": "[encoded data removed]",
      "text/plain": [
       "<Figure size 2000x1000 with 3 Axes>"
      ]
     },
     "metadata": {},
     "output_type": "display_data"
    }
   ],
   "source": [
    "import matplotlib.pyplot as plt\n",
    "fig,ax=plt.subplots(3,1,figsize=(20,10))\n",
    "\n",
    "train.loc[train['StartHesitation']==1,'Time_frac'].hist(ax=ax[0],bins=100)\n",
    "train.loc[train['Turn']==1,'Time_frac'].hist(ax=ax[1],bins=100)\n",
    "train.loc[train['Walking']==1,'Time_frac'].hist(ax=ax[2],bins=100)"
   ]
  },
  {
   "cell_type": "markdown",
   "id": "2067bf4b",
   "metadata": {
    "papermill": {
     "duration": 0.019592,
     "end_time": "2023-04-15T04:04:50.655462",
     "exception": false,
     "start_time": "2023-04-15T04:04:50.635870",
     "status": "completed"
    },
    "tags": []
   },
   "source": [
    "### Start Hesitation occurs at the beginning\n",
    "### Turn occurs at the middle\n",
    "### Walking occurs frequently at last stage.\n",
    "\n",
    "### Time sequence: Start Hesitation > Turn > Walking"
   ]
  },
  {
   "cell_type": "markdown",
   "id": "2f842b30",
   "metadata": {
    "papermill": {
     "duration": 0.017501,
     "end_time": "2023-04-15T04:04:50.690378",
     "exception": false,
     "start_time": "2023-04-15T04:04:50.672877",
     "status": "completed"
    },
    "tags": []
   },
   "source": [
    "## Train the model"
   ]
  },
  {
   "cell_type": "code",
   "execution_count": 36,
   "id": "8b239851",
   "metadata": {
    "execution": {
     "iopub.execute_input": "2023-04-15T04:04:50.727737Z",
     "iopub.status.busy": "2023-04-15T04:04:50.726839Z",
     "iopub.status.idle": "2023-04-15T04:04:52.473474Z",
     "shell.execute_reply": "2023-04-15T04:04:52.471825Z"
    },
    "papermill": {
     "duration": 1.770157,
     "end_time": "2023-04-15T04:04:52.477823",
     "exception": false,
     "start_time": "2023-04-15T04:04:50.707666",
     "status": "completed"
    },
    "tags": []
   },
   "outputs": [
    {
     "data": {
      "text/html": [
       "<style type='text/css'>\n",
       ".datatable table.frame { margin-bottom: 0; }\n",
       ".datatable table.frame thead { border-bottom: none; }\n",
       ".datatable table.frame tr.coltypes td {  color: #FFFFFF;  line-height: 6px;  padding: 0 0.5em;}\n",
       ".datatable .bool    { background: #DDDD99; }\n",
       ".datatable .object  { background: #565656; }\n",
       ".datatable .int     { background: #5D9E5D; }\n",
       ".datatable .float   { background: #4040CC; }\n",
       ".datatable .str     { background: #CC4040; }\n",
       ".datatable .time    { background: #40CC40; }\n",
       ".datatable .row_index {  background: var(--jp-border-color3);  border-right: 1px solid var(--jp-border-color0);  color: var(--jp-ui-font-color3);  font-size: 9px;}\n",
       ".datatable .frame tbody td { text-align: left; }\n",
       ".datatable .frame tr.coltypes .row_index {  background: var(--jp-border-color0);}\n",
       ".datatable th:nth-child(2) { padding-left: 12px; }\n",
       ".datatable .hellipsis {  color: var(--jp-cell-editor-border-color);}\n",
       ".datatable .vellipsis {  background: var(--jp-layout-color0);  color: var(--jp-cell-editor-border-color);}\n",
       ".datatable .na {  color: var(--jp-cell-editor-border-color);  font-size: 80%;}\n",
       ".datatable .sp {  opacity: 0.25;}\n",
       ".datatable .footer { font-size: 9px; }\n",
       ".datatable .frame_dimensions {  background: var(--jp-border-color3);  border-top: 1px solid var(--jp-border-color0);  color: var(--jp-ui-font-color3);  display: inline-block;  opacity: 0.6;  padding: 1px 10px 1px 5px;}\n",
       "</style>\n"
      ],
      "text/plain": [
       "<IPython.core.display.HTML object>"
      ]
     },
     "metadata": {},
     "output_type": "display_data"
    }
   ],
   "source": [
    "import xgboost as xgb\n",
    "import lightgbm as lgb\n",
    "from sklearn.multioutput import MultiOutputRegressor\n",
    "from sklearn.metrics import mean_squared_error, r2_score"
   ]
  },
  {
   "cell_type": "code",
   "execution_count": 37,
   "id": "93e995e9",
   "metadata": {
    "execution": {
     "iopub.execute_input": "2023-04-15T04:04:52.544656Z",
     "iopub.status.busy": "2023-04-15T04:04:52.543825Z",
     "iopub.status.idle": "2023-04-15T04:04:52.550270Z",
     "shell.execute_reply": "2023-04-15T04:04:52.549013Z"
    },
    "papermill": {
     "duration": 0.043696,
     "end_time": "2023-04-15T04:04:52.553569",
     "exception": false,
     "start_time": "2023-04-15T04:04:52.509873",
     "status": "completed"
    },
    "tags": []
   },
   "outputs": [],
   "source": [
    "import numpy as np\n",
    "import xgboost as xgb\n",
    "from sklearn.model_selection import RandomizedSearchCV, train_test_split\n",
    "from scipy.stats import uniform, randint\n",
    "from sklearn.metrics import average_precision_score, make_scorer"
   ]
  },
  {
   "cell_type": "code",
   "execution_count": 38,
   "id": "9de9fc8e",
   "metadata": {
    "execution": {
     "iopub.execute_input": "2023-04-15T04:04:52.601780Z",
     "iopub.status.busy": "2023-04-15T04:04:52.600949Z",
     "iopub.status.idle": "2023-04-15T04:04:52.607192Z",
     "shell.execute_reply": "2023-04-15T04:04:52.605980Z"
    },
    "papermill": {
     "duration": 0.026118,
     "end_time": "2023-04-15T04:04:52.609687",
     "exception": false,
     "start_time": "2023-04-15T04:04:52.583569",
     "status": "completed"
    },
    "tags": []
   },
   "outputs": [],
   "source": [
    "best_params_ = {'estimator__colsample_bytree': 0.5282057895135501, \n",
    " 'estimator__learning_rate': 0.22659963168004743, \n",
    " 'estimator__max_depth': 8, \n",
    " 'estimator__min_child_weight': 3.1233911067827616, \n",
    " 'estimator__n_estimators': 291, \n",
    " 'estimator__subsample': 0.9961057796456088}"
   ]
  },
  {
   "cell_type": "code",
   "execution_count": 39,
   "id": "fa827d50",
   "metadata": {
    "execution": {
     "iopub.execute_input": "2023-04-15T04:04:52.643704Z",
     "iopub.status.busy": "2023-04-15T04:04:52.642411Z",
     "iopub.status.idle": "2023-04-15T04:04:52.649120Z",
     "shell.execute_reply": "2023-04-15T04:04:52.647824Z"
    },
    "papermill": {
     "duration": 0.025952,
     "end_time": "2023-04-15T04:04:52.651446",
     "exception": false,
     "start_time": "2023-04-15T04:04:52.625494",
     "status": "completed"
    },
    "tags": []
   },
   "outputs": [],
   "source": [
    "best_params_ = {kk: v for k, v in best_params_.items() for kk in k.split('__')}; del best_params_['estimator']"
   ]
  },
  {
   "cell_type": "code",
   "execution_count": 40,
   "id": "382f26a5",
   "metadata": {
    "execution": {
     "iopub.execute_input": "2023-04-15T04:04:52.684007Z",
     "iopub.status.busy": "2023-04-15T04:04:52.683322Z",
     "iopub.status.idle": "2023-04-15T04:04:52.690098Z",
     "shell.execute_reply": "2023-04-15T04:04:52.689211Z"
    },
    "papermill": {
     "duration": 0.025522,
     "end_time": "2023-04-15T04:04:52.692320",
     "exception": false,
     "start_time": "2023-04-15T04:04:52.666798",
     "status": "completed"
    },
    "tags": []
   },
   "outputs": [
    {
     "data": {
      "text/plain": [
       "{'colsample_bytree': 0.5282057895135501,\n",
       " 'learning_rate': 0.22659963168004743,\n",
       " 'max_depth': 8,\n",
       " 'min_child_weight': 3.1233911067827616,\n",
       " 'n_estimators': 291,\n",
       " 'subsample': 0.9961057796456088}"
      ]
     },
     "execution_count": 40,
     "metadata": {},
     "output_type": "execute_result"
    }
   ],
   "source": [
    "best_params_ "
   ]
  },
  {
   "cell_type": "code",
   "execution_count": 41,
   "id": "4e147554",
   "metadata": {
    "execution": {
     "iopub.execute_input": "2023-04-15T04:04:52.725867Z",
     "iopub.status.busy": "2023-04-15T04:04:52.725013Z",
     "iopub.status.idle": "2023-04-15T04:04:52.730214Z",
     "shell.execute_reply": "2023-04-15T04:04:52.729097Z"
    },
    "papermill": {
     "duration": 0.024809,
     "end_time": "2023-04-15T04:04:52.732372",
     "exception": false,
     "start_time": "2023-04-15T04:04:52.707563",
     "status": "completed"
    },
    "tags": []
   },
   "outputs": [],
   "source": [
    "from sklearn.base import clone"
   ]
  },
  {
   "cell_type": "code",
   "execution_count": 42,
   "id": "7d2d1a54",
   "metadata": {
    "execution": {
     "iopub.execute_input": "2023-04-15T04:04:52.764964Z",
     "iopub.status.busy": "2023-04-15T04:04:52.764391Z",
     "iopub.status.idle": "2023-04-15T04:04:52.769960Z",
     "shell.execute_reply": "2023-04-15T04:04:52.768817Z"
    },
    "papermill": {
     "duration": 0.024561,
     "end_time": "2023-04-15T04:04:52.772382",
     "exception": false,
     "start_time": "2023-04-15T04:04:52.747821",
     "status": "completed"
    },
    "tags": []
   },
   "outputs": [],
   "source": [
    "def custom_average_precision(y_true, y_pred):\n",
    "    score = average_precision_score(y_true, y_pred)\n",
    "    return 'average_precision', score, True"
   ]
  },
  {
   "cell_type": "code",
   "execution_count": 43,
   "id": "bba39643",
   "metadata": {
    "execution": {
     "iopub.execute_input": "2023-04-15T04:04:52.805439Z",
     "iopub.status.busy": "2023-04-15T04:04:52.804588Z",
     "iopub.status.idle": "2023-04-15T04:04:52.812971Z",
     "shell.execute_reply": "2023-04-15T04:04:52.811717Z"
    },
    "papermill": {
     "duration": 0.027761,
     "end_time": "2023-04-15T04:04:52.815432",
     "exception": false,
     "start_time": "2023-04-15T04:04:52.787671",
     "status": "completed"
    },
    "tags": []
   },
   "outputs": [],
   "source": [
    "class LGBMMultiOutputRegressor(MultiOutputRegressor):\n",
    "    def fit(self, X, y, eval_set=None, **fit_params):\n",
    "        self.estimators_ = [clone(self.estimator) for _ in range(y.shape[1])]\n",
    "        \n",
    "        for i, estimator in enumerate(self.estimators_):\n",
    "            if eval_set:\n",
    "                fit_params['eval_set'] = [(eval_set[0], eval_set[1][:, i])]\n",
    "            estimator.fit(X, y[:, i], **fit_params)\n",
    "        \n",
    "        return self"
   ]
  },
  {
   "cell_type": "code",
   "execution_count": 44,
   "id": "4790c355",
   "metadata": {
    "collapsed": true,
    "execution": {
     "iopub.execute_input": "2023-04-15T04:04:52.848066Z",
     "iopub.status.busy": "2023-04-15T04:04:52.847664Z",
     "iopub.status.idle": "2023-04-15T04:20:01.126055Z",
     "shell.execute_reply": "2023-04-15T04:20:01.124575Z"
    },
    "jupyter": {
     "outputs_hidden": true
    },
    "papermill": {
     "duration": 908.344533,
     "end_time": "2023-04-15T04:20:01.175564",
     "exception": false,
     "start_time": "2023-04-15T04:04:52.831031",
     "status": "completed"
    },
    "tags": []
   },
   "outputs": [
    {
     "data": {
      "application/vnd.jupyter.widget-view+json": {
       "model_id": "ef6c1fd539e243ef839b15ffb3afa740",
       "version_major": 2,
       "version_minor": 0
      },
      "text/plain": [
       "Folds:   0%|          | 0/5 [00:00<?, ?it/s]"
      ]
     },
     "metadata": {},
     "output_type": "display_data"
    },
    {
     "name": "stderr",
     "output_type": "stream",
     "text": [
      "/opt/conda/lib/python3.7/site-packages/lightgbm/sklearn.py:726: UserWarning: 'early_stopping_rounds' argument is deprecated and will be removed in a future release of LightGBM. Pass 'early_stopping()' callback via 'callbacks' argument instead.\n",
      "  _log_warning(\"'early_stopping_rounds' argument is deprecated and will be removed in a future release of LightGBM. \"\n"
     ]
    },
    {
     "name": "stdout",
     "output_type": "stream",
     "text": [
      "[1]\tvalid_0's l2: 0.0578757\tvalid_0's average_precision: 0.130233\n",
      "[2]\tvalid_0's l2: 0.0568393\tvalid_0's average_precision: 0.360881\n",
      "[3]\tvalid_0's l2: 0.0568937\tvalid_0's average_precision: 0.32333\n",
      "[4]\tvalid_0's l2: 0.0569729\tvalid_0's average_precision: 0.236865\n",
      "[5]\tvalid_0's l2: 0.0565647\tvalid_0's average_precision: 0.292237\n",
      "[6]\tvalid_0's l2: 0.0563773\tvalid_0's average_precision: 0.291197\n",
      "[7]\tvalid_0's l2: 0.0564142\tvalid_0's average_precision: 0.288112\n",
      "[8]\tvalid_0's l2: 0.0564494\tvalid_0's average_precision: 0.270473\n",
      "[9]\tvalid_0's l2: 0.0564891\tvalid_0's average_precision: 0.248869\n",
      "[10]\tvalid_0's l2: 0.0563303\tvalid_0's average_precision: 0.199375\n",
      "[11]\tvalid_0's l2: 0.0563565\tvalid_0's average_precision: 0.188289\n",
      "[12]\tvalid_0's l2: 0.0563726\tvalid_0's average_precision: 0.182079\n",
      "[13]\tvalid_0's l2: 0.0563778\tvalid_0's average_precision: 0.181759\n",
      "[14]\tvalid_0's l2: 0.0563302\tvalid_0's average_precision: 0.180522\n",
      "[15]\tvalid_0's l2: 0.055521\tvalid_0's average_precision: 0.210562\n",
      "[16]\tvalid_0's l2: 0.0554229\tvalid_0's average_precision: 0.207378\n",
      "[17]\tvalid_0's l2: 0.0552962\tvalid_0's average_precision: 0.205554\n",
      "[18]\tvalid_0's l2: 0.0552967\tvalid_0's average_precision: 0.206295\n",
      "[19]\tvalid_0's l2: 0.0552369\tvalid_0's average_precision: 0.206758\n",
      "[20]\tvalid_0's l2: 0.0556093\tvalid_0's average_precision: 0.19012\n",
      "[21]\tvalid_0's l2: 0.0556558\tvalid_0's average_precision: 0.184282\n",
      "[22]\tvalid_0's l2: 0.0555298\tvalid_0's average_precision: 0.189331\n",
      "[23]\tvalid_0's l2: 0.0554497\tvalid_0's average_precision: 0.191434\n",
      "[24]\tvalid_0's l2: 0.0554601\tvalid_0's average_precision: 0.190179\n",
      "[25]\tvalid_0's l2: 0.0554518\tvalid_0's average_precision: 0.185893\n",
      "[26]\tvalid_0's l2: 0.0553518\tvalid_0's average_precision: 0.185008\n",
      "[27]\tvalid_0's l2: 0.0556067\tvalid_0's average_precision: 0.172934\n"
     ]
    },
    {
     "name": "stderr",
     "output_type": "stream",
     "text": [
      "/opt/conda/lib/python3.7/site-packages/lightgbm/sklearn.py:726: UserWarning: 'early_stopping_rounds' argument is deprecated and will be removed in a future release of LightGBM. Pass 'early_stopping()' callback via 'callbacks' argument instead.\n",
      "  _log_warning(\"'early_stopping_rounds' argument is deprecated and will be removed in a future release of LightGBM. \"\n"
     ]
    },
    {
     "name": "stdout",
     "output_type": "stream",
     "text": [
      "[1]\tvalid_0's l2: 0.192534\tvalid_0's average_precision: 0.401311\n",
      "[2]\tvalid_0's l2: 0.183146\tvalid_0's average_precision: 0.456269\n",
      "[3]\tvalid_0's l2: 0.174623\tvalid_0's average_precision: 0.495045\n",
      "[4]\tvalid_0's l2: 0.168875\tvalid_0's average_precision: 0.54542\n",
      "[5]\tvalid_0's l2: 0.168542\tvalid_0's average_precision: 0.543299\n",
      "[6]\tvalid_0's l2: 0.163028\tvalid_0's average_precision: 0.566166\n",
      "[7]\tvalid_0's l2: 0.155626\tvalid_0's average_precision: 0.603903\n",
      "[8]\tvalid_0's l2: 0.147036\tvalid_0's average_precision: 0.638213\n",
      "[9]\tvalid_0's l2: 0.146667\tvalid_0's average_precision: 0.635359\n",
      "[10]\tvalid_0's l2: 0.146701\tvalid_0's average_precision: 0.633939\n",
      "[11]\tvalid_0's l2: 0.144611\tvalid_0's average_precision: 0.638406\n",
      "[12]\tvalid_0's l2: 0.140066\tvalid_0's average_precision: 0.64921\n",
      "[13]\tvalid_0's l2: 0.139948\tvalid_0's average_precision: 0.644734\n",
      "[14]\tvalid_0's l2: 0.139463\tvalid_0's average_precision: 0.648201\n",
      "[15]\tvalid_0's l2: 0.135746\tvalid_0's average_precision: 0.665645\n",
      "[16]\tvalid_0's l2: 0.133421\tvalid_0's average_precision: 0.673123\n",
      "[17]\tvalid_0's l2: 0.134609\tvalid_0's average_precision: 0.662615\n",
      "[18]\tvalid_0's l2: 0.138791\tvalid_0's average_precision: 0.646867\n",
      "[19]\tvalid_0's l2: 0.136658\tvalid_0's average_precision: 0.654338\n",
      "[20]\tvalid_0's l2: 0.135283\tvalid_0's average_precision: 0.656484\n",
      "[21]\tvalid_0's l2: 0.135543\tvalid_0's average_precision: 0.654042\n",
      "[22]\tvalid_0's l2: 0.136143\tvalid_0's average_precision: 0.649349\n",
      "[23]\tvalid_0's l2: 0.136216\tvalid_0's average_precision: 0.649016\n",
      "[24]\tvalid_0's l2: 0.136255\tvalid_0's average_precision: 0.648837\n",
      "[25]\tvalid_0's l2: 0.13611\tvalid_0's average_precision: 0.649175\n",
      "[26]\tvalid_0's l2: 0.136406\tvalid_0's average_precision: 0.646881\n",
      "[27]\tvalid_0's l2: 0.138587\tvalid_0's average_precision: 0.637608\n",
      "[28]\tvalid_0's l2: 0.138542\tvalid_0's average_precision: 0.637701\n",
      "[29]\tvalid_0's l2: 0.138519\tvalid_0's average_precision: 0.638517\n",
      "[30]\tvalid_0's l2: 0.137616\tvalid_0's average_precision: 0.641025\n",
      "[31]\tvalid_0's l2: 0.137658\tvalid_0's average_precision: 0.641102\n",
      "[32]\tvalid_0's l2: 0.137716\tvalid_0's average_precision: 0.640457\n",
      "[33]\tvalid_0's l2: 0.136528\tvalid_0's average_precision: 0.645018\n",
      "[34]\tvalid_0's l2: 0.136577\tvalid_0's average_precision: 0.644295\n",
      "[35]\tvalid_0's l2: 0.136597\tvalid_0's average_precision: 0.644228\n",
      "[36]\tvalid_0's l2: 0.136425\tvalid_0's average_precision: 0.646438\n",
      "[37]\tvalid_0's l2: 0.136634\tvalid_0's average_precision: 0.643122\n",
      "[38]\tvalid_0's l2: 0.137773\tvalid_0's average_precision: 0.638106\n",
      "[39]\tvalid_0's l2: 0.137822\tvalid_0's average_precision: 0.637283\n",
      "[40]\tvalid_0's l2: 0.137761\tvalid_0's average_precision: 0.636705\n",
      "[41]\tvalid_0's l2: 0.137753\tvalid_0's average_precision: 0.636581\n"
     ]
    },
    {
     "name": "stderr",
     "output_type": "stream",
     "text": [
      "/opt/conda/lib/python3.7/site-packages/lightgbm/sklearn.py:726: UserWarning: 'early_stopping_rounds' argument is deprecated and will be removed in a future release of LightGBM. Pass 'early_stopping()' callback via 'callbacks' argument instead.\n",
      "  _log_warning(\"'early_stopping_rounds' argument is deprecated and will be removed in a future release of LightGBM. \"\n"
     ]
    },
    {
     "name": "stdout",
     "output_type": "stream",
     "text": [
      "[1]\tvalid_0's l2: 0.0351791\tvalid_0's average_precision: 0.0906403\n",
      "[2]\tvalid_0's l2: 0.0351826\tvalid_0's average_precision: 0.0976227\n",
      "[3]\tvalid_0's l2: 0.0352559\tvalid_0's average_precision: 0.109936\n",
      "[4]\tvalid_0's l2: 0.0379119\tvalid_0's average_precision: 0.0749621\n",
      "[5]\tvalid_0's l2: 0.0379853\tvalid_0's average_precision: 0.0774947\n",
      "[6]\tvalid_0's l2: 0.0400942\tvalid_0's average_precision: 0.0877357\n",
      "[7]\tvalid_0's l2: 0.0404074\tvalid_0's average_precision: 0.0812523\n",
      "[8]\tvalid_0's l2: 0.0404799\tvalid_0's average_precision: 0.0837001\n",
      "[9]\tvalid_0's l2: 0.0408594\tvalid_0's average_precision: 0.0925915\n",
      "[10]\tvalid_0's l2: 0.0412067\tvalid_0's average_precision: 0.103526\n",
      "[11]\tvalid_0's l2: 0.0412764\tvalid_0's average_precision: 0.110131\n",
      "[12]\tvalid_0's l2: 0.0412771\tvalid_0's average_precision: 0.111863\n",
      "[13]\tvalid_0's l2: 0.0436306\tvalid_0's average_precision: 0.110421\n",
      "[14]\tvalid_0's l2: 0.0439625\tvalid_0's average_precision: 0.107943\n",
      "[15]\tvalid_0's l2: 0.0439557\tvalid_0's average_precision: 0.101911\n",
      "[16]\tvalid_0's l2: 0.0440187\tvalid_0's average_precision: 0.100934\n",
      "[17]\tvalid_0's l2: 0.0440236\tvalid_0's average_precision: 0.100507\n",
      "[18]\tvalid_0's l2: 0.0439753\tvalid_0's average_precision: 0.0982035\n",
      "[19]\tvalid_0's l2: 0.0438241\tvalid_0's average_precision: 0.0990589\n",
      "[20]\tvalid_0's l2: 0.0438708\tvalid_0's average_precision: 0.0989403\n",
      "[21]\tvalid_0's l2: 0.0439969\tvalid_0's average_precision: 0.0979698\n",
      "[22]\tvalid_0's l2: 0.0439904\tvalid_0's average_precision: 0.097936\n",
      "[23]\tvalid_0's l2: 0.0439824\tvalid_0's average_precision: 0.0978675\n",
      "[24]\tvalid_0's l2: 0.0439873\tvalid_0's average_precision: 0.0979088\n",
      "[25]\tvalid_0's l2: 0.0439879\tvalid_0's average_precision: 0.0979091\n",
      "[26]\tvalid_0's l2: 0.0440898\tvalid_0's average_precision: 0.0943132\n"
     ]
    },
    {
     "name": "stderr",
     "output_type": "stream",
     "text": [
      "/opt/conda/lib/python3.7/site-packages/lightgbm/sklearn.py:726: UserWarning: 'early_stopping_rounds' argument is deprecated and will be removed in a future release of LightGBM. Pass 'early_stopping()' callback via 'callbacks' argument instead.\n",
      "  _log_warning(\"'early_stopping_rounds' argument is deprecated and will be removed in a future release of LightGBM. \"\n"
     ]
    },
    {
     "name": "stdout",
     "output_type": "stream",
     "text": [
      "[1]\tvalid_0's l2: 0.00866411\tvalid_0's average_precision: 0.00855808\n",
      "[2]\tvalid_0's l2: 0.00869272\tvalid_0's average_precision: 0.00853803\n",
      "[3]\tvalid_0's l2: 0.00879094\tvalid_0's average_precision: 0.0346622\n",
      "[4]\tvalid_0's l2: 0.00879457\tvalid_0's average_precision: 0.030599\n",
      "[5]\tvalid_0's l2: 0.00880522\tvalid_0's average_precision: 0.0338696\n",
      "[6]\tvalid_0's l2: 0.00881842\tvalid_0's average_precision: 0.0359835\n",
      "[7]\tvalid_0's l2: 0.00894771\tvalid_0's average_precision: 0.0429243\n",
      "[8]\tvalid_0's l2: 0.00895584\tvalid_0's average_precision: 0.0465572\n",
      "[9]\tvalid_0's l2: 0.00894942\tvalid_0's average_precision: 0.0533238\n",
      "[10]\tvalid_0's l2: 0.00894126\tvalid_0's average_precision: 0.112889\n",
      "[11]\tvalid_0's l2: 0.00908123\tvalid_0's average_precision: 0.118936\n",
      "[12]\tvalid_0's l2: 0.00929456\tvalid_0's average_precision: 0.170039\n",
      "[13]\tvalid_0's l2: 0.00934358\tvalid_0's average_precision: 0.125207\n",
      "[14]\tvalid_0's l2: 0.00968968\tvalid_0's average_precision: 0.132596\n",
      "[15]\tvalid_0's l2: 0.00966741\tvalid_0's average_precision: 0.124622\n",
      "[16]\tvalid_0's l2: 0.00967309\tvalid_0's average_precision: 0.121162\n",
      "[17]\tvalid_0's l2: 0.00962955\tvalid_0's average_precision: 0.106859\n",
      "[18]\tvalid_0's l2: 0.00966896\tvalid_0's average_precision: 0.104265\n",
      "[19]\tvalid_0's l2: 0.0100303\tvalid_0's average_precision: 0.0731709\n",
      "[20]\tvalid_0's l2: 0.0100272\tvalid_0's average_precision: 0.07337\n",
      "[21]\tvalid_0's l2: 0.0100273\tvalid_0's average_precision: 0.0734937\n",
      "[22]\tvalid_0's l2: 0.0100258\tvalid_0's average_precision: 0.0735088\n",
      "[23]\tvalid_0's l2: 0.0100294\tvalid_0's average_precision: 0.0734868\n",
      "[24]\tvalid_0's l2: 0.0100295\tvalid_0's average_precision: 0.0734853\n",
      "[25]\tvalid_0's l2: 0.0100683\tvalid_0's average_precision: 0.072821\n",
      "[26]\tvalid_0's l2: 0.0100767\tvalid_0's average_precision: 0.0727932\n"
     ]
    },
    {
     "name": "stderr",
     "output_type": "stream",
     "text": [
      "/opt/conda/lib/python3.7/site-packages/lightgbm/sklearn.py:726: UserWarning: 'early_stopping_rounds' argument is deprecated and will be removed in a future release of LightGBM. Pass 'early_stopping()' callback via 'callbacks' argument instead.\n",
      "  _log_warning(\"'early_stopping_rounds' argument is deprecated and will be removed in a future release of LightGBM. \"\n"
     ]
    },
    {
     "name": "stdout",
     "output_type": "stream",
     "text": [
      "[1]\tvalid_0's l2: 0.0942189\tvalid_0's average_precision: 0.456928\n",
      "[2]\tvalid_0's l2: 0.0862825\tvalid_0's average_precision: 0.492516\n",
      "[3]\tvalid_0's l2: 0.0858093\tvalid_0's average_precision: 0.48188\n",
      "[4]\tvalid_0's l2: 0.0815539\tvalid_0's average_precision: 0.533743\n",
      "[5]\tvalid_0's l2: 0.0806555\tvalid_0's average_precision: 0.504913\n",
      "[6]\tvalid_0's l2: 0.0797961\tvalid_0's average_precision: 0.501491\n",
      "[7]\tvalid_0's l2: 0.0802288\tvalid_0's average_precision: 0.486463\n",
      "[8]\tvalid_0's l2: 0.0806536\tvalid_0's average_precision: 0.474181\n",
      "[9]\tvalid_0's l2: 0.078324\tvalid_0's average_precision: 0.497989\n",
      "[10]\tvalid_0's l2: 0.077707\tvalid_0's average_precision: 0.511544\n",
      "[11]\tvalid_0's l2: 0.0787186\tvalid_0's average_precision: 0.500258\n",
      "[12]\tvalid_0's l2: 0.0783684\tvalid_0's average_precision: 0.500247\n",
      "[13]\tvalid_0's l2: 0.0786305\tvalid_0's average_precision: 0.496403\n",
      "[14]\tvalid_0's l2: 0.0780361\tvalid_0's average_precision: 0.505779\n",
      "[15]\tvalid_0's l2: 0.0779819\tvalid_0's average_precision: 0.505158\n",
      "[16]\tvalid_0's l2: 0.0775056\tvalid_0's average_precision: 0.506404\n",
      "[17]\tvalid_0's l2: 0.0762634\tvalid_0's average_precision: 0.517692\n",
      "[18]\tvalid_0's l2: 0.0764266\tvalid_0's average_precision: 0.513482\n",
      "[19]\tvalid_0's l2: 0.0763442\tvalid_0's average_precision: 0.512343\n",
      "[20]\tvalid_0's l2: 0.0762234\tvalid_0's average_precision: 0.514359\n",
      "[21]\tvalid_0's l2: 0.0763695\tvalid_0's average_precision: 0.513623\n",
      "[22]\tvalid_0's l2: 0.0762462\tvalid_0's average_precision: 0.513357\n",
      "[23]\tvalid_0's l2: 0.0761905\tvalid_0's average_precision: 0.513242\n",
      "[24]\tvalid_0's l2: 0.0761727\tvalid_0's average_precision: 0.513677\n",
      "[25]\tvalid_0's l2: 0.0767439\tvalid_0's average_precision: 0.50747\n",
      "[26]\tvalid_0's l2: 0.0772264\tvalid_0's average_precision: 0.50369\n",
      "[27]\tvalid_0's l2: 0.0772508\tvalid_0's average_precision: 0.503515\n",
      "[28]\tvalid_0's l2: 0.077485\tvalid_0's average_precision: 0.501325\n",
      "[29]\tvalid_0's l2: 0.0783459\tvalid_0's average_precision: 0.492568\n"
     ]
    },
    {
     "name": "stderr",
     "output_type": "stream",
     "text": [
      "/opt/conda/lib/python3.7/site-packages/lightgbm/sklearn.py:726: UserWarning: 'early_stopping_rounds' argument is deprecated and will be removed in a future release of LightGBM. Pass 'early_stopping()' callback via 'callbacks' argument instead.\n",
      "  _log_warning(\"'early_stopping_rounds' argument is deprecated and will be removed in a future release of LightGBM. \"\n"
     ]
    },
    {
     "name": "stdout",
     "output_type": "stream",
     "text": [
      "[1]\tvalid_0's l2: 0.00448858\tvalid_0's average_precision: 0.00435039\n",
      "[2]\tvalid_0's l2: 0.00577281\tvalid_0's average_precision: 0.00726061\n",
      "[3]\tvalid_0's l2: 0.00596131\tvalid_0's average_precision: 0.00623139\n",
      "[4]\tvalid_0's l2: 0.00591489\tvalid_0's average_precision: 0.00962507\n",
      "[5]\tvalid_0's l2: 0.00591972\tvalid_0's average_precision: 0.0113761\n",
      "[6]\tvalid_0's l2: 0.00593688\tvalid_0's average_precision: 0.0115008\n",
      "[7]\tvalid_0's l2: 0.00611328\tvalid_0's average_precision: 0.011064\n",
      "[8]\tvalid_0's l2: 0.00613528\tvalid_0's average_precision: 0.0101006\n",
      "[9]\tvalid_0's l2: 0.00640056\tvalid_0's average_precision: 0.0104158\n",
      "[10]\tvalid_0's l2: 0.00649136\tvalid_0's average_precision: 0.0109254\n",
      "[11]\tvalid_0's l2: 0.00658145\tvalid_0's average_precision: 0.0110613\n",
      "[12]\tvalid_0's l2: 0.00658344\tvalid_0's average_precision: 0.0110088\n",
      "[13]\tvalid_0's l2: 0.00663173\tvalid_0's average_precision: 0.0105728\n",
      "[14]\tvalid_0's l2: 0.00663822\tvalid_0's average_precision: 0.0102079\n",
      "[15]\tvalid_0's l2: 0.00667801\tvalid_0's average_precision: 0.00950394\n",
      "[16]\tvalid_0's l2: 0.00668323\tvalid_0's average_precision: 0.00947253\n",
      "[17]\tvalid_0's l2: 0.00670614\tvalid_0's average_precision: 0.00929877\n",
      "[18]\tvalid_0's l2: 0.00670695\tvalid_0's average_precision: 0.00919762\n",
      "[19]\tvalid_0's l2: 0.00669706\tvalid_0's average_precision: 0.00897992\n",
      "[20]\tvalid_0's l2: 0.00669314\tvalid_0's average_precision: 0.00892087\n",
      "[21]\tvalid_0's l2: 0.00669625\tvalid_0's average_precision: 0.00904735\n",
      "[22]\tvalid_0's l2: 0.00669572\tvalid_0's average_precision: 0.00899778\n",
      "[23]\tvalid_0's l2: 0.00669808\tvalid_0's average_precision: 0.00897322\n",
      "[24]\tvalid_0's l2: 0.0067036\tvalid_0's average_precision: 0.00920669\n",
      "[25]\tvalid_0's l2: 0.00671522\tvalid_0's average_precision: 0.00930956\n",
      "[26]\tvalid_0's l2: 0.0067234\tvalid_0's average_precision: 0.00921673\n"
     ]
    },
    {
     "name": "stderr",
     "output_type": "stream",
     "text": [
      "/opt/conda/lib/python3.7/site-packages/lightgbm/sklearn.py:726: UserWarning: 'early_stopping_rounds' argument is deprecated and will be removed in a future release of LightGBM. Pass 'early_stopping()' callback via 'callbacks' argument instead.\n",
      "  _log_warning(\"'early_stopping_rounds' argument is deprecated and will be removed in a future release of LightGBM. \"\n"
     ]
    },
    {
     "name": "stdout",
     "output_type": "stream",
     "text": [
      "[1]\tvalid_0's l2: 0.00135949\tvalid_0's average_precision: 0.000849382\n",
      "[2]\tvalid_0's l2: 0.00156377\tvalid_0's average_precision: 0.00535368\n",
      "[3]\tvalid_0's l2: 0.00175237\tvalid_0's average_precision: 0.0116093\n",
      "[4]\tvalid_0's l2: 0.00205457\tvalid_0's average_precision: 0.00591549\n",
      "[5]\tvalid_0's l2: 0.00198554\tvalid_0's average_precision: 0.0114264\n",
      "[6]\tvalid_0's l2: 0.00197932\tvalid_0's average_precision: 0.0142905\n",
      "[7]\tvalid_0's l2: 0.00197722\tvalid_0's average_precision: 0.0163639\n",
      "[8]\tvalid_0's l2: 0.00201654\tvalid_0's average_precision: 0.0130548\n",
      "[9]\tvalid_0's l2: 0.00205669\tvalid_0's average_precision: 0.0142885\n",
      "[10]\tvalid_0's l2: 0.0020557\tvalid_0's average_precision: 0.0156168\n",
      "[11]\tvalid_0's l2: 0.00208396\tvalid_0's average_precision: 0.0159668\n",
      "[12]\tvalid_0's l2: 0.00208887\tvalid_0's average_precision: 0.0160864\n",
      "[13]\tvalid_0's l2: 0.002142\tvalid_0's average_precision: 0.0162049\n",
      "[14]\tvalid_0's l2: 0.0021945\tvalid_0's average_precision: 0.0160329\n",
      "[15]\tvalid_0's l2: 0.00226305\tvalid_0's average_precision: 0.0152052\n",
      "[16]\tvalid_0's l2: 0.00239372\tvalid_0's average_precision: 0.0133528\n",
      "[17]\tvalid_0's l2: 0.00242652\tvalid_0's average_precision: 0.0130349\n",
      "[18]\tvalid_0's l2: 0.00253364\tvalid_0's average_precision: 0.0125147\n",
      "[19]\tvalid_0's l2: 0.00252904\tvalid_0's average_precision: 0.0129919\n",
      "[20]\tvalid_0's l2: 0.00252664\tvalid_0's average_precision: 0.0131043\n",
      "[21]\tvalid_0's l2: 0.00252645\tvalid_0's average_precision: 0.0131026\n",
      "[22]\tvalid_0's l2: 0.00253854\tvalid_0's average_precision: 0.0128253\n",
      "[23]\tvalid_0's l2: 0.00255372\tvalid_0's average_precision: 0.012798\n",
      "[24]\tvalid_0's l2: 0.00254752\tvalid_0's average_precision: 0.0127221\n",
      "[25]\tvalid_0's l2: 0.00255153\tvalid_0's average_precision: 0.012683\n",
      "[26]\tvalid_0's l2: 0.00254535\tvalid_0's average_precision: 0.0134156\n"
     ]
    },
    {
     "name": "stderr",
     "output_type": "stream",
     "text": [
      "/opt/conda/lib/python3.7/site-packages/lightgbm/sklearn.py:726: UserWarning: 'early_stopping_rounds' argument is deprecated and will be removed in a future release of LightGBM. Pass 'early_stopping()' callback via 'callbacks' argument instead.\n",
      "  _log_warning(\"'early_stopping_rounds' argument is deprecated and will be removed in a future release of LightGBM. \"\n"
     ]
    },
    {
     "name": "stdout",
     "output_type": "stream",
     "text": [
      "[1]\tvalid_0's l2: 0.0609265\tvalid_0's average_precision: 0.1187\n",
      "[2]\tvalid_0's l2: 0.0595301\tvalid_0's average_precision: 0.133581\n",
      "[3]\tvalid_0's l2: 0.0587571\tvalid_0's average_precision: 0.135375\n",
      "[4]\tvalid_0's l2: 0.0583989\tvalid_0's average_precision: 0.153501\n",
      "[5]\tvalid_0's l2: 0.0580788\tvalid_0's average_precision: 0.166167\n",
      "[6]\tvalid_0's l2: 0.0577802\tvalid_0's average_precision: 0.175096\n",
      "[7]\tvalid_0's l2: 0.0575876\tvalid_0's average_precision: 0.179099\n",
      "[8]\tvalid_0's l2: 0.0578461\tvalid_0's average_precision: 0.172491\n",
      "[9]\tvalid_0's l2: 0.0577619\tvalid_0's average_precision: 0.174798\n",
      "[10]\tvalid_0's l2: 0.0581627\tvalid_0's average_precision: 0.173967\n",
      "[11]\tvalid_0's l2: 0.0582645\tvalid_0's average_precision: 0.174094\n",
      "[12]\tvalid_0's l2: 0.0581618\tvalid_0's average_precision: 0.177231\n",
      "[13]\tvalid_0's l2: 0.0572771\tvalid_0's average_precision: 0.19211\n",
      "[14]\tvalid_0's l2: 0.0573319\tvalid_0's average_precision: 0.190971\n",
      "[15]\tvalid_0's l2: 0.0570541\tvalid_0's average_precision: 0.200993\n",
      "[16]\tvalid_0's l2: 0.0566005\tvalid_0's average_precision: 0.21271\n",
      "[17]\tvalid_0's l2: 0.0564938\tvalid_0's average_precision: 0.216488\n",
      "[18]\tvalid_0's l2: 0.0563867\tvalid_0's average_precision: 0.215917\n",
      "[19]\tvalid_0's l2: 0.0563632\tvalid_0's average_precision: 0.21717\n",
      "[20]\tvalid_0's l2: 0.0558579\tvalid_0's average_precision: 0.227362\n",
      "[21]\tvalid_0's l2: 0.0557775\tvalid_0's average_precision: 0.228485\n",
      "[22]\tvalid_0's l2: 0.0556378\tvalid_0's average_precision: 0.231844\n",
      "[23]\tvalid_0's l2: 0.0556366\tvalid_0's average_precision: 0.233732\n",
      "[24]\tvalid_0's l2: 0.0554993\tvalid_0's average_precision: 0.236724\n",
      "[25]\tvalid_0's l2: 0.0554797\tvalid_0's average_precision: 0.237095\n",
      "[26]\tvalid_0's l2: 0.0554922\tvalid_0's average_precision: 0.23656\n",
      "[27]\tvalid_0's l2: 0.0554991\tvalid_0's average_precision: 0.236387\n",
      "[28]\tvalid_0's l2: 0.0558362\tvalid_0's average_precision: 0.230381\n",
      "[29]\tvalid_0's l2: 0.0558034\tvalid_0's average_precision: 0.231454\n",
      "[30]\tvalid_0's l2: 0.0554978\tvalid_0's average_precision: 0.233888\n",
      "[31]\tvalid_0's l2: 0.0555887\tvalid_0's average_precision: 0.232227\n",
      "[32]\tvalid_0's l2: 0.0554999\tvalid_0's average_precision: 0.234153\n",
      "[33]\tvalid_0's l2: 0.0555068\tvalid_0's average_precision: 0.234443\n",
      "[34]\tvalid_0's l2: 0.0555587\tvalid_0's average_precision: 0.233274\n",
      "[35]\tvalid_0's l2: 0.0555931\tvalid_0's average_precision: 0.232071\n",
      "[36]\tvalid_0's l2: 0.0556162\tvalid_0's average_precision: 0.231681\n",
      "[37]\tvalid_0's l2: 0.0556057\tvalid_0's average_precision: 0.23189\n",
      "[38]\tvalid_0's l2: 0.0554726\tvalid_0's average_precision: 0.233907\n",
      "[39]\tvalid_0's l2: 0.0555016\tvalid_0's average_precision: 0.233692\n",
      "[40]\tvalid_0's l2: 0.0556163\tvalid_0's average_precision: 0.232404\n",
      "[41]\tvalid_0's l2: 0.0556109\tvalid_0's average_precision: 0.232668\n",
      "[42]\tvalid_0's l2: 0.0553834\tvalid_0's average_precision: 0.238328\n",
      "[43]\tvalid_0's l2: 0.0554788\tvalid_0's average_precision: 0.236663\n",
      "[44]\tvalid_0's l2: 0.0554424\tvalid_0's average_precision: 0.236841\n",
      "[45]\tvalid_0's l2: 0.0554688\tvalid_0's average_precision: 0.236574\n",
      "[46]\tvalid_0's l2: 0.0554864\tvalid_0's average_precision: 0.236374\n",
      "[47]\tvalid_0's l2: 0.0555706\tvalid_0's average_precision: 0.236483\n",
      "[48]\tvalid_0's l2: 0.0555788\tvalid_0's average_precision: 0.237298\n",
      "[49]\tvalid_0's l2: 0.05558\tvalid_0's average_precision: 0.237313\n",
      "[50]\tvalid_0's l2: 0.055624\tvalid_0's average_precision: 0.238666\n",
      "[51]\tvalid_0's l2: 0.0555834\tvalid_0's average_precision: 0.239138\n",
      "[52]\tvalid_0's l2: 0.0556029\tvalid_0's average_precision: 0.238306\n",
      "[53]\tvalid_0's l2: 0.0555874\tvalid_0's average_precision: 0.238508\n",
      "[54]\tvalid_0's l2: 0.0556995\tvalid_0's average_precision: 0.23711\n",
      "[55]\tvalid_0's l2: 0.055724\tvalid_0's average_precision: 0.236774\n",
      "[56]\tvalid_0's l2: 0.0556944\tvalid_0's average_precision: 0.237712\n",
      "[57]\tvalid_0's l2: 0.0555843\tvalid_0's average_precision: 0.239707\n",
      "[58]\tvalid_0's l2: 0.0556272\tvalid_0's average_precision: 0.238903\n",
      "[59]\tvalid_0's l2: 0.0556415\tvalid_0's average_precision: 0.238456\n",
      "[60]\tvalid_0's l2: 0.0556547\tvalid_0's average_precision: 0.238378\n",
      "[61]\tvalid_0's l2: 0.0556368\tvalid_0's average_precision: 0.23875\n",
      "[62]\tvalid_0's l2: 0.055667\tvalid_0's average_precision: 0.238446\n",
      "[63]\tvalid_0's l2: 0.0556906\tvalid_0's average_precision: 0.238169\n",
      "[64]\tvalid_0's l2: 0.0557064\tvalid_0's average_precision: 0.237881\n",
      "[65]\tvalid_0's l2: 0.0557041\tvalid_0's average_precision: 0.237915\n",
      "[66]\tvalid_0's l2: 0.055687\tvalid_0's average_precision: 0.238491\n",
      "[67]\tvalid_0's l2: 0.0557511\tvalid_0's average_precision: 0.237733\n"
     ]
    },
    {
     "name": "stderr",
     "output_type": "stream",
     "text": [
      "/opt/conda/lib/python3.7/site-packages/lightgbm/sklearn.py:726: UserWarning: 'early_stopping_rounds' argument is deprecated and will be removed in a future release of LightGBM. Pass 'early_stopping()' callback via 'callbacks' argument instead.\n",
      "  _log_warning(\"'early_stopping_rounds' argument is deprecated and will be removed in a future release of LightGBM. \"\n"
     ]
    },
    {
     "name": "stdout",
     "output_type": "stream",
     "text": [
      "[1]\tvalid_0's l2: 0.00188031\tvalid_0's average_precision: 0.00168002\n",
      "[2]\tvalid_0's l2: 0.00196116\tvalid_0's average_precision: 0.00236058\n",
      "[3]\tvalid_0's l2: 0.00198891\tvalid_0's average_precision: 0.00189589\n",
      "[4]\tvalid_0's l2: 0.00198115\tvalid_0's average_precision: 0.00190925\n",
      "[5]\tvalid_0's l2: 0.0019629\tvalid_0's average_precision: 0.00492321\n",
      "[6]\tvalid_0's l2: 0.00195206\tvalid_0's average_precision: 0.00521831\n",
      "[7]\tvalid_0's l2: 0.00194254\tvalid_0's average_precision: 0.00505944\n",
      "[8]\tvalid_0's l2: 0.00206589\tvalid_0's average_precision: 0.00661696\n",
      "[9]\tvalid_0's l2: 0.00212229\tvalid_0's average_precision: 0.00620147\n",
      "[10]\tvalid_0's l2: 0.00221836\tvalid_0's average_precision: 0.00577812\n",
      "[11]\tvalid_0's l2: 0.00222634\tvalid_0's average_precision: 0.00614046\n",
      "[12]\tvalid_0's l2: 0.00226511\tvalid_0's average_precision: 0.00558327\n",
      "[13]\tvalid_0's l2: 0.00227326\tvalid_0's average_precision: 0.00544321\n",
      "[14]\tvalid_0's l2: 0.00231488\tvalid_0's average_precision: 0.00524055\n",
      "[15]\tvalid_0's l2: 0.00234861\tvalid_0's average_precision: 0.0052149\n",
      "[16]\tvalid_0's l2: 0.00234839\tvalid_0's average_precision: 0.00515542\n",
      "[17]\tvalid_0's l2: 0.00235394\tvalid_0's average_precision: 0.00518847\n",
      "[18]\tvalid_0's l2: 0.00235816\tvalid_0's average_precision: 0.00508094\n",
      "[19]\tvalid_0's l2: 0.00236303\tvalid_0's average_precision: 0.00510423\n",
      "[20]\tvalid_0's l2: 0.00235565\tvalid_0's average_precision: 0.00518307\n",
      "[21]\tvalid_0's l2: 0.00234081\tvalid_0's average_precision: 0.00518104\n",
      "[22]\tvalid_0's l2: 0.00234829\tvalid_0's average_precision: 0.00487571\n",
      "[23]\tvalid_0's l2: 0.00241417\tvalid_0's average_precision: 0.00464411\n",
      "[24]\tvalid_0's l2: 0.0024141\tvalid_0's average_precision: 0.00468056\n",
      "[25]\tvalid_0's l2: 0.00241259\tvalid_0's average_precision: 0.00466205\n",
      "[26]\tvalid_0's l2: 0.00242511\tvalid_0's average_precision: 0.00449329\n"
     ]
    },
    {
     "name": "stderr",
     "output_type": "stream",
     "text": [
      "/opt/conda/lib/python3.7/site-packages/lightgbm/sklearn.py:726: UserWarning: 'early_stopping_rounds' argument is deprecated and will be removed in a future release of LightGBM. Pass 'early_stopping()' callback via 'callbacks' argument instead.\n",
      "  _log_warning(\"'early_stopping_rounds' argument is deprecated and will be removed in a future release of LightGBM. \"\n"
     ]
    },
    {
     "name": "stdout",
     "output_type": "stream",
     "text": [
      "[1]\tvalid_0's l2: 0.00600501\tvalid_0's average_precision: 0.00707307\n",
      "[2]\tvalid_0's l2: 0.00602162\tvalid_0's average_precision: 0.0159298\n",
      "[3]\tvalid_0's l2: 0.00603628\tvalid_0's average_precision: 0.0138193\n",
      "[4]\tvalid_0's l2: 0.00606185\tvalid_0's average_precision: 0.0134103\n",
      "[5]\tvalid_0's l2: 0.00601323\tvalid_0's average_precision: 0.0174722\n",
      "[6]\tvalid_0's l2: 0.00605232\tvalid_0's average_precision: 0.0286756\n",
      "[7]\tvalid_0's l2: 0.0060481\tvalid_0's average_precision: 0.0290232\n",
      "[8]\tvalid_0's l2: 0.00606059\tvalid_0's average_precision: 0.0306689\n",
      "[9]\tvalid_0's l2: 0.00606697\tvalid_0's average_precision: 0.030264\n",
      "[10]\tvalid_0's l2: 0.00613336\tvalid_0's average_precision: 0.0295643\n",
      "[11]\tvalid_0's l2: 0.0061572\tvalid_0's average_precision: 0.0277124\n",
      "[12]\tvalid_0's l2: 0.00616584\tvalid_0's average_precision: 0.0295768\n",
      "[13]\tvalid_0's l2: 0.00616066\tvalid_0's average_precision: 0.0282368\n",
      "[14]\tvalid_0's l2: 0.00618314\tvalid_0's average_precision: 0.0278793\n",
      "[15]\tvalid_0's l2: 0.00617077\tvalid_0's average_precision: 0.0265027\n",
      "[16]\tvalid_0's l2: 0.00616848\tvalid_0's average_precision: 0.0274689\n",
      "[17]\tvalid_0's l2: 0.00617181\tvalid_0's average_precision: 0.0275376\n",
      "[18]\tvalid_0's l2: 0.00618863\tvalid_0's average_precision: 0.0267289\n",
      "[19]\tvalid_0's l2: 0.0061926\tvalid_0's average_precision: 0.0267922\n",
      "[20]\tvalid_0's l2: 0.00619801\tvalid_0's average_precision: 0.0281891\n",
      "[21]\tvalid_0's l2: 0.0061987\tvalid_0's average_precision: 0.0282758\n",
      "[22]\tvalid_0's l2: 0.00605223\tvalid_0's average_precision: 0.0397889\n",
      "[23]\tvalid_0's l2: 0.00606732\tvalid_0's average_precision: 0.0397732\n",
      "[24]\tvalid_0's l2: 0.00607303\tvalid_0's average_precision: 0.0395325\n",
      "[25]\tvalid_0's l2: 0.00607774\tvalid_0's average_precision: 0.0399022\n",
      "[26]\tvalid_0's l2: 0.00607601\tvalid_0's average_precision: 0.039922\n"
     ]
    },
    {
     "name": "stderr",
     "output_type": "stream",
     "text": [
      "/opt/conda/lib/python3.7/site-packages/lightgbm/sklearn.py:726: UserWarning: 'early_stopping_rounds' argument is deprecated and will be removed in a future release of LightGBM. Pass 'early_stopping()' callback via 'callbacks' argument instead.\n",
      "  _log_warning(\"'early_stopping_rounds' argument is deprecated and will be removed in a future release of LightGBM. \"\n"
     ]
    },
    {
     "name": "stdout",
     "output_type": "stream",
     "text": [
      "[1]\tvalid_0's l2: 0.0736703\tvalid_0's average_precision: 0.335534\n",
      "[2]\tvalid_0's l2: 0.0692755\tvalid_0's average_precision: 0.387364\n",
      "[3]\tvalid_0's l2: 0.0676452\tvalid_0's average_precision: 0.40276\n",
      "[4]\tvalid_0's l2: 0.0655798\tvalid_0's average_precision: 0.412151\n",
      "[5]\tvalid_0's l2: 0.0645959\tvalid_0's average_precision: 0.415998\n",
      "[6]\tvalid_0's l2: 0.0644825\tvalid_0's average_precision: 0.419426\n",
      "[7]\tvalid_0's l2: 0.0631098\tvalid_0's average_precision: 0.441625\n",
      "[8]\tvalid_0's l2: 0.0625066\tvalid_0's average_precision: 0.448346\n",
      "[9]\tvalid_0's l2: 0.0623842\tvalid_0's average_precision: 0.446646\n",
      "[10]\tvalid_0's l2: 0.0621293\tvalid_0's average_precision: 0.451627\n",
      "[11]\tvalid_0's l2: 0.0623244\tvalid_0's average_precision: 0.44718\n",
      "[12]\tvalid_0's l2: 0.0618803\tvalid_0's average_precision: 0.456422\n",
      "[13]\tvalid_0's l2: 0.0619808\tvalid_0's average_precision: 0.456297\n",
      "[14]\tvalid_0's l2: 0.0620536\tvalid_0's average_precision: 0.45716\n",
      "[15]\tvalid_0's l2: 0.0618511\tvalid_0's average_precision: 0.462413\n",
      "[16]\tvalid_0's l2: 0.0614597\tvalid_0's average_precision: 0.469157\n",
      "[17]\tvalid_0's l2: 0.0613917\tvalid_0's average_precision: 0.473272\n",
      "[18]\tvalid_0's l2: 0.0614328\tvalid_0's average_precision: 0.471753\n",
      "[19]\tvalid_0's l2: 0.0615086\tvalid_0's average_precision: 0.471979\n",
      "[20]\tvalid_0's l2: 0.0615096\tvalid_0's average_precision: 0.472187\n",
      "[21]\tvalid_0's l2: 0.0614712\tvalid_0's average_precision: 0.474409\n",
      "[22]\tvalid_0's l2: 0.0618114\tvalid_0's average_precision: 0.468319\n",
      "[23]\tvalid_0's l2: 0.0612106\tvalid_0's average_precision: 0.479389\n",
      "[24]\tvalid_0's l2: 0.06139\tvalid_0's average_precision: 0.472988\n",
      "[25]\tvalid_0's l2: 0.0618038\tvalid_0's average_precision: 0.470257\n",
      "[26]\tvalid_0's l2: 0.0618479\tvalid_0's average_precision: 0.469914\n",
      "[27]\tvalid_0's l2: 0.0615664\tvalid_0's average_precision: 0.473924\n",
      "[28]\tvalid_0's l2: 0.0616422\tvalid_0's average_precision: 0.473633\n",
      "[29]\tvalid_0's l2: 0.0616398\tvalid_0's average_precision: 0.472633\n",
      "[30]\tvalid_0's l2: 0.0619805\tvalid_0's average_precision: 0.469679\n",
      "[31]\tvalid_0's l2: 0.0620679\tvalid_0's average_precision: 0.46888\n",
      "[32]\tvalid_0's l2: 0.0620715\tvalid_0's average_precision: 0.469171\n",
      "[33]\tvalid_0's l2: 0.0622439\tvalid_0's average_precision: 0.46618\n",
      "[34]\tvalid_0's l2: 0.0621733\tvalid_0's average_precision: 0.467472\n",
      "[35]\tvalid_0's l2: 0.0621547\tvalid_0's average_precision: 0.467487\n",
      "[36]\tvalid_0's l2: 0.0621362\tvalid_0's average_precision: 0.467784\n",
      "[37]\tvalid_0's l2: 0.0621748\tvalid_0's average_precision: 0.466854\n",
      "[38]\tvalid_0's l2: 0.0622221\tvalid_0's average_precision: 0.464871\n",
      "[39]\tvalid_0's l2: 0.062134\tvalid_0's average_precision: 0.467223\n",
      "[40]\tvalid_0's l2: 0.0621289\tvalid_0's average_precision: 0.467199\n",
      "[41]\tvalid_0's l2: 0.0620451\tvalid_0's average_precision: 0.468093\n",
      "[42]\tvalid_0's l2: 0.0619343\tvalid_0's average_precision: 0.468934\n",
      "[43]\tvalid_0's l2: 0.0620577\tvalid_0's average_precision: 0.467657\n",
      "[44]\tvalid_0's l2: 0.0620251\tvalid_0's average_precision: 0.468152\n",
      "[45]\tvalid_0's l2: 0.0619026\tvalid_0's average_precision: 0.469303\n",
      "[46]\tvalid_0's l2: 0.0619511\tvalid_0's average_precision: 0.468992\n",
      "[47]\tvalid_0's l2: 0.061942\tvalid_0's average_precision: 0.469391\n",
      "[48]\tvalid_0's l2: 0.0619997\tvalid_0's average_precision: 0.468461\n"
     ]
    },
    {
     "name": "stderr",
     "output_type": "stream",
     "text": [
      "/opt/conda/lib/python3.7/site-packages/lightgbm/sklearn.py:726: UserWarning: 'early_stopping_rounds' argument is deprecated and will be removed in a future release of LightGBM. Pass 'early_stopping()' callback via 'callbacks' argument instead.\n",
      "  _log_warning(\"'early_stopping_rounds' argument is deprecated and will be removed in a future release of LightGBM. \"\n"
     ]
    },
    {
     "name": "stdout",
     "output_type": "stream",
     "text": [
      "[1]\tvalid_0's l2: 0.0258308\tvalid_0's average_precision: 0.0269351\n",
      "[2]\tvalid_0's l2: 0.0258695\tvalid_0's average_precision: 0.031453\n",
      "[3]\tvalid_0's l2: 0.0259272\tvalid_0's average_precision: 0.0309298\n",
      "[4]\tvalid_0's l2: 0.0259784\tvalid_0's average_precision: 0.0315085\n",
      "[5]\tvalid_0's l2: 0.0260082\tvalid_0's average_precision: 0.0313855\n",
      "[6]\tvalid_0's l2: 0.0260254\tvalid_0's average_precision: 0.0305788\n",
      "[7]\tvalid_0's l2: 0.026055\tvalid_0's average_precision: 0.0327678\n",
      "[8]\tvalid_0's l2: 0.0260731\tvalid_0's average_precision: 0.0318353\n",
      "[9]\tvalid_0's l2: 0.0261013\tvalid_0's average_precision: 0.0322116\n",
      "[10]\tvalid_0's l2: 0.0261147\tvalid_0's average_precision: 0.0326074\n",
      "[11]\tvalid_0's l2: 0.0261275\tvalid_0's average_precision: 0.0387995\n",
      "[12]\tvalid_0's l2: 0.0261384\tvalid_0's average_precision: 0.039251\n",
      "[13]\tvalid_0's l2: 0.0261383\tvalid_0's average_precision: 0.0413082\n",
      "[14]\tvalid_0's l2: 0.0261419\tvalid_0's average_precision: 0.0414002\n",
      "[15]\tvalid_0's l2: 0.0261577\tvalid_0's average_precision: 0.0398749\n",
      "[16]\tvalid_0's l2: 0.0261727\tvalid_0's average_precision: 0.039533\n",
      "[17]\tvalid_0's l2: 0.0261496\tvalid_0's average_precision: 0.0406405\n",
      "[18]\tvalid_0's l2: 0.0261416\tvalid_0's average_precision: 0.0409839\n",
      "[19]\tvalid_0's l2: 0.0261654\tvalid_0's average_precision: 0.0413542\n",
      "[20]\tvalid_0's l2: 0.0261797\tvalid_0's average_precision: 0.0415074\n",
      "[21]\tvalid_0's l2: 0.0261791\tvalid_0's average_precision: 0.0418957\n",
      "[22]\tvalid_0's l2: 0.0261799\tvalid_0's average_precision: 0.0421893\n",
      "[23]\tvalid_0's l2: 0.0261799\tvalid_0's average_precision: 0.0430402\n",
      "[24]\tvalid_0's l2: 0.0261422\tvalid_0's average_precision: 0.0479045\n",
      "[25]\tvalid_0's l2: 0.0261452\tvalid_0's average_precision: 0.0478605\n",
      "[26]\tvalid_0's l2: 0.0261446\tvalid_0's average_precision: 0.0479309\n"
     ]
    },
    {
     "name": "stderr",
     "output_type": "stream",
     "text": [
      "/opt/conda/lib/python3.7/site-packages/lightgbm/sklearn.py:726: UserWarning: 'early_stopping_rounds' argument is deprecated and will be removed in a future release of LightGBM. Pass 'early_stopping()' callback via 'callbacks' argument instead.\n",
      "  _log_warning(\"'early_stopping_rounds' argument is deprecated and will be removed in a future release of LightGBM. \"\n"
     ]
    },
    {
     "name": "stdout",
     "output_type": "stream",
     "text": [
      "[1]\tvalid_0's l2: 0.000653185\tvalid_0's average_precision: 0.00044468\n",
      "[2]\tvalid_0's l2: 0.000609592\tvalid_0's average_precision: 0.0034996\n",
      "[3]\tvalid_0's l2: 0.000725825\tvalid_0's average_precision: 0.00201993\n",
      "[4]\tvalid_0's l2: 0.000822284\tvalid_0's average_precision: 0.00193567\n",
      "[5]\tvalid_0's l2: 0.000854178\tvalid_0's average_precision: 0.00351268\n",
      "[6]\tvalid_0's l2: 0.000872308\tvalid_0's average_precision: 0.00349387\n",
      "[7]\tvalid_0's l2: 0.000948873\tvalid_0's average_precision: 0.00374412\n",
      "[8]\tvalid_0's l2: 0.00100741\tvalid_0's average_precision: 0.00403111\n",
      "[9]\tvalid_0's l2: 0.00101176\tvalid_0's average_precision: 0.00369498\n",
      "[10]\tvalid_0's l2: 0.00101095\tvalid_0's average_precision: 0.00361589\n",
      "[11]\tvalid_0's l2: 0.00107835\tvalid_0's average_precision: 0.00357703\n",
      "[12]\tvalid_0's l2: 0.00107904\tvalid_0's average_precision: 0.00356118\n",
      "[13]\tvalid_0's l2: 0.00108224\tvalid_0's average_precision: 0.00366746\n",
      "[14]\tvalid_0's l2: 0.00108805\tvalid_0's average_precision: 0.00344487\n",
      "[15]\tvalid_0's l2: 0.00110821\tvalid_0's average_precision: 0.00338173\n",
      "[16]\tvalid_0's l2: 0.00111955\tvalid_0's average_precision: 0.00341208\n",
      "[17]\tvalid_0's l2: 0.00121572\tvalid_0's average_precision: 0.0032399\n",
      "[18]\tvalid_0's l2: 0.00121606\tvalid_0's average_precision: 0.00325531\n",
      "[19]\tvalid_0's l2: 0.00121526\tvalid_0's average_precision: 0.00311697\n",
      "[20]\tvalid_0's l2: 0.00123824\tvalid_0's average_precision: 0.00307566\n",
      "[21]\tvalid_0's l2: 0.00123523\tvalid_0's average_precision: 0.00305283\n",
      "[22]\tvalid_0's l2: 0.00126058\tvalid_0's average_precision: 0.00290585\n",
      "[23]\tvalid_0's l2: 0.00126196\tvalid_0's average_precision: 0.00275617\n",
      "[24]\tvalid_0's l2: 0.0012621\tvalid_0's average_precision: 0.00275732\n",
      "[25]\tvalid_0's l2: 0.00126655\tvalid_0's average_precision: 0.00274052\n",
      "[26]\tvalid_0's l2: 0.00126679\tvalid_0's average_precision: 0.00255345\n",
      "[27]\tvalid_0's l2: 0.00125886\tvalid_0's average_precision: 0.00257414\n"
     ]
    },
    {
     "name": "stderr",
     "output_type": "stream",
     "text": [
      "/opt/conda/lib/python3.7/site-packages/lightgbm/sklearn.py:726: UserWarning: 'early_stopping_rounds' argument is deprecated and will be removed in a future release of LightGBM. Pass 'early_stopping()' callback via 'callbacks' argument instead.\n",
      "  _log_warning(\"'early_stopping_rounds' argument is deprecated and will be removed in a future release of LightGBM. \"\n"
     ]
    },
    {
     "name": "stdout",
     "output_type": "stream",
     "text": [
      "[1]\tvalid_0's l2: 0.0482308\tvalid_0's average_precision: 0.122564\n",
      "[2]\tvalid_0's l2: 0.0465905\tvalid_0's average_precision: 0.130785\n",
      "[3]\tvalid_0's l2: 0.0462238\tvalid_0's average_precision: 0.123464\n",
      "[4]\tvalid_0's l2: 0.045816\tvalid_0's average_precision: 0.128908\n",
      "[5]\tvalid_0's l2: 0.0454631\tvalid_0's average_precision: 0.137689\n",
      "[6]\tvalid_0's l2: 0.0453136\tvalid_0's average_precision: 0.143603\n",
      "[7]\tvalid_0's l2: 0.0440213\tvalid_0's average_precision: 0.165769\n",
      "[8]\tvalid_0's l2: 0.04377\tvalid_0's average_precision: 0.172747\n",
      "[9]\tvalid_0's l2: 0.0435837\tvalid_0's average_precision: 0.179535\n",
      "[10]\tvalid_0's l2: 0.0436359\tvalid_0's average_precision: 0.181958\n",
      "[11]\tvalid_0's l2: 0.0437507\tvalid_0's average_precision: 0.182792\n",
      "[12]\tvalid_0's l2: 0.0438049\tvalid_0's average_precision: 0.186891\n",
      "[13]\tvalid_0's l2: 0.043834\tvalid_0's average_precision: 0.188775\n",
      "[14]\tvalid_0's l2: 0.043799\tvalid_0's average_precision: 0.190745\n",
      "[15]\tvalid_0's l2: 0.0437701\tvalid_0's average_precision: 0.196805\n",
      "[16]\tvalid_0's l2: 0.0435197\tvalid_0's average_precision: 0.203609\n",
      "[17]\tvalid_0's l2: 0.0436663\tvalid_0's average_precision: 0.202542\n",
      "[18]\tvalid_0's l2: 0.0435525\tvalid_0's average_precision: 0.204221\n",
      "[19]\tvalid_0's l2: 0.043494\tvalid_0's average_precision: 0.207571\n",
      "[20]\tvalid_0's l2: 0.0434713\tvalid_0's average_precision: 0.208417\n",
      "[21]\tvalid_0's l2: 0.0435273\tvalid_0's average_precision: 0.209476\n",
      "[22]\tvalid_0's l2: 0.0437082\tvalid_0's average_precision: 0.205929\n",
      "[23]\tvalid_0's l2: 0.0438877\tvalid_0's average_precision: 0.203351\n",
      "[24]\tvalid_0's l2: 0.0438947\tvalid_0's average_precision: 0.20325\n",
      "[25]\tvalid_0's l2: 0.0438911\tvalid_0's average_precision: 0.202919\n",
      "[26]\tvalid_0's l2: 0.0437455\tvalid_0's average_precision: 0.205149\n",
      "[27]\tvalid_0's l2: 0.044308\tvalid_0's average_precision: 0.196702\n",
      "[28]\tvalid_0's l2: 0.0443215\tvalid_0's average_precision: 0.196925\n",
      "[29]\tvalid_0's l2: 0.0444473\tvalid_0's average_precision: 0.194474\n",
      "[30]\tvalid_0's l2: 0.0446655\tvalid_0's average_precision: 0.192008\n",
      "[31]\tvalid_0's l2: 0.0446556\tvalid_0's average_precision: 0.192109\n",
      "[32]\tvalid_0's l2: 0.0446648\tvalid_0's average_precision: 0.192106\n",
      "[33]\tvalid_0's l2: 0.0446693\tvalid_0's average_precision: 0.192281\n",
      "[34]\tvalid_0's l2: 0.0447693\tvalid_0's average_precision: 0.191461\n",
      "[35]\tvalid_0's l2: 0.0449962\tvalid_0's average_precision: 0.189457\n",
      "[36]\tvalid_0's l2: 0.0449993\tvalid_0's average_precision: 0.188843\n",
      "[37]\tvalid_0's l2: 0.0450088\tvalid_0's average_precision: 0.188986\n",
      "[38]\tvalid_0's l2: 0.0450594\tvalid_0's average_precision: 0.188387\n",
      "[39]\tvalid_0's l2: 0.0450537\tvalid_0's average_precision: 0.188516\n",
      "[40]\tvalid_0's l2: 0.045057\tvalid_0's average_precision: 0.188126\n",
      "[41]\tvalid_0's l2: 0.0450484\tvalid_0's average_precision: 0.188884\n",
      "[42]\tvalid_0's l2: 0.04511\tvalid_0's average_precision: 0.187548\n",
      "[43]\tvalid_0's l2: 0.0450491\tvalid_0's average_precision: 0.188706\n",
      "[44]\tvalid_0's l2: 0.0451163\tvalid_0's average_precision: 0.188093\n",
      "[45]\tvalid_0's l2: 0.0451107\tvalid_0's average_precision: 0.187794\n"
     ]
    },
    {
     "name": "stderr",
     "output_type": "stream",
     "text": [
      "/opt/conda/lib/python3.7/site-packages/lightgbm/sklearn.py:726: UserWarning: 'early_stopping_rounds' argument is deprecated and will be removed in a future release of LightGBM. Pass 'early_stopping()' callback via 'callbacks' argument instead.\n",
      "  _log_warning(\"'early_stopping_rounds' argument is deprecated and will be removed in a future release of LightGBM. \"\n"
     ]
    },
    {
     "name": "stdout",
     "output_type": "stream",
     "text": [
      "[1]\tvalid_0's l2: 0.00437416\tvalid_0's average_precision: 0.00385485\n",
      "[2]\tvalid_0's l2: 0.00432861\tvalid_0's average_precision: 0.00424554\n",
      "[3]\tvalid_0's l2: 0.00436863\tvalid_0's average_precision: 0.0060113\n",
      "[4]\tvalid_0's l2: 0.00439231\tvalid_0's average_precision: 0.00590593\n",
      "[5]\tvalid_0's l2: 0.00438036\tvalid_0's average_precision: 0.005802\n",
      "[6]\tvalid_0's l2: 0.00439906\tvalid_0's average_precision: 0.00561918\n",
      "[7]\tvalid_0's l2: 0.0044095\tvalid_0's average_precision: 0.00563707\n",
      "[8]\tvalid_0's l2: 0.00445638\tvalid_0's average_precision: 0.00596444\n",
      "[9]\tvalid_0's l2: 0.00447454\tvalid_0's average_precision: 0.00594162\n",
      "[10]\tvalid_0's l2: 0.00447175\tvalid_0's average_precision: 0.00797505\n",
      "[11]\tvalid_0's l2: 0.00447025\tvalid_0's average_precision: 0.00798366\n",
      "[12]\tvalid_0's l2: 0.00451825\tvalid_0's average_precision: 0.00836501\n",
      "[13]\tvalid_0's l2: 0.00456169\tvalid_0's average_precision: 0.00812454\n",
      "[14]\tvalid_0's l2: 0.0045948\tvalid_0's average_precision: 0.00770749\n",
      "[15]\tvalid_0's l2: 0.00460106\tvalid_0's average_precision: 0.00840343\n",
      "[16]\tvalid_0's l2: 0.00460719\tvalid_0's average_precision: 0.00960928\n",
      "[17]\tvalid_0's l2: 0.00462007\tvalid_0's average_precision: 0.00979306\n",
      "[18]\tvalid_0's l2: 0.00470067\tvalid_0's average_precision: 0.0105582\n",
      "[19]\tvalid_0's l2: 0.00466801\tvalid_0's average_precision: 0.0127227\n",
      "[20]\tvalid_0's l2: 0.00466669\tvalid_0's average_precision: 0.012569\n",
      "[21]\tvalid_0's l2: 0.00468331\tvalid_0's average_precision: 0.012063\n",
      "[22]\tvalid_0's l2: 0.00468408\tvalid_0's average_precision: 0.0114513\n",
      "[23]\tvalid_0's l2: 0.00468462\tvalid_0's average_precision: 0.0114233\n",
      "[24]\tvalid_0's l2: 0.00470566\tvalid_0's average_precision: 0.0113775\n",
      "[25]\tvalid_0's l2: 0.004727\tvalid_0's average_precision: 0.0113075\n",
      "[26]\tvalid_0's l2: 0.00473034\tvalid_0's average_precision: 0.0112521\n",
      "[27]\tvalid_0's l2: 0.00470065\tvalid_0's average_precision: 0.0113728\n",
      "[0.37488007300806697, 0.18221712042847027, 0.0802105239703691, 0.1711050510095463, 0.07205348753428766]\n"
     ]
    }
   ],
   "source": [
    "from sklearn.model_selection import GroupKFold\n",
    "\n",
    "N_FOLDS=5\n",
    "kfold = GroupKFold(N_FOLDS)\n",
    "group_var = train.Subject\n",
    "groups=kfold.split(train, groups=group_var)\n",
    "regs=[]\n",
    "cvs=[]\n",
    "for fold, (tr_idx,te_idx ) in enumerate(tqdm(groups, total=N_FOLDS, desc=\"Folds\")):\n",
    "    tr_idx=pd.Series(tr_idx).sample(n=2000000,random_state=42).values #2000000\n",
    "    \n",
    "    # Create a base XGBoost regressor with the common parameters\n",
    "    base_regressor = lgb.LGBMRegressor(**best_params_)\n",
    "\n",
    "    # Wrap the base regressor with the MultiOutputRegressor\n",
    "    multioutput_regressor = LGBMMultiOutputRegressor(base_regressor)\n",
    "\n",
    "    x_tr,y_tr=train.loc[tr_idx,cols].to_numpy(),train.loc[tr_idx,pcols].to_numpy()\n",
    "    x_te,y_te=train.loc[te_idx,cols].to_numpy(),train.loc[te_idx,pcols].to_numpy()\n",
    "\n",
    "    multioutput_regressor.fit(\n",
    "    x_tr,y_tr,\n",
    "    eval_set=(x_te,y_te),\n",
    "    eval_metric=custom_average_precision,\n",
    "    early_stopping_rounds=25\n",
    "    )\n",
    "    regs.append(multioutput_regressor)\n",
    "    cv=metrics.average_precision_score(y_te, multioutput_regressor.predict(x_te).clip(0.0,1.0))\n",
    "    cvs.append(cv)\n",
    "print(cvs)"
   ]
  },
  {
   "cell_type": "markdown",
   "id": "7ce73faa",
   "metadata": {
    "papermill": {
     "duration": 0.045255,
     "end_time": "2023-04-15T04:20:01.266272",
     "exception": false,
     "start_time": "2023-04-15T04:20:01.221017",
     "status": "completed"
    },
    "tags": []
   },
   "source": [
    "## Predict for Test"
   ]
  },
  {
   "cell_type": "code",
   "execution_count": 45,
   "id": "4efd6e76",
   "metadata": {
    "execution": {
     "iopub.execute_input": "2023-04-15T04:20:01.363407Z",
     "iopub.status.busy": "2023-04-15T04:20:01.362227Z",
     "iopub.status.idle": "2023-04-15T04:20:10.532304Z",
     "shell.execute_reply": "2023-04-15T04:20:10.530881Z"
    },
    "papermill": {
     "duration": 9.220784,
     "end_time": "2023-04-15T04:20:10.535140",
     "exception": false,
     "start_time": "2023-04-15T04:20:01.314356",
     "status": "completed"
    },
    "tags": []
   },
   "outputs": [],
   "source": [
    "sub['t'] = 0\n",
    "submission = []\n",
    "for f in test:\n",
    "    df = pd.read_csv(f)\n",
    "    df.set_index('Time', drop=True, inplace=True)\n",
    "\n",
    "    df['Id'] = f.split('/')[-1].split('.')[0]\n",
    "#     df = df.fillna(0).reset_index(drop=True)\n",
    "    df['Time_frac']=(df.index/df.index.max()).values#currently the index of data is actually \"Time\"\n",
    "    df = pd.merge(df, tasks[['Id','t_kmeans']], how='left', on='Id').fillna(-1)\n",
    "#     df = pd.merge(df, subjects[['Id','s_kmeans']], how='left', on='Id').fillna(-1)\n",
    "    df = pd.merge(df, metadata_complex[['Id','Subject']+['Visit','Test','Medication','s_kmeans']], how='left', on='Id').fillna(-1)\n",
    "    df_feats = fc.calculate(df, return_df=True, include_final_window=True, approve_sparsity=True, window_idx=\"begin\")\n",
    "    df = df.merge(df_feats, how=\"left\", left_index=True, right_index=True)\n",
    "    df.fillna(method=\"ffill\", inplace=True)\n",
    "#     res = pd.DataFrame(np.round(reg.predict(df[cols]).clip(0.0,1.0),3), columns=pcols)\n",
    "    \n",
    "    res_vals=[]\n",
    "    for i_fold in range(N_FOLDS):\n",
    "        res_val=np.round(regs[i_fold].predict(df[cols]).clip(0.0,1.0),3)\n",
    "        res_vals.append(np.expand_dims(res_val,axis=2))\n",
    "    res_vals=np.mean(np.concatenate(res_vals,axis=2),axis=2)\n",
    "    res = pd.DataFrame(res_vals, columns=pcols)\n",
    "    \n",
    "    df = pd.concat([df,res], axis=1)\n",
    "    df['Id'] = df['Id'].astype(str) + '_' + df.index.astype(str)\n",
    "    submission.append(df[scols])\n",
    "submission = pd.concat(submission)\n",
    "submission = pd.merge(sub[['Id']], submission, how='left', on='Id').fillna(0.0)\n",
    "submission[scols].to_csv('submission.csv', index=False)\n"
   ]
  },
  {
   "cell_type": "code",
   "execution_count": null,
   "id": "72ff5d34",
   "metadata": {
    "papermill": {
     "duration": 0.046235,
     "end_time": "2023-04-15T04:20:10.627837",
     "exception": false,
     "start_time": "2023-04-15T04:20:10.581602",
     "status": "completed"
    },
    "tags": []
   },
   "outputs": [],
   "source": []
  }
 ],
 "metadata": {
  "kernelspec": {
   "display_name": "Python 3",
   "language": "python",
   "name": "python3"
  },
  "language_info": {
   "codemirror_mode": {
    "name": "ipython",
    "version": 3
   },
   "file_extension": ".py",
   "mimetype": "text/x-python",
   "name": "python",
   "nbconvert_exporter": "python",
   "pygments_lexer": "ipython3",
   "version": "3.7.12"
  },
  "papermill": {
   "default_parameters": {},
   "duration": 1459.515432,
   "end_time": "2023-04-15T04:20:13.804675",
   "environment_variables": {},
   "exception": null,
   "input_path": "__notebook__.ipynb",
   "output_path": "__notebook__.ipynb",
   "parameters": {},
   "start_time": "2023-04-15T03:55:54.289243",
   "version": "2.4.0"
  },
  "widgets": {
   "application/vnd.jupyter.widget-state+json": {
    "state": {
     "11ec08b8395e4efcba369ace85027071": {
      "model_module": "@jupyter-widgets/controls",
      "model_module_version": "1.5.0",
      "model_name": "FloatProgressModel",
      "state": {
       "_dom_classes": [],
       "_model_module": "@jupyter-widgets/controls",
       "_model_module_version": "1.5.0",
       "_model_name": "FloatProgressModel",
       "_view_count": null,
       "_view_module": "@jupyter-widgets/controls",
       "_view_module_version": "1.5.0",
       "_view_name": "ProgressView",
       "bar_style": "success",
       "description": "",
       "description_tooltip": null,
       "layout": "IPY_MODEL_1761ac483d084aa9a73eb8071108b6eb",
       "max": 970.0,
       "min": 0.0,
       "orientation": "horizontal",
       "style": "IPY_MODEL_3db8273f613e45f49fb970df63f67a5c",
       "value": 970.0
      }
     },
     "1761ac483d084aa9a73eb8071108b6eb": {
      "model_module": "@jupyter-widgets/base",
      "model_module_version": "1.2.0",
      "model_name": "LayoutModel",
      "state": {
       "_model_module": "@jupyter-widgets/base",
       "_model_module_version": "1.2.0",
       "_model_name": "LayoutModel",
       "_view_count": null,
       "_view_module": "@jupyter-widgets/base",
       "_view_module_version": "1.2.0",
       "_view_name": "LayoutView",
       "align_content": null,
       "align_items": null,
       "align_self": null,
       "border": null,
       "bottom": null,
       "display": null,
       "flex": null,
       "flex_flow": null,
       "grid_area": null,
       "grid_auto_columns": null,
       "grid_auto_flow": null,
       "grid_auto_rows": null,
       "grid_column": null,
       "grid_gap": null,
       "grid_row": null,
       "grid_template_areas": null,
       "grid_template_columns": null,
       "grid_template_rows": null,
       "height": null,
       "justify_content": null,
       "justify_items": null,
       "left": null,
       "margin": null,
       "max_height": null,
       "max_width": null,
       "min_height": null,
       "min_width": null,
       "object_fit": null,
       "object_position": null,
       "order": null,
       "overflow": null,
       "overflow_x": null,
       "overflow_y": null,
       "padding": null,
       "right": null,
       "top": null,
       "visibility": null,
       "width": null
      }
     },
     "2922a8a3a2954ea9bc2434a56605d414": {
      "model_module": "@jupyter-widgets/controls",
      "model_module_version": "1.5.0",
      "model_name": "DescriptionStyleModel",
      "state": {
       "_model_module": "@jupyter-widgets/controls",
       "_model_module_version": "1.5.0",
       "_model_name": "DescriptionStyleModel",
       "_view_count": null,
       "_view_module": "@jupyter-widgets/base",
       "_view_module_version": "1.2.0",
       "_view_name": "StyleView",
       "description_width": ""
      }
     },
     "3ccb63c60ce44f30a305a1043b359b61": {
      "model_module": "@jupyter-widgets/controls",
      "model_module_version": "1.5.0",
      "model_name": "HTMLModel",
      "state": {
       "_dom_classes": [],
       "_model_module": "@jupyter-widgets/controls",
       "_model_module_version": "1.5.0",
       "_model_name": "HTMLModel",
       "_view_count": null,
       "_view_module": "@jupyter-widgets/controls",
       "_view_module_version": "1.5.0",
       "_view_name": "HTMLView",
       "description": "",
       "description_tooltip": null,
       "layout": "IPY_MODEL_e966bfd476a949c6a7d57145e5c8a400",
       "placeholder": "​",
       "style": "IPY_MODEL_bd922957f3d642c4ac2d1fe7ce7f5f8d",
       "value": "Folds: 100%"
      }
     },
     "3db6259287ad4e1bb093d3bab52d0538": {
      "model_module": "@jupyter-widgets/base",
      "model_module_version": "1.2.0",
      "model_name": "LayoutModel",
      "state": {
       "_model_module": "@jupyter-widgets/base",
       "_model_module_version": "1.2.0",
       "_model_name": "LayoutModel",
       "_view_count": null,
       "_view_module": "@jupyter-widgets/base",
       "_view_module_version": "1.2.0",
       "_view_name": "LayoutView",
       "align_content": null,
       "align_items": null,
       "align_self": null,
       "border": null,
       "bottom": null,
       "display": null,
       "flex": null,
       "flex_flow": null,
       "grid_area": null,
       "grid_auto_columns": null,
       "grid_auto_flow": null,
       "grid_auto_rows": null,
       "grid_column": null,
       "grid_gap": null,
       "grid_row": null,
       "grid_template_areas": null,
       "grid_template_columns": null,
       "grid_template_rows": null,
       "height": null,
       "justify_content": null,
       "justify_items": null,
       "left": null,
       "margin": null,
       "max_height": null,
       "max_width": null,
       "min_height": null,
       "min_width": null,
       "object_fit": null,
       "object_position": null,
       "order": null,
       "overflow": null,
       "overflow_x": null,
       "overflow_y": null,
       "padding": null,
       "right": null,
       "top": null,
       "visibility": null,
       "width": null
      }
     },
     "3db8273f613e45f49fb970df63f67a5c": {
      "model_module": "@jupyter-widgets/controls",
      "model_module_version": "1.5.0",
      "model_name": "ProgressStyleModel",
      "state": {
       "_model_module": "@jupyter-widgets/controls",
       "_model_module_version": "1.5.0",
       "_model_name": "ProgressStyleModel",
       "_view_count": null,
       "_view_module": "@jupyter-widgets/base",
       "_view_module_version": "1.2.0",
       "_view_name": "StyleView",
       "bar_color": null,
       "description_width": ""
      }
     },
     "5d3004d0d36c44579dfbb1157f354b71": {
      "model_module": "@jupyter-widgets/controls",
      "model_module_version": "1.5.0",
      "model_name": "HTMLModel",
      "state": {
       "_dom_classes": [],
       "_model_module": "@jupyter-widgets/controls",
       "_model_module_version": "1.5.0",
       "_model_name": "HTMLModel",
       "_view_count": null,
       "_view_module": "@jupyter-widgets/controls",
       "_view_module_version": "1.5.0",
       "_view_name": "HTMLView",
       "description": "",
       "description_tooltip": null,
       "layout": "IPY_MODEL_93080ee0780b49df8ee7d57d6f2e09fd",
       "placeholder": "​",
       "style": "IPY_MODEL_f706d23b781d41e08d2bc2a356697b90",
       "value": " 5/5 [15:08&lt;00:00, 180.45s/it]"
      }
     },
     "8791c95ec03a4bd2a0dd25e9c45bc5b9": {
      "model_module": "@jupyter-widgets/base",
      "model_module_version": "1.2.0",
      "model_name": "LayoutModel",
      "state": {
       "_model_module": "@jupyter-widgets/base",
       "_model_module_version": "1.2.0",
       "_model_name": "LayoutModel",
       "_view_count": null,
       "_view_module": "@jupyter-widgets/base",
       "_view_module_version": "1.2.0",
       "_view_name": "LayoutView",
       "align_content": null,
       "align_items": null,
       "align_self": null,
       "border": null,
       "bottom": null,
       "display": null,
       "flex": null,
       "flex_flow": null,
       "grid_area": null,
       "grid_auto_columns": null,
       "grid_auto_flow": null,
       "grid_auto_rows": null,
       "grid_column": null,
       "grid_gap": null,
       "grid_row": null,
       "grid_template_areas": null,
       "grid_template_columns": null,
       "grid_template_rows": null,
       "height": null,
       "justify_content": null,
       "justify_items": null,
       "left": null,
       "margin": null,
       "max_height": null,
       "max_width": null,
       "min_height": null,
       "min_width": null,
       "object_fit": null,
       "object_position": null,
       "order": null,
       "overflow": null,
       "overflow_x": null,
       "overflow_y": null,
       "padding": null,
       "right": null,
       "top": null,
       "visibility": null,
       "width": null
      }
     },
     "8defc04ac8e4442ea9e0abd446423e36": {
      "model_module": "@jupyter-widgets/base",
      "model_module_version": "1.2.0",
      "model_name": "LayoutModel",
      "state": {
       "_model_module": "@jupyter-widgets/base",
       "_model_module_version": "1.2.0",
       "_model_name": "LayoutModel",
       "_view_count": null,
       "_view_module": "@jupyter-widgets/base",
       "_view_module_version": "1.2.0",
       "_view_name": "LayoutView",
       "align_content": null,
       "align_items": null,
       "align_self": null,
       "border": null,
       "bottom": null,
       "display": null,
       "flex": null,
       "flex_flow": null,
       "grid_area": null,
       "grid_auto_columns": null,
       "grid_auto_flow": null,
       "grid_auto_rows": null,
       "grid_column": null,
       "grid_gap": null,
       "grid_row": null,
       "grid_template_areas": null,
       "grid_template_columns": null,
       "grid_template_rows": null,
       "height": null,
       "justify_content": null,
       "justify_items": null,
       "left": null,
       "margin": null,
       "max_height": null,
       "max_width": null,
       "min_height": null,
       "min_width": null,
       "object_fit": null,
       "object_position": null,
       "order": null,
       "overflow": null,
       "overflow_x": null,
       "overflow_y": null,
       "padding": null,
       "right": null,
       "top": null,
       "visibility": null,
       "width": null
      }
     },
     "92d4373c7ebf46619f1d9f7f07e304ce": {
      "model_module": "@jupyter-widgets/controls",
      "model_module_version": "1.5.0",
      "model_name": "FloatProgressModel",
      "state": {
       "_dom_classes": [],
       "_model_module": "@jupyter-widgets/controls",
       "_model_module_version": "1.5.0",
       "_model_name": "FloatProgressModel",
       "_view_count": null,
       "_view_module": "@jupyter-widgets/controls",
       "_view_module_version": "1.5.0",
       "_view_name": "ProgressView",
       "bar_style": "success",
       "description": "",
       "description_tooltip": null,
       "layout": "IPY_MODEL_da9bb3aac1c343aea2a49d6864ab4dbf",
       "max": 5.0,
       "min": 0.0,
       "orientation": "horizontal",
       "style": "IPY_MODEL_b1cea3552315453a9e84d15c431e880a",
       "value": 5.0
      }
     },
     "93080ee0780b49df8ee7d57d6f2e09fd": {
      "model_module": "@jupyter-widgets/base",
      "model_module_version": "1.2.0",
      "model_name": "LayoutModel",
      "state": {
       "_model_module": "@jupyter-widgets/base",
       "_model_module_version": "1.2.0",
       "_model_name": "LayoutModel",
       "_view_count": null,
       "_view_module": "@jupyter-widgets/base",
       "_view_module_version": "1.2.0",
       "_view_name": "LayoutView",
       "align_content": null,
       "align_items": null,
       "align_self": null,
       "border": null,
       "bottom": null,
       "display": null,
       "flex": null,
       "flex_flow": null,
       "grid_area": null,
       "grid_auto_columns": null,
       "grid_auto_flow": null,
       "grid_auto_rows": null,
       "grid_column": null,
       "grid_gap": null,
       "grid_row": null,
       "grid_template_areas": null,
       "grid_template_columns": null,
       "grid_template_rows": null,
       "height": null,
       "justify_content": null,
       "justify_items": null,
       "left": null,
       "margin": null,
       "max_height": null,
       "max_width": null,
       "min_height": null,
       "min_width": null,
       "object_fit": null,
       "object_position": null,
       "order": null,
       "overflow": null,
       "overflow_x": null,
       "overflow_y": null,
       "padding": null,
       "right": null,
       "top": null,
       "visibility": null,
       "width": null
      }
     },
     "96f8241a76884a09aa5dcc0575897f9e": {
      "model_module": "@jupyter-widgets/controls",
      "model_module_version": "1.5.0",
      "model_name": "HTMLModel",
      "state": {
       "_dom_classes": [],
       "_model_module": "@jupyter-widgets/controls",
       "_model_module_version": "1.5.0",
       "_model_name": "HTMLModel",
       "_view_count": null,
       "_view_module": "@jupyter-widgets/controls",
       "_view_module_version": "1.5.0",
       "_view_name": "HTMLView",
       "description": "",
       "description_tooltip": null,
       "layout": "IPY_MODEL_8defc04ac8e4442ea9e0abd446423e36",
       "placeholder": "​",
       "style": "IPY_MODEL_9d0ea33fd60c443d88607b6852bb74b1",
       "value": " 970/970 [07:48&lt;00:00, 38.59it/s]"
      }
     },
     "9d0ea33fd60c443d88607b6852bb74b1": {
      "model_module": "@jupyter-widgets/controls",
      "model_module_version": "1.5.0",
      "model_name": "DescriptionStyleModel",
      "state": {
       "_model_module": "@jupyter-widgets/controls",
       "_model_module_version": "1.5.0",
       "_model_name": "DescriptionStyleModel",
       "_view_count": null,
       "_view_module": "@jupyter-widgets/base",
       "_view_module_version": "1.2.0",
       "_view_name": "StyleView",
       "description_width": ""
      }
     },
     "b1cea3552315453a9e84d15c431e880a": {
      "model_module": "@jupyter-widgets/controls",
      "model_module_version": "1.5.0",
      "model_name": "ProgressStyleModel",
      "state": {
       "_model_module": "@jupyter-widgets/controls",
       "_model_module_version": "1.5.0",
       "_model_name": "ProgressStyleModel",
       "_view_count": null,
       "_view_module": "@jupyter-widgets/base",
       "_view_module_version": "1.2.0",
       "_view_name": "StyleView",
       "bar_color": null,
       "description_width": ""
      }
     },
     "bd922957f3d642c4ac2d1fe7ce7f5f8d": {
      "model_module": "@jupyter-widgets/controls",
      "model_module_version": "1.5.0",
      "model_name": "DescriptionStyleModel",
      "state": {
       "_model_module": "@jupyter-widgets/controls",
       "_model_module_version": "1.5.0",
       "_model_name": "DescriptionStyleModel",
       "_view_count": null,
       "_view_module": "@jupyter-widgets/base",
       "_view_module_version": "1.2.0",
       "_view_name": "StyleView",
       "description_width": ""
      }
     },
     "c8b4bda586b34cb9808d21a636a478bb": {
      "model_module": "@jupyter-widgets/controls",
      "model_module_version": "1.5.0",
      "model_name": "HTMLModel",
      "state": {
       "_dom_classes": [],
       "_model_module": "@jupyter-widgets/controls",
       "_model_module_version": "1.5.0",
       "_model_name": "HTMLModel",
       "_view_count": null,
       "_view_module": "@jupyter-widgets/controls",
       "_view_module_version": "1.5.0",
       "_view_name": "HTMLView",
       "description": "",
       "description_tooltip": null,
       "layout": "IPY_MODEL_ca8da0bece7849cebf1d5b135be0ec0c",
       "placeholder": "​",
       "style": "IPY_MODEL_2922a8a3a2954ea9bc2434a56605d414",
       "value": "100%"
      }
     },
     "ca8da0bece7849cebf1d5b135be0ec0c": {
      "model_module": "@jupyter-widgets/base",
      "model_module_version": "1.2.0",
      "model_name": "LayoutModel",
      "state": {
       "_model_module": "@jupyter-widgets/base",
       "_model_module_version": "1.2.0",
       "_model_name": "LayoutModel",
       "_view_count": null,
       "_view_module": "@jupyter-widgets/base",
       "_view_module_version": "1.2.0",
       "_view_name": "LayoutView",
       "align_content": null,
       "align_items": null,
       "align_self": null,
       "border": null,
       "bottom": null,
       "display": null,
       "flex": null,
       "flex_flow": null,
       "grid_area": null,
       "grid_auto_columns": null,
       "grid_auto_flow": null,
       "grid_auto_rows": null,
       "grid_column": null,
       "grid_gap": null,
       "grid_row": null,
       "grid_template_areas": null,
       "grid_template_columns": null,
       "grid_template_rows": null,
       "height": null,
       "justify_content": null,
       "justify_items": null,
       "left": null,
       "margin": null,
       "max_height": null,
       "max_width": null,
       "min_height": null,
       "min_width": null,
       "object_fit": null,
       "object_position": null,
       "order": null,
       "overflow": null,
       "overflow_x": null,
       "overflow_y": null,
       "padding": null,
       "right": null,
       "top": null,
       "visibility": null,
       "width": null
      }
     },
     "da9bb3aac1c343aea2a49d6864ab4dbf": {
      "model_module": "@jupyter-widgets/base",
      "model_module_version": "1.2.0",
      "model_name": "LayoutModel",
      "state": {
       "_model_module": "@jupyter-widgets/base",
       "_model_module_version": "1.2.0",
       "_model_name": "LayoutModel",
       "_view_count": null,
       "_view_module": "@jupyter-widgets/base",
       "_view_module_version": "1.2.0",
       "_view_name": "LayoutView",
       "align_content": null,
       "align_items": null,
       "align_self": null,
       "border": null,
       "bottom": null,
       "display": null,
       "flex": null,
       "flex_flow": null,
       "grid_area": null,
       "grid_auto_columns": null,
       "grid_auto_flow": null,
       "grid_auto_rows": null,
       "grid_column": null,
       "grid_gap": null,
       "grid_row": null,
       "grid_template_areas": null,
       "grid_template_columns": null,
       "grid_template_rows": null,
       "height": null,
       "justify_content": null,
       "justify_items": null,
       "left": null,
       "margin": null,
       "max_height": null,
       "max_width": null,
       "min_height": null,
       "min_width": null,
       "object_fit": null,
       "object_position": null,
       "order": null,
       "overflow": null,
       "overflow_x": null,
       "overflow_y": null,
       "padding": null,
       "right": null,
       "top": null,
       "visibility": null,
       "width": null
      }
     },
     "e966bfd476a949c6a7d57145e5c8a400": {
      "model_module": "@jupyter-widgets/base",
      "model_module_version": "1.2.0",
      "model_name": "LayoutModel",
      "state": {
       "_model_module": "@jupyter-widgets/base",
       "_model_module_version": "1.2.0",
       "_model_name": "LayoutModel",
       "_view_count": null,
       "_view_module": "@jupyter-widgets/base",
       "_view_module_version": "1.2.0",
       "_view_name": "LayoutView",
       "align_content": null,
       "align_items": null,
       "align_self": null,
       "border": null,
       "bottom": null,
       "display": null,
       "flex": null,
       "flex_flow": null,
       "grid_area": null,
       "grid_auto_columns": null,
       "grid_auto_flow": null,
       "grid_auto_rows": null,
       "grid_column": null,
       "grid_gap": null,
       "grid_row": null,
       "grid_template_areas": null,
       "grid_template_columns": null,
       "grid_template_rows": null,
       "height": null,
       "justify_content": null,
       "justify_items": null,
       "left": null,
       "margin": null,
       "max_height": null,
       "max_width": null,
       "min_height": null,
       "min_width": null,
       "object_fit": null,
       "object_position": null,
       "order": null,
       "overflow": null,
       "overflow_x": null,
       "overflow_y": null,
       "padding": null,
       "right": null,
       "top": null,
       "visibility": null,
       "width": null
      }
     },
     "ef6c1fd539e243ef839b15ffb3afa740": {
      "model_module": "@jupyter-widgets/controls",
      "model_module_version": "1.5.0",
      "model_name": "HBoxModel",
      "state": {
       "_dom_classes": [],
       "_model_module": "@jupyter-widgets/controls",
       "_model_module_version": "1.5.0",
       "_model_name": "HBoxModel",
       "_view_count": null,
       "_view_module": "@jupyter-widgets/controls",
       "_view_module_version": "1.5.0",
       "_view_name": "HBoxView",
       "box_style": "",
       "children": [
        "IPY_MODEL_3ccb63c60ce44f30a305a1043b359b61",
        "IPY_MODEL_92d4373c7ebf46619f1d9f7f07e304ce",
        "IPY_MODEL_5d3004d0d36c44579dfbb1157f354b71"
       ],
       "layout": "IPY_MODEL_8791c95ec03a4bd2a0dd25e9c45bc5b9"
      }
     },
     "f706d23b781d41e08d2bc2a356697b90": {
      "model_module": "@jupyter-widgets/controls",
      "model_module_version": "1.5.0",
      "model_name": "DescriptionStyleModel",
      "state": {
       "_model_module": "@jupyter-widgets/controls",
       "_model_module_version": "1.5.0",
       "_model_name": "DescriptionStyleModel",
       "_view_count": null,
       "_view_module": "@jupyter-widgets/base",
       "_view_module_version": "1.2.0",
       "_view_name": "StyleView",
       "description_width": ""
      }
     },
     "fcf600c0982f459890994375c6d8854e": {
      "model_module": "@jupyter-widgets/controls",
      "model_module_version": "1.5.0",
      "model_name": "HBoxModel",
      "state": {
       "_dom_classes": [],
       "_model_module": "@jupyter-widgets/controls",
       "_model_module_version": "1.5.0",
       "_model_name": "HBoxModel",
       "_view_count": null,
       "_view_module": "@jupyter-widgets/controls",
       "_view_module_version": "1.5.0",
       "_view_name": "HBoxView",
       "box_style": "",
       "children": [
        "IPY_MODEL_c8b4bda586b34cb9808d21a636a478bb",
        "IPY_MODEL_11ec08b8395e4efcba369ace85027071",
        "IPY_MODEL_96f8241a76884a09aa5dcc0575897f9e"
       ],
       "layout": "IPY_MODEL_3db6259287ad4e1bb093d3bab52d0538"
      }
     }
    },
    "version_major": 2,
    "version_minor": 0
   }
  }
 },
 "nbformat": 4,
 "nbformat_minor": 5
}

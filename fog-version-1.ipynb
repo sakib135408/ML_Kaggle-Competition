{
 "cells": [
  {
   "cell_type": "markdown",
   "id": "d44cb1ac",
   "metadata": {
    "papermill": {
     "duration": 0.010859,
     "end_time": "2023-04-14T03:28:12.223348",
     "exception": false,
     "start_time": "2023-04-14T03:28:12.212489",
     "status": "completed"
    },
    "tags": []
   },
   "source": [
    "## Data loading"
   ]
  },
  {
   "cell_type": "code",
   "execution_count": 1,
   "id": "52a7478a",
   "metadata": {
    "execution": {
     "iopub.execute_input": "2023-04-14T03:28:12.248739Z",
     "iopub.status.busy": "2023-04-14T03:28:12.248165Z",
     "iopub.status.idle": "2023-04-14T03:28:15.144182Z",
     "shell.execute_reply": "2023-04-14T03:28:15.142522Z"
    },
    "papermill": {
     "duration": 2.911902,
     "end_time": "2023-04-14T03:28:15.148542",
     "exception": false,
     "start_time": "2023-04-14T03:28:12.236640",
     "status": "completed"
    },
    "tags": []
   },
   "outputs": [],
   "source": [
    "import numpy as np\n",
    "import pandas as pd\n",
    "from tqdm.auto import tqdm\n",
    "from sklearn import *\n",
    "import glob"
   ]
  },
  {
   "cell_type": "code",
   "execution_count": 2,
   "id": "318644b7",
   "metadata": {
    "execution": {
     "iopub.execute_input": "2023-04-14T03:28:15.170177Z",
     "iopub.status.busy": "2023-04-14T03:28:15.169665Z",
     "iopub.status.idle": "2023-04-14T03:28:15.176478Z",
     "shell.execute_reply": "2023-04-14T03:28:15.174994Z"
    },
    "papermill": {
     "duration": 0.021516,
     "end_time": "2023-04-14T03:28:15.179279",
     "exception": false,
     "start_time": "2023-04-14T03:28:15.157763",
     "status": "completed"
    },
    "tags": []
   },
   "outputs": [],
   "source": [
    "p = '/kaggle/input/tlvmc-parkinsons-freezing-gait-prediction/'"
   ]
  },
  {
   "cell_type": "code",
   "execution_count": 3,
   "id": "49a90da7",
   "metadata": {
    "execution": {
     "iopub.execute_input": "2023-04-14T03:28:15.201298Z",
     "iopub.status.busy": "2023-04-14T03:28:15.200789Z",
     "iopub.status.idle": "2023-04-14T03:28:15.397384Z",
     "shell.execute_reply": "2023-04-14T03:28:15.395853Z"
    },
    "papermill": {
     "duration": 0.212209,
     "end_time": "2023-04-14T03:28:15.400624",
     "exception": false,
     "start_time": "2023-04-14T03:28:15.188415",
     "status": "completed"
    },
    "tags": []
   },
   "outputs": [],
   "source": [
    "train = glob.glob(p+'train/**/**')\n",
    "test = glob.glob(p+'test/**/**')"
   ]
  },
  {
   "cell_type": "code",
   "execution_count": 4,
   "id": "c2f59c78",
   "metadata": {
    "execution": {
     "iopub.execute_input": "2023-04-14T03:28:15.422230Z",
     "iopub.status.busy": "2023-04-14T03:28:15.421749Z",
     "iopub.status.idle": "2023-04-14T03:28:15.430826Z",
     "shell.execute_reply": "2023-04-14T03:28:15.429512Z"
    },
    "papermill": {
     "duration": 0.023431,
     "end_time": "2023-04-14T03:28:15.434402",
     "exception": false,
     "start_time": "2023-04-14T03:28:15.410971",
     "status": "completed"
    },
    "tags": []
   },
   "outputs": [
    {
     "data": {
      "text/plain": [
       "(970, 2)"
      ]
     },
     "execution_count": 4,
     "metadata": {},
     "output_type": "execute_result"
    }
   ],
   "source": [
    "len(train),len(test)"
   ]
  },
  {
   "cell_type": "code",
   "execution_count": 5,
   "id": "c12f355b",
   "metadata": {
    "execution": {
     "iopub.execute_input": "2023-04-14T03:28:15.455345Z",
     "iopub.status.busy": "2023-04-14T03:28:15.454906Z",
     "iopub.status.idle": "2023-04-14T03:28:15.836021Z",
     "shell.execute_reply": "2023-04-14T03:28:15.834393Z"
    },
    "papermill": {
     "duration": 0.396101,
     "end_time": "2023-04-14T03:28:15.839680",
     "exception": false,
     "start_time": "2023-04-14T03:28:15.443579",
     "status": "completed"
    },
    "tags": []
   },
   "outputs": [],
   "source": [
    "subjects = pd.read_csv(p+'subjects.csv')\n",
    "tasks = pd.read_csv(p+'tasks.csv')\n",
    "sub = pd.read_csv(p+'sample_submission.csv')"
   ]
  },
  {
   "cell_type": "code",
   "execution_count": 6,
   "id": "8e5b046b",
   "metadata": {
    "execution": {
     "iopub.execute_input": "2023-04-14T03:28:15.862507Z",
     "iopub.status.busy": "2023-04-14T03:28:15.862050Z",
     "iopub.status.idle": "2023-04-14T03:28:15.881547Z",
     "shell.execute_reply": "2023-04-14T03:28:15.879744Z"
    },
    "papermill": {
     "duration": 0.034411,
     "end_time": "2023-04-14T03:28:15.884496",
     "exception": false,
     "start_time": "2023-04-14T03:28:15.850085",
     "status": "completed"
    },
    "tags": []
   },
   "outputs": [],
   "source": [
    "tdcsfog_metadata=pd.read_csv(p+'tdcsfog_metadata.csv')\n",
    "defog_metadata=pd.read_csv(p+'defog_metadata.csv')"
   ]
  },
  {
   "cell_type": "code",
   "execution_count": 7,
   "id": "b2f4ba9b",
   "metadata": {
    "execution": {
     "iopub.execute_input": "2023-04-14T03:28:15.906983Z",
     "iopub.status.busy": "2023-04-14T03:28:15.905495Z",
     "iopub.status.idle": "2023-04-14T03:28:15.938396Z",
     "shell.execute_reply": "2023-04-14T03:28:15.936767Z"
    },
    "papermill": {
     "duration": 0.047896,
     "end_time": "2023-04-14T03:28:15.941981",
     "exception": false,
     "start_time": "2023-04-14T03:28:15.894085",
     "status": "completed"
    },
    "tags": []
   },
   "outputs": [
    {
     "data": {
      "text/html": [
       "<div>\n",
       "<style scoped>\n",
       "    .dataframe tbody tr th:only-of-type {\n",
       "        vertical-align: middle;\n",
       "    }\n",
       "\n",
       "    .dataframe tbody tr th {\n",
       "        vertical-align: top;\n",
       "    }\n",
       "\n",
       "    .dataframe thead th {\n",
       "        text-align: right;\n",
       "    }\n",
       "</style>\n",
       "<table border=\"1\" class=\"dataframe\">\n",
       "  <thead>\n",
       "    <tr style=\"text-align: right;\">\n",
       "      <th></th>\n",
       "      <th>Id</th>\n",
       "      <th>Subject</th>\n",
       "      <th>Visit</th>\n",
       "      <th>Test</th>\n",
       "      <th>Medication</th>\n",
       "    </tr>\n",
       "  </thead>\n",
       "  <tbody>\n",
       "    <tr>\n",
       "      <th>0</th>\n",
       "      <td>003f117e14</td>\n",
       "      <td>13abfd</td>\n",
       "      <td>3</td>\n",
       "      <td>2</td>\n",
       "      <td>on</td>\n",
       "    </tr>\n",
       "    <tr>\n",
       "      <th>1</th>\n",
       "      <td>009ee11563</td>\n",
       "      <td>d81e3a</td>\n",
       "      <td>4</td>\n",
       "      <td>2</td>\n",
       "      <td>on</td>\n",
       "    </tr>\n",
       "  </tbody>\n",
       "</table>\n",
       "</div>"
      ],
      "text/plain": [
       "           Id Subject  Visit  Test Medication\n",
       "0  003f117e14  13abfd      3     2         on\n",
       "1  009ee11563  d81e3a      4     2         on"
      ]
     },
     "execution_count": 7,
     "metadata": {},
     "output_type": "execute_result"
    }
   ],
   "source": [
    "tdcsfog_metadata.head(2)"
   ]
  },
  {
   "cell_type": "code",
   "execution_count": 8,
   "id": "64eb97df",
   "metadata": {
    "execution": {
     "iopub.execute_input": "2023-04-14T03:28:15.965362Z",
     "iopub.status.busy": "2023-04-14T03:28:15.964906Z",
     "iopub.status.idle": "2023-04-14T03:28:15.978279Z",
     "shell.execute_reply": "2023-04-14T03:28:15.976676Z"
    },
    "papermill": {
     "duration": 0.029127,
     "end_time": "2023-04-14T03:28:15.981280",
     "exception": false,
     "start_time": "2023-04-14T03:28:15.952153",
     "status": "completed"
    },
    "tags": []
   },
   "outputs": [
    {
     "data": {
      "text/html": [
       "<div>\n",
       "<style scoped>\n",
       "    .dataframe tbody tr th:only-of-type {\n",
       "        vertical-align: middle;\n",
       "    }\n",
       "\n",
       "    .dataframe tbody tr th {\n",
       "        vertical-align: top;\n",
       "    }\n",
       "\n",
       "    .dataframe thead th {\n",
       "        text-align: right;\n",
       "    }\n",
       "</style>\n",
       "<table border=\"1\" class=\"dataframe\">\n",
       "  <thead>\n",
       "    <tr style=\"text-align: right;\">\n",
       "      <th></th>\n",
       "      <th>Id</th>\n",
       "      <th>Subject</th>\n",
       "      <th>Visit</th>\n",
       "      <th>Medication</th>\n",
       "    </tr>\n",
       "  </thead>\n",
       "  <tbody>\n",
       "    <tr>\n",
       "      <th>0</th>\n",
       "      <td>02ab235146</td>\n",
       "      <td>ab54e1</td>\n",
       "      <td>2</td>\n",
       "      <td>on</td>\n",
       "    </tr>\n",
       "    <tr>\n",
       "      <th>1</th>\n",
       "      <td>02ea782681</td>\n",
       "      <td>bf608b</td>\n",
       "      <td>2</td>\n",
       "      <td>on</td>\n",
       "    </tr>\n",
       "  </tbody>\n",
       "</table>\n",
       "</div>"
      ],
      "text/plain": [
       "           Id Subject  Visit Medication\n",
       "0  02ab235146  ab54e1      2         on\n",
       "1  02ea782681  bf608b      2         on"
      ]
     },
     "execution_count": 8,
     "metadata": {},
     "output_type": "execute_result"
    }
   ],
   "source": [
    "defog_metadata.head(2)"
   ]
  },
  {
   "cell_type": "code",
   "execution_count": 9,
   "id": "a7cf3c28",
   "metadata": {
    "execution": {
     "iopub.execute_input": "2023-04-14T03:28:16.004862Z",
     "iopub.status.busy": "2023-04-14T03:28:16.004385Z",
     "iopub.status.idle": "2023-04-14T03:28:16.017841Z",
     "shell.execute_reply": "2023-04-14T03:28:16.016380Z"
    },
    "papermill": {
     "duration": 0.029253,
     "end_time": "2023-04-14T03:28:16.021036",
     "exception": false,
     "start_time": "2023-04-14T03:28:15.991783",
     "status": "completed"
    },
    "tags": []
   },
   "outputs": [],
   "source": [
    "tdcsfog_metadata['Module']='tdcsfog'\n",
    "defog_metadata['Module']='defog'"
   ]
  },
  {
   "cell_type": "code",
   "execution_count": 10,
   "id": "fdfd3804",
   "metadata": {
    "execution": {
     "iopub.execute_input": "2023-04-14T03:28:16.044359Z",
     "iopub.status.busy": "2023-04-14T03:28:16.043069Z",
     "iopub.status.idle": "2023-04-14T03:28:16.057340Z",
     "shell.execute_reply": "2023-04-14T03:28:16.055907Z"
    },
    "papermill": {
     "duration": 0.02987,
     "end_time": "2023-04-14T03:28:16.060866",
     "exception": false,
     "start_time": "2023-04-14T03:28:16.030996",
     "status": "completed"
    },
    "tags": []
   },
   "outputs": [],
   "source": [
    "metadata=pd.concat([tdcsfog_metadata,defog_metadata])"
   ]
  },
  {
   "cell_type": "code",
   "execution_count": 11,
   "id": "f07b5329",
   "metadata": {
    "execution": {
     "iopub.execute_input": "2023-04-14T03:28:16.084745Z",
     "iopub.status.busy": "2023-04-14T03:28:16.083873Z",
     "iopub.status.idle": "2023-04-14T03:28:16.106358Z",
     "shell.execute_reply": "2023-04-14T03:28:16.104219Z"
    },
    "papermill": {
     "duration": 0.038319,
     "end_time": "2023-04-14T03:28:16.110361",
     "exception": false,
     "start_time": "2023-04-14T03:28:16.072042",
     "status": "completed"
    },
    "tags": []
   },
   "outputs": [
    {
     "data": {
      "text/html": [
       "<div>\n",
       "<style scoped>\n",
       "    .dataframe tbody tr th:only-of-type {\n",
       "        vertical-align: middle;\n",
       "    }\n",
       "\n",
       "    .dataframe tbody tr th {\n",
       "        vertical-align: top;\n",
       "    }\n",
       "\n",
       "    .dataframe thead th {\n",
       "        text-align: right;\n",
       "    }\n",
       "</style>\n",
       "<table border=\"1\" class=\"dataframe\">\n",
       "  <thead>\n",
       "    <tr style=\"text-align: right;\">\n",
       "      <th></th>\n",
       "      <th>Id</th>\n",
       "      <th>Subject</th>\n",
       "      <th>Visit</th>\n",
       "      <th>Test</th>\n",
       "      <th>Medication</th>\n",
       "      <th>Module</th>\n",
       "    </tr>\n",
       "  </thead>\n",
       "  <tbody>\n",
       "    <tr>\n",
       "      <th>0</th>\n",
       "      <td>003f117e14</td>\n",
       "      <td>13abfd</td>\n",
       "      <td>3</td>\n",
       "      <td>2.0</td>\n",
       "      <td>on</td>\n",
       "      <td>tdcsfog</td>\n",
       "    </tr>\n",
       "    <tr>\n",
       "      <th>1</th>\n",
       "      <td>009ee11563</td>\n",
       "      <td>d81e3a</td>\n",
       "      <td>4</td>\n",
       "      <td>2.0</td>\n",
       "      <td>on</td>\n",
       "      <td>tdcsfog</td>\n",
       "    </tr>\n",
       "    <tr>\n",
       "      <th>2</th>\n",
       "      <td>011322847a</td>\n",
       "      <td>203e85</td>\n",
       "      <td>2</td>\n",
       "      <td>2.0</td>\n",
       "      <td>on</td>\n",
       "      <td>tdcsfog</td>\n",
       "    </tr>\n",
       "    <tr>\n",
       "      <th>3</th>\n",
       "      <td>01d0fe7266</td>\n",
       "      <td>203e85</td>\n",
       "      <td>2</td>\n",
       "      <td>1.0</td>\n",
       "      <td>off</td>\n",
       "      <td>tdcsfog</td>\n",
       "    </tr>\n",
       "    <tr>\n",
       "      <th>4</th>\n",
       "      <td>024418ba39</td>\n",
       "      <td>cecfb8</td>\n",
       "      <td>19</td>\n",
       "      <td>3.0</td>\n",
       "      <td>on</td>\n",
       "      <td>tdcsfog</td>\n",
       "    </tr>\n",
       "  </tbody>\n",
       "</table>\n",
       "</div>"
      ],
      "text/plain": [
       "           Id Subject  Visit  Test Medication   Module\n",
       "0  003f117e14  13abfd      3   2.0         on  tdcsfog\n",
       "1  009ee11563  d81e3a      4   2.0         on  tdcsfog\n",
       "2  011322847a  203e85      2   2.0         on  tdcsfog\n",
       "3  01d0fe7266  203e85      2   1.0        off  tdcsfog\n",
       "4  024418ba39  cecfb8     19   3.0         on  tdcsfog"
      ]
     },
     "execution_count": 11,
     "metadata": {},
     "output_type": "execute_result"
    }
   ],
   "source": [
    "metadata.head()"
   ]
  },
  {
   "cell_type": "markdown",
   "id": "5d021656",
   "metadata": {
    "papermill": {
     "duration": 0.011545,
     "end_time": "2023-04-14T03:28:16.135731",
     "exception": false,
     "start_time": "2023-04-14T03:28:16.124186",
     "status": "completed"
    },
    "tags": []
   },
   "source": [
    "### Tasks"
   ]
  },
  {
   "cell_type": "code",
   "execution_count": 12,
   "id": "4ef8ead1",
   "metadata": {
    "execution": {
     "iopub.execute_input": "2023-04-14T03:28:16.161167Z",
     "iopub.status.busy": "2023-04-14T03:28:16.160502Z",
     "iopub.status.idle": "2023-04-14T03:28:16.178459Z",
     "shell.execute_reply": "2023-04-14T03:28:16.176764Z"
    },
    "papermill": {
     "duration": 0.033942,
     "end_time": "2023-04-14T03:28:16.181759",
     "exception": false,
     "start_time": "2023-04-14T03:28:16.147817",
     "status": "completed"
    },
    "tags": []
   },
   "outputs": [
    {
     "data": {
      "text/html": [
       "<div>\n",
       "<style scoped>\n",
       "    .dataframe tbody tr th:only-of-type {\n",
       "        vertical-align: middle;\n",
       "    }\n",
       "\n",
       "    .dataframe tbody tr th {\n",
       "        vertical-align: top;\n",
       "    }\n",
       "\n",
       "    .dataframe thead th {\n",
       "        text-align: right;\n",
       "    }\n",
       "</style>\n",
       "<table border=\"1\" class=\"dataframe\">\n",
       "  <thead>\n",
       "    <tr style=\"text-align: right;\">\n",
       "      <th></th>\n",
       "      <th>Id</th>\n",
       "      <th>Begin</th>\n",
       "      <th>End</th>\n",
       "      <th>Task</th>\n",
       "    </tr>\n",
       "  </thead>\n",
       "  <tbody>\n",
       "    <tr>\n",
       "      <th>0</th>\n",
       "      <td>02ab235146</td>\n",
       "      <td>10.00</td>\n",
       "      <td>190.48</td>\n",
       "      <td>Rest1</td>\n",
       "    </tr>\n",
       "    <tr>\n",
       "      <th>1</th>\n",
       "      <td>02ab235146</td>\n",
       "      <td>211.24</td>\n",
       "      <td>271.56</td>\n",
       "      <td>Rest2</td>\n",
       "    </tr>\n",
       "  </tbody>\n",
       "</table>\n",
       "</div>"
      ],
      "text/plain": [
       "           Id   Begin     End   Task\n",
       "0  02ab235146   10.00  190.48  Rest1\n",
       "1  02ab235146  211.24  271.56  Rest2"
      ]
     },
     "execution_count": 12,
     "metadata": {},
     "output_type": "execute_result"
    }
   ],
   "source": [
    "tasks.head(2)"
   ]
  },
  {
   "cell_type": "code",
   "execution_count": 13,
   "id": "7134d213",
   "metadata": {
    "execution": {
     "iopub.execute_input": "2023-04-14T03:28:16.210830Z",
     "iopub.status.busy": "2023-04-14T03:28:16.210414Z",
     "iopub.status.idle": "2023-04-14T03:28:16.219039Z",
     "shell.execute_reply": "2023-04-14T03:28:16.217930Z"
    },
    "papermill": {
     "duration": 0.026103,
     "end_time": "2023-04-14T03:28:16.222158",
     "exception": false,
     "start_time": "2023-04-14T03:28:16.196055",
     "status": "completed"
    },
    "tags": []
   },
   "outputs": [],
   "source": [
    "tasks['Duration'] = tasks['End'] - tasks['Begin']"
   ]
  },
  {
   "cell_type": "code",
   "execution_count": 14,
   "id": "662f06be",
   "metadata": {
    "execution": {
     "iopub.execute_input": "2023-04-14T03:28:16.248688Z",
     "iopub.status.busy": "2023-04-14T03:28:16.248233Z",
     "iopub.status.idle": "2023-04-14T03:28:16.263792Z",
     "shell.execute_reply": "2023-04-14T03:28:16.262512Z"
    },
    "papermill": {
     "duration": 0.034563,
     "end_time": "2023-04-14T03:28:16.268451",
     "exception": false,
     "start_time": "2023-04-14T03:28:16.233888",
     "status": "completed"
    },
    "tags": []
   },
   "outputs": [
    {
     "data": {
      "text/html": [
       "<div>\n",
       "<style scoped>\n",
       "    .dataframe tbody tr th:only-of-type {\n",
       "        vertical-align: middle;\n",
       "    }\n",
       "\n",
       "    .dataframe tbody tr th {\n",
       "        vertical-align: top;\n",
       "    }\n",
       "\n",
       "    .dataframe thead th {\n",
       "        text-align: right;\n",
       "    }\n",
       "</style>\n",
       "<table border=\"1\" class=\"dataframe\">\n",
       "  <thead>\n",
       "    <tr style=\"text-align: right;\">\n",
       "      <th></th>\n",
       "      <th>Id</th>\n",
       "      <th>Begin</th>\n",
       "      <th>End</th>\n",
       "      <th>Task</th>\n",
       "      <th>Duration</th>\n",
       "    </tr>\n",
       "  </thead>\n",
       "  <tbody>\n",
       "    <tr>\n",
       "      <th>0</th>\n",
       "      <td>02ab235146</td>\n",
       "      <td>10.00</td>\n",
       "      <td>190.48</td>\n",
       "      <td>Rest1</td>\n",
       "      <td>180.48</td>\n",
       "    </tr>\n",
       "    <tr>\n",
       "      <th>1</th>\n",
       "      <td>02ab235146</td>\n",
       "      <td>211.24</td>\n",
       "      <td>271.56</td>\n",
       "      <td>Rest2</td>\n",
       "      <td>60.32</td>\n",
       "    </tr>\n",
       "  </tbody>\n",
       "</table>\n",
       "</div>"
      ],
      "text/plain": [
       "           Id   Begin     End   Task  Duration\n",
       "0  02ab235146   10.00  190.48  Rest1    180.48\n",
       "1  02ab235146  211.24  271.56  Rest2     60.32"
      ]
     },
     "execution_count": 14,
     "metadata": {},
     "output_type": "execute_result"
    }
   ],
   "source": [
    "tasks.head(2)"
   ]
  },
  {
   "cell_type": "code",
   "execution_count": 15,
   "id": "1a1ac071",
   "metadata": {
    "execution": {
     "iopub.execute_input": "2023-04-14T03:28:16.294950Z",
     "iopub.status.busy": "2023-04-14T03:28:16.294186Z",
     "iopub.status.idle": "2023-04-14T03:28:16.308821Z",
     "shell.execute_reply": "2023-04-14T03:28:16.307168Z"
    },
    "papermill": {
     "duration": 0.032441,
     "end_time": "2023-04-14T03:28:16.312337",
     "exception": false,
     "start_time": "2023-04-14T03:28:16.279896",
     "status": "completed"
    },
    "tags": []
   },
   "outputs": [
    {
     "data": {
      "text/plain": [
       "(137, 31)"
      ]
     },
     "execution_count": 15,
     "metadata": {},
     "output_type": "execute_result"
    }
   ],
   "source": [
    "len(tasks.Id.unique()),len(tasks.Task.unique())"
   ]
  },
  {
   "cell_type": "code",
   "execution_count": 16,
   "id": "546111ab",
   "metadata": {
    "execution": {
     "iopub.execute_input": "2023-04-14T03:28:16.338748Z",
     "iopub.status.busy": "2023-04-14T03:28:16.338166Z",
     "iopub.status.idle": "2023-04-14T03:28:16.389131Z",
     "shell.execute_reply": "2023-04-14T03:28:16.387176Z"
    },
    "papermill": {
     "duration": 0.068372,
     "end_time": "2023-04-14T03:28:16.392380",
     "exception": false,
     "start_time": "2023-04-14T03:28:16.324008",
     "status": "completed"
    },
    "tags": []
   },
   "outputs": [],
   "source": [
    "tasks = pd.pivot_table(tasks, values=['Duration'], index=['Id'], columns=['Task'], aggfunc='sum', fill_value=0) "
   ]
  },
  {
   "cell_type": "code",
   "execution_count": 17,
   "id": "f38d57ff",
   "metadata": {
    "execution": {
     "iopub.execute_input": "2023-04-14T03:28:16.419301Z",
     "iopub.status.busy": "2023-04-14T03:28:16.418744Z",
     "iopub.status.idle": "2023-04-14T03:28:16.463043Z",
     "shell.execute_reply": "2023-04-14T03:28:16.461404Z"
    },
    "papermill": {
     "duration": 0.062688,
     "end_time": "2023-04-14T03:28:16.466266",
     "exception": false,
     "start_time": "2023-04-14T03:28:16.403578",
     "status": "completed"
    },
    "tags": []
   },
   "outputs": [
    {
     "data": {
      "text/html": [
       "<div>\n",
       "<style scoped>\n",
       "    .dataframe tbody tr th:only-of-type {\n",
       "        vertical-align: middle;\n",
       "    }\n",
       "\n",
       "    .dataframe tbody tr th {\n",
       "        vertical-align: top;\n",
       "    }\n",
       "\n",
       "    .dataframe thead tr th {\n",
       "        text-align: left;\n",
       "    }\n",
       "\n",
       "    .dataframe thead tr:last-of-type th {\n",
       "        text-align: right;\n",
       "    }\n",
       "</style>\n",
       "<table border=\"1\" class=\"dataframe\">\n",
       "  <thead>\n",
       "    <tr>\n",
       "      <th></th>\n",
       "      <th colspan=\"21\" halign=\"left\">Duration</th>\n",
       "    </tr>\n",
       "    <tr>\n",
       "      <th>Task</th>\n",
       "      <th>4MW</th>\n",
       "      <th>4MW-C</th>\n",
       "      <th>Hotspot1</th>\n",
       "      <th>Hotspot1-C</th>\n",
       "      <th>Hotspot2</th>\n",
       "      <th>Hotspot2-C</th>\n",
       "      <th>MB1</th>\n",
       "      <th>MB10</th>\n",
       "      <th>MB11</th>\n",
       "      <th>MB12</th>\n",
       "      <th>...</th>\n",
       "      <th>MB8</th>\n",
       "      <th>MB9</th>\n",
       "      <th>Rest1</th>\n",
       "      <th>Rest2</th>\n",
       "      <th>TUG-C</th>\n",
       "      <th>TUG-DT</th>\n",
       "      <th>TUG-ST</th>\n",
       "      <th>Turning-C</th>\n",
       "      <th>Turning-DT</th>\n",
       "      <th>Turning-ST</th>\n",
       "    </tr>\n",
       "    <tr>\n",
       "      <th>Id</th>\n",
       "      <th></th>\n",
       "      <th></th>\n",
       "      <th></th>\n",
       "      <th></th>\n",
       "      <th></th>\n",
       "      <th></th>\n",
       "      <th></th>\n",
       "      <th></th>\n",
       "      <th></th>\n",
       "      <th></th>\n",
       "      <th></th>\n",
       "      <th></th>\n",
       "      <th></th>\n",
       "      <th></th>\n",
       "      <th></th>\n",
       "      <th></th>\n",
       "      <th></th>\n",
       "      <th></th>\n",
       "      <th></th>\n",
       "      <th></th>\n",
       "      <th></th>\n",
       "    </tr>\n",
       "  </thead>\n",
       "  <tbody>\n",
       "    <tr>\n",
       "      <th>02ab235146</th>\n",
       "      <td>16.520</td>\n",
       "      <td>16.680</td>\n",
       "      <td>16.760</td>\n",
       "      <td>16.240</td>\n",
       "      <td>53.920</td>\n",
       "      <td>64.600</td>\n",
       "      <td>13.960</td>\n",
       "      <td>17.960</td>\n",
       "      <td>17.40</td>\n",
       "      <td>8.600</td>\n",
       "      <td>...</td>\n",
       "      <td>12.840</td>\n",
       "      <td>30.80</td>\n",
       "      <td>180.48</td>\n",
       "      <td>60.32</td>\n",
       "      <td>38.440</td>\n",
       "      <td>47.920</td>\n",
       "      <td>36.24</td>\n",
       "      <td>21.920</td>\n",
       "      <td>46.400</td>\n",
       "      <td>23.320</td>\n",
       "    </tr>\n",
       "    <tr>\n",
       "      <th>02ea782681</th>\n",
       "      <td>11.618</td>\n",
       "      <td>11.796</td>\n",
       "      <td>11.525</td>\n",
       "      <td>11.692</td>\n",
       "      <td>8.329</td>\n",
       "      <td>9.032</td>\n",
       "      <td>3.469</td>\n",
       "      <td>6.624</td>\n",
       "      <td>6.23</td>\n",
       "      <td>5.379</td>\n",
       "      <td>...</td>\n",
       "      <td>11.849</td>\n",
       "      <td>30.65</td>\n",
       "      <td>0.00</td>\n",
       "      <td>0.00</td>\n",
       "      <td>18.343</td>\n",
       "      <td>19.932</td>\n",
       "      <td>20.13</td>\n",
       "      <td>18.042</td>\n",
       "      <td>21.588</td>\n",
       "      <td>18.698</td>\n",
       "    </tr>\n",
       "  </tbody>\n",
       "</table>\n",
       "<p>2 rows × 31 columns</p>\n",
       "</div>"
      ],
      "text/plain": [
       "           Duration                                                          \\\n",
       "Task            4MW   4MW-C Hotspot1 Hotspot1-C Hotspot2 Hotspot2-C     MB1   \n",
       "Id                                                                            \n",
       "02ab235146   16.520  16.680   16.760     16.240   53.920     64.600  13.960   \n",
       "02ea782681   11.618  11.796   11.525     11.692    8.329      9.032   3.469   \n",
       "\n",
       "                                  ...                                        \\\n",
       "Task          MB10   MB11   MB12  ...     MB8    MB9   Rest1  Rest2   TUG-C   \n",
       "Id                                ...                                         \n",
       "02ab235146  17.960  17.40  8.600  ...  12.840  30.80  180.48  60.32  38.440   \n",
       "02ea782681   6.624   6.23  5.379  ...  11.849  30.65    0.00   0.00  18.343   \n",
       "\n",
       "                                                           \n",
       "Task        TUG-DT TUG-ST Turning-C Turning-DT Turning-ST  \n",
       "Id                                                         \n",
       "02ab235146  47.920  36.24    21.920     46.400     23.320  \n",
       "02ea782681  19.932  20.13    18.042     21.588     18.698  \n",
       "\n",
       "[2 rows x 31 columns]"
      ]
     },
     "execution_count": 17,
     "metadata": {},
     "output_type": "execute_result"
    }
   ],
   "source": [
    "tasks.head(2)"
   ]
  },
  {
   "cell_type": "code",
   "execution_count": 18,
   "id": "83e3c68e",
   "metadata": {
    "execution": {
     "iopub.execute_input": "2023-04-14T03:28:16.493431Z",
     "iopub.status.busy": "2023-04-14T03:28:16.492967Z",
     "iopub.status.idle": "2023-04-14T03:28:16.499240Z",
     "shell.execute_reply": "2023-04-14T03:28:16.498066Z"
    },
    "papermill": {
     "duration": 0.024056,
     "end_time": "2023-04-14T03:28:16.501749",
     "exception": false,
     "start_time": "2023-04-14T03:28:16.477693",
     "status": "completed"
    },
    "tags": []
   },
   "outputs": [],
   "source": [
    "tasks.columns = [c[-1] for c in tasks.columns]  ## To delete 'Duration' column in 1st row from heading"
   ]
  },
  {
   "cell_type": "code",
   "execution_count": 19,
   "id": "7ad8f706",
   "metadata": {
    "execution": {
     "iopub.execute_input": "2023-04-14T03:28:16.530779Z",
     "iopub.status.busy": "2023-04-14T03:28:16.529140Z",
     "iopub.status.idle": "2023-04-14T03:28:16.538299Z",
     "shell.execute_reply": "2023-04-14T03:28:16.535949Z"
    },
    "papermill": {
     "duration": 0.027103,
     "end_time": "2023-04-14T03:28:16.541894",
     "exception": false,
     "start_time": "2023-04-14T03:28:16.514791",
     "status": "completed"
    },
    "tags": []
   },
   "outputs": [],
   "source": [
    "tasks = tasks.reset_index()"
   ]
  },
  {
   "cell_type": "code",
   "execution_count": 20,
   "id": "f017a625",
   "metadata": {
    "execution": {
     "iopub.execute_input": "2023-04-14T03:28:16.569570Z",
     "iopub.status.busy": "2023-04-14T03:28:16.569066Z",
     "iopub.status.idle": "2023-04-14T03:28:16.645199Z",
     "shell.execute_reply": "2023-04-14T03:28:16.644084Z"
    },
    "papermill": {
     "duration": 0.092878,
     "end_time": "2023-04-14T03:28:16.648204",
     "exception": false,
     "start_time": "2023-04-14T03:28:16.555326",
     "status": "completed"
    },
    "tags": []
   },
   "outputs": [],
   "source": [
    "tasks['t_kmeans'] = cluster.KMeans(n_clusters=10, random_state=293).fit_predict(tasks[tasks.columns[1:]])"
   ]
  },
  {
   "cell_type": "code",
   "execution_count": 21,
   "id": "f7f0fe9b",
   "metadata": {
    "execution": {
     "iopub.execute_input": "2023-04-14T03:28:16.678699Z",
     "iopub.status.busy": "2023-04-14T03:28:16.677861Z",
     "iopub.status.idle": "2023-04-14T03:28:16.716214Z",
     "shell.execute_reply": "2023-04-14T03:28:16.714478Z"
    },
    "papermill": {
     "duration": 0.055178,
     "end_time": "2023-04-14T03:28:16.719645",
     "exception": false,
     "start_time": "2023-04-14T03:28:16.664467",
     "status": "completed"
    },
    "tags": []
   },
   "outputs": [
    {
     "data": {
      "text/html": [
       "<div>\n",
       "<style scoped>\n",
       "    .dataframe tbody tr th:only-of-type {\n",
       "        vertical-align: middle;\n",
       "    }\n",
       "\n",
       "    .dataframe tbody tr th {\n",
       "        vertical-align: top;\n",
       "    }\n",
       "\n",
       "    .dataframe thead th {\n",
       "        text-align: right;\n",
       "    }\n",
       "</style>\n",
       "<table border=\"1\" class=\"dataframe\">\n",
       "  <thead>\n",
       "    <tr style=\"text-align: right;\">\n",
       "      <th></th>\n",
       "      <th>Id</th>\n",
       "      <th>4MW</th>\n",
       "      <th>4MW-C</th>\n",
       "      <th>Hotspot1</th>\n",
       "      <th>Hotspot1-C</th>\n",
       "      <th>Hotspot2</th>\n",
       "      <th>Hotspot2-C</th>\n",
       "      <th>MB1</th>\n",
       "      <th>MB10</th>\n",
       "      <th>MB11</th>\n",
       "      <th>...</th>\n",
       "      <th>MB9</th>\n",
       "      <th>Rest1</th>\n",
       "      <th>Rest2</th>\n",
       "      <th>TUG-C</th>\n",
       "      <th>TUG-DT</th>\n",
       "      <th>TUG-ST</th>\n",
       "      <th>Turning-C</th>\n",
       "      <th>Turning-DT</th>\n",
       "      <th>Turning-ST</th>\n",
       "      <th>t_kmeans</th>\n",
       "    </tr>\n",
       "  </thead>\n",
       "  <tbody>\n",
       "    <tr>\n",
       "      <th>0</th>\n",
       "      <td>02ab235146</td>\n",
       "      <td>16.520</td>\n",
       "      <td>16.680</td>\n",
       "      <td>16.760</td>\n",
       "      <td>16.240</td>\n",
       "      <td>53.920</td>\n",
       "      <td>64.600</td>\n",
       "      <td>13.960</td>\n",
       "      <td>17.960</td>\n",
       "      <td>17.40</td>\n",
       "      <td>...</td>\n",
       "      <td>30.80</td>\n",
       "      <td>180.48</td>\n",
       "      <td>60.32</td>\n",
       "      <td>38.440</td>\n",
       "      <td>47.920</td>\n",
       "      <td>36.24</td>\n",
       "      <td>21.920</td>\n",
       "      <td>46.400</td>\n",
       "      <td>23.320</td>\n",
       "      <td>1</td>\n",
       "    </tr>\n",
       "    <tr>\n",
       "      <th>1</th>\n",
       "      <td>02ea782681</td>\n",
       "      <td>11.618</td>\n",
       "      <td>11.796</td>\n",
       "      <td>11.525</td>\n",
       "      <td>11.692</td>\n",
       "      <td>8.329</td>\n",
       "      <td>9.032</td>\n",
       "      <td>3.469</td>\n",
       "      <td>6.624</td>\n",
       "      <td>6.23</td>\n",
       "      <td>...</td>\n",
       "      <td>30.65</td>\n",
       "      <td>0.00</td>\n",
       "      <td>0.00</td>\n",
       "      <td>18.343</td>\n",
       "      <td>19.932</td>\n",
       "      <td>20.13</td>\n",
       "      <td>18.042</td>\n",
       "      <td>21.588</td>\n",
       "      <td>18.698</td>\n",
       "      <td>4</td>\n",
       "    </tr>\n",
       "  </tbody>\n",
       "</table>\n",
       "<p>2 rows × 33 columns</p>\n",
       "</div>"
      ],
      "text/plain": [
       "           Id     4MW   4MW-C  Hotspot1  Hotspot1-C  Hotspot2  Hotspot2-C  \\\n",
       "0  02ab235146  16.520  16.680    16.760      16.240    53.920      64.600   \n",
       "1  02ea782681  11.618  11.796    11.525      11.692     8.329       9.032   \n",
       "\n",
       "      MB1    MB10   MB11  ...    MB9   Rest1  Rest2   TUG-C  TUG-DT  TUG-ST  \\\n",
       "0  13.960  17.960  17.40  ...  30.80  180.48  60.32  38.440  47.920   36.24   \n",
       "1   3.469   6.624   6.23  ...  30.65    0.00   0.00  18.343  19.932   20.13   \n",
       "\n",
       "   Turning-C  Turning-DT  Turning-ST  t_kmeans  \n",
       "0     21.920      46.400      23.320         1  \n",
       "1     18.042      21.588      18.698         4  \n",
       "\n",
       "[2 rows x 33 columns]"
      ]
     },
     "execution_count": 21,
     "metadata": {},
     "output_type": "execute_result"
    }
   ],
   "source": [
    "tasks.head(2)"
   ]
  },
  {
   "cell_type": "markdown",
   "id": "3150bc89",
   "metadata": {
    "papermill": {
     "duration": 0.011866,
     "end_time": "2023-04-14T03:28:16.743681",
     "exception": false,
     "start_time": "2023-04-14T03:28:16.731815",
     "status": "completed"
    },
    "tags": []
   },
   "source": [
    "### Subjects"
   ]
  },
  {
   "cell_type": "code",
   "execution_count": 22,
   "id": "2fb63379",
   "metadata": {
    "execution": {
     "iopub.execute_input": "2023-04-14T03:28:16.772287Z",
     "iopub.status.busy": "2023-04-14T03:28:16.770928Z",
     "iopub.status.idle": "2023-04-14T03:28:16.800574Z",
     "shell.execute_reply": "2023-04-14T03:28:16.798712Z"
    },
    "papermill": {
     "duration": 0.047731,
     "end_time": "2023-04-14T03:28:16.803767",
     "exception": false,
     "start_time": "2023-04-14T03:28:16.756036",
     "status": "completed"
    },
    "tags": []
   },
   "outputs": [
    {
     "data": {
      "text/html": [
       "<div>\n",
       "<style scoped>\n",
       "    .dataframe tbody tr th:only-of-type {\n",
       "        vertical-align: middle;\n",
       "    }\n",
       "\n",
       "    .dataframe tbody tr th {\n",
       "        vertical-align: top;\n",
       "    }\n",
       "\n",
       "    .dataframe thead th {\n",
       "        text-align: right;\n",
       "    }\n",
       "</style>\n",
       "<table border=\"1\" class=\"dataframe\">\n",
       "  <thead>\n",
       "    <tr style=\"text-align: right;\">\n",
       "      <th></th>\n",
       "      <th>Subject</th>\n",
       "      <th>Visit</th>\n",
       "      <th>Age</th>\n",
       "      <th>Sex</th>\n",
       "      <th>YearsSinceDx</th>\n",
       "      <th>UPDRSIII_On</th>\n",
       "      <th>UPDRSIII_Off</th>\n",
       "      <th>NFOGQ</th>\n",
       "    </tr>\n",
       "  </thead>\n",
       "  <tbody>\n",
       "    <tr>\n",
       "      <th>0</th>\n",
       "      <td>04fcdb</td>\n",
       "      <td>1.0</td>\n",
       "      <td>63</td>\n",
       "      <td>M</td>\n",
       "      <td>3.0</td>\n",
       "      <td>30.0</td>\n",
       "      <td>NaN</td>\n",
       "      <td>0</td>\n",
       "    </tr>\n",
       "    <tr>\n",
       "      <th>1</th>\n",
       "      <td>05595e</td>\n",
       "      <td>1.0</td>\n",
       "      <td>56</td>\n",
       "      <td>M</td>\n",
       "      <td>8.0</td>\n",
       "      <td>28.0</td>\n",
       "      <td>NaN</td>\n",
       "      <td>0</td>\n",
       "    </tr>\n",
       "    <tr>\n",
       "      <th>2</th>\n",
       "      <td>0967b2</td>\n",
       "      <td>1.0</td>\n",
       "      <td>59</td>\n",
       "      <td>M</td>\n",
       "      <td>10.0</td>\n",
       "      <td>38.0</td>\n",
       "      <td>48.0</td>\n",
       "      <td>19</td>\n",
       "    </tr>\n",
       "    <tr>\n",
       "      <th>3</th>\n",
       "      <td>0967b2</td>\n",
       "      <td>2.0</td>\n",
       "      <td>59</td>\n",
       "      <td>M</td>\n",
       "      <td>10.0</td>\n",
       "      <td>37.0</td>\n",
       "      <td>44.0</td>\n",
       "      <td>13</td>\n",
       "    </tr>\n",
       "    <tr>\n",
       "      <th>4</th>\n",
       "      <td>097078</td>\n",
       "      <td>NaN</td>\n",
       "      <td>70</td>\n",
       "      <td>F</td>\n",
       "      <td>10.0</td>\n",
       "      <td>27.0</td>\n",
       "      <td>50.0</td>\n",
       "      <td>20</td>\n",
       "    </tr>\n",
       "    <tr>\n",
       "      <th>...</th>\n",
       "      <td>...</td>\n",
       "      <td>...</td>\n",
       "      <td>...</td>\n",
       "      <td>...</td>\n",
       "      <td>...</td>\n",
       "      <td>...</td>\n",
       "      <td>...</td>\n",
       "      <td>...</td>\n",
       "    </tr>\n",
       "    <tr>\n",
       "      <th>168</th>\n",
       "      <td>f90887</td>\n",
       "      <td>1.0</td>\n",
       "      <td>72</td>\n",
       "      <td>M</td>\n",
       "      <td>16.0</td>\n",
       "      <td>35.0</td>\n",
       "      <td>46.0</td>\n",
       "      <td>26</td>\n",
       "    </tr>\n",
       "    <tr>\n",
       "      <th>169</th>\n",
       "      <td>fc1e1b</td>\n",
       "      <td>1.0</td>\n",
       "      <td>82</td>\n",
       "      <td>F</td>\n",
       "      <td>11.0</td>\n",
       "      <td>38.0</td>\n",
       "      <td>42.0</td>\n",
       "      <td>21</td>\n",
       "    </tr>\n",
       "    <tr>\n",
       "      <th>170</th>\n",
       "      <td>fe5d84</td>\n",
       "      <td>2.0</td>\n",
       "      <td>72</td>\n",
       "      <td>M</td>\n",
       "      <td>14.0</td>\n",
       "      <td>32.0</td>\n",
       "      <td>45.0</td>\n",
       "      <td>17</td>\n",
       "    </tr>\n",
       "    <tr>\n",
       "      <th>171</th>\n",
       "      <td>fe5d84</td>\n",
       "      <td>1.0</td>\n",
       "      <td>72</td>\n",
       "      <td>F</td>\n",
       "      <td>14.0</td>\n",
       "      <td>13.0</td>\n",
       "      <td>33.0</td>\n",
       "      <td>15</td>\n",
       "    </tr>\n",
       "    <tr>\n",
       "      <th>172</th>\n",
       "      <td>ffa798</td>\n",
       "      <td>1.0</td>\n",
       "      <td>55</td>\n",
       "      <td>F</td>\n",
       "      <td>9.0</td>\n",
       "      <td>14.0</td>\n",
       "      <td>NaN</td>\n",
       "      <td>0</td>\n",
       "    </tr>\n",
       "  </tbody>\n",
       "</table>\n",
       "<p>173 rows × 8 columns</p>\n",
       "</div>"
      ],
      "text/plain": [
       "    Subject  Visit  Age Sex  YearsSinceDx  UPDRSIII_On  UPDRSIII_Off  NFOGQ\n",
       "0    04fcdb    1.0   63   M           3.0         30.0           NaN      0\n",
       "1    05595e    1.0   56   M           8.0         28.0           NaN      0\n",
       "2    0967b2    1.0   59   M          10.0         38.0          48.0     19\n",
       "3    0967b2    2.0   59   M          10.0         37.0          44.0     13\n",
       "4    097078    NaN   70   F          10.0         27.0          50.0     20\n",
       "..      ...    ...  ...  ..           ...          ...           ...    ...\n",
       "168  f90887    1.0   72   M          16.0         35.0          46.0     26\n",
       "169  fc1e1b    1.0   82   F          11.0         38.0          42.0     21\n",
       "170  fe5d84    2.0   72   M          14.0         32.0          45.0     17\n",
       "171  fe5d84    1.0   72   F          14.0         13.0          33.0     15\n",
       "172  ffa798    1.0   55   F           9.0         14.0           NaN      0\n",
       "\n",
       "[173 rows x 8 columns]"
      ]
     },
     "execution_count": 22,
     "metadata": {},
     "output_type": "execute_result"
    }
   ],
   "source": [
    "subjects"
   ]
  },
  {
   "cell_type": "code",
   "execution_count": 23,
   "id": "33304718",
   "metadata": {
    "execution": {
     "iopub.execute_input": "2023-04-14T03:28:16.831685Z",
     "iopub.status.busy": "2023-04-14T03:28:16.831255Z",
     "iopub.status.idle": "2023-04-14T03:28:16.844507Z",
     "shell.execute_reply": "2023-04-14T03:28:16.842994Z"
    },
    "papermill": {
     "duration": 0.029721,
     "end_time": "2023-04-14T03:28:16.847495",
     "exception": false,
     "start_time": "2023-04-14T03:28:16.817774",
     "status": "completed"
    },
    "tags": []
   },
   "outputs": [],
   "source": [
    "subjects = subjects.fillna(0).groupby('Subject').median()"
   ]
  },
  {
   "cell_type": "code",
   "execution_count": 24,
   "id": "b0891280",
   "metadata": {
    "execution": {
     "iopub.execute_input": "2023-04-14T03:28:16.875731Z",
     "iopub.status.busy": "2023-04-14T03:28:16.875202Z",
     "iopub.status.idle": "2023-04-14T03:28:16.894063Z",
     "shell.execute_reply": "2023-04-14T03:28:16.892566Z"
    },
    "papermill": {
     "duration": 0.038548,
     "end_time": "2023-04-14T03:28:16.898016",
     "exception": false,
     "start_time": "2023-04-14T03:28:16.859468",
     "status": "completed"
    },
    "tags": []
   },
   "outputs": [
    {
     "name": "stdout",
     "output_type": "stream",
     "text": [
      "<class 'pandas.core.frame.DataFrame'>\n",
      "Index: 136 entries, 04fcdb to ffa798\n",
      "Data columns (total 6 columns):\n",
      " #   Column        Non-Null Count  Dtype  \n",
      "---  ------        --------------  -----  \n",
      " 0   Visit         136 non-null    float64\n",
      " 1   Age           136 non-null    float64\n",
      " 2   YearsSinceDx  136 non-null    float64\n",
      " 3   UPDRSIII_On   136 non-null    float64\n",
      " 4   UPDRSIII_Off  136 non-null    float64\n",
      " 5   NFOGQ         136 non-null    float64\n",
      "dtypes: float64(6)\n",
      "memory usage: 7.4+ KB\n"
     ]
    }
   ],
   "source": [
    "subjects.info()"
   ]
  },
  {
   "cell_type": "code",
   "execution_count": 25,
   "id": "e76e409e",
   "metadata": {
    "execution": {
     "iopub.execute_input": "2023-04-14T03:28:16.927540Z",
     "iopub.status.busy": "2023-04-14T03:28:16.927135Z",
     "iopub.status.idle": "2023-04-14T03:28:16.934775Z",
     "shell.execute_reply": "2023-04-14T03:28:16.932612Z"
    },
    "papermill": {
     "duration": 0.026322,
     "end_time": "2023-04-14T03:28:16.938226",
     "exception": false,
     "start_time": "2023-04-14T03:28:16.911904",
     "status": "completed"
    },
    "tags": []
   },
   "outputs": [],
   "source": [
    "subjects = subjects.reset_index()"
   ]
  },
  {
   "cell_type": "code",
   "execution_count": 26,
   "id": "0f28b17a",
   "metadata": {
    "execution": {
     "iopub.execute_input": "2023-04-14T03:28:16.967189Z",
     "iopub.status.busy": "2023-04-14T03:28:16.966727Z",
     "iopub.status.idle": "2023-04-14T03:28:16.975448Z",
     "shell.execute_reply": "2023-04-14T03:28:16.973608Z"
    },
    "papermill": {
     "duration": 0.02669,
     "end_time": "2023-04-14T03:28:16.978045",
     "exception": false,
     "start_time": "2023-04-14T03:28:16.951355",
     "status": "completed"
    },
    "tags": []
   },
   "outputs": [],
   "source": [
    "subjects.rename(columns={'Subject':'Id'}, inplace=True)"
   ]
  },
  {
   "cell_type": "code",
   "execution_count": 27,
   "id": "91867cef",
   "metadata": {
    "execution": {
     "iopub.execute_input": "2023-04-14T03:28:17.007254Z",
     "iopub.status.busy": "2023-04-14T03:28:17.006797Z",
     "iopub.status.idle": "2023-04-14T03:28:17.063962Z",
     "shell.execute_reply": "2023-04-14T03:28:17.062716Z"
    },
    "papermill": {
     "duration": 0.075302,
     "end_time": "2023-04-14T03:28:17.067011",
     "exception": false,
     "start_time": "2023-04-14T03:28:16.991709",
     "status": "completed"
    },
    "tags": []
   },
   "outputs": [],
   "source": [
    "subjects['s_kmeans'] = cluster.KMeans(n_clusters=10, random_state=293).fit_predict(subjects[subjects.columns[1:]])"
   ]
  },
  {
   "cell_type": "code",
   "execution_count": 28,
   "id": "dc1e9012",
   "metadata": {
    "execution": {
     "iopub.execute_input": "2023-04-14T03:28:17.097780Z",
     "iopub.status.busy": "2023-04-14T03:28:17.097338Z",
     "iopub.status.idle": "2023-04-14T03:28:17.111121Z",
     "shell.execute_reply": "2023-04-14T03:28:17.109204Z"
    },
    "papermill": {
     "duration": 0.031845,
     "end_time": "2023-04-14T03:28:17.114358",
     "exception": false,
     "start_time": "2023-04-14T03:28:17.082513",
     "status": "completed"
    },
    "tags": []
   },
   "outputs": [],
   "source": [
    "def reader(f):\n",
    "    try:\n",
    "        df = pd.read_csv(f, usecols=['Time', 'AccV', 'AccML', 'AccAP', 'StartHesitation', 'Turn' , 'Walking'])\n",
    "        df['Id'] = f.split('/')[-1].split('.')[0]\n",
    "        #df = pd.merge(df, tasks[['Id','t_kmeans']], how='left', on='Id').fillna(-1)\n",
    "        #df = pd.merge(df, subjects[['Id','s_kmeans']], how='left', on='Id').fillna(-1)\n",
    "        df['AccV2'] = df['AccV'] - np.median(df['AccV'])\n",
    "        df['AccML2'] = df['AccML'] - np.median(df['AccML'])\n",
    "        df['AccAP2'] = df['AccAP'] - np.median(df['AccAP'])\n",
    "        \n",
    "        df['AccV2_s'] = df['AccV'] - df['AccV'].shift(1)\n",
    "        df['AccML2_s'] = df['AccML'] - df['AccML'].shift(1)\n",
    "        df['AccAP2_s'] = df['AccAP'] - df['AccAP'].shift(1)\n",
    "    \n",
    "        df['AccV2_sm'] = df['AccV'] - df['AccV'].shift(1).rolling(5).mean()\n",
    "        df['AccML2_sm'] = df['AccML'] - df['AccML'].shift(1).rolling(5).mean()\n",
    "        df['AccAP2_sm'] = df['AccAP'] - df['AccAP'].shift(1).rolling(5).mean()\n",
    "        \n",
    "        df = df.fillna(99)\n",
    "        return df\n",
    "    except: pass"
   ]
  },
  {
   "cell_type": "code",
   "execution_count": 29,
   "id": "7fa03c62",
   "metadata": {
    "execution": {
     "iopub.execute_input": "2023-04-14T03:28:17.142843Z",
     "iopub.status.busy": "2023-04-14T03:28:17.142014Z",
     "iopub.status.idle": "2023-04-14T03:29:29.435062Z",
     "shell.execute_reply": "2023-04-14T03:29:29.433666Z"
    },
    "papermill": {
     "duration": 72.311622,
     "end_time": "2023-04-14T03:29:29.438288",
     "exception": false,
     "start_time": "2023-04-14T03:28:17.126666",
     "status": "completed"
    },
    "tags": []
   },
   "outputs": [],
   "source": [
    "train = pd.concat([reader(f) for f in train]).fillna(0)"
   ]
  },
  {
   "cell_type": "code",
   "execution_count": 30,
   "id": "8b436010",
   "metadata": {
    "execution": {
     "iopub.execute_input": "2023-04-14T03:29:29.465078Z",
     "iopub.status.busy": "2023-04-14T03:29:29.464673Z",
     "iopub.status.idle": "2023-04-14T03:29:29.496120Z",
     "shell.execute_reply": "2023-04-14T03:29:29.494586Z"
    },
    "papermill": {
     "duration": 0.048016,
     "end_time": "2023-04-14T03:29:29.498896",
     "exception": false,
     "start_time": "2023-04-14T03:29:29.450880",
     "status": "completed"
    },
    "tags": []
   },
   "outputs": [
    {
     "data": {
      "text/html": [
       "<div>\n",
       "<style scoped>\n",
       "    .dataframe tbody tr th:only-of-type {\n",
       "        vertical-align: middle;\n",
       "    }\n",
       "\n",
       "    .dataframe tbody tr th {\n",
       "        vertical-align: top;\n",
       "    }\n",
       "\n",
       "    .dataframe thead th {\n",
       "        text-align: right;\n",
       "    }\n",
       "</style>\n",
       "<table border=\"1\" class=\"dataframe\">\n",
       "  <thead>\n",
       "    <tr style=\"text-align: right;\">\n",
       "      <th></th>\n",
       "      <th>Time</th>\n",
       "      <th>AccV</th>\n",
       "      <th>AccML</th>\n",
       "      <th>AccAP</th>\n",
       "      <th>StartHesitation</th>\n",
       "      <th>Turn</th>\n",
       "      <th>Walking</th>\n",
       "      <th>Id</th>\n",
       "      <th>AccV2</th>\n",
       "      <th>AccML2</th>\n",
       "      <th>AccAP2</th>\n",
       "      <th>AccV2_s</th>\n",
       "      <th>AccML2_s</th>\n",
       "      <th>AccAP2_s</th>\n",
       "      <th>AccV2_sm</th>\n",
       "      <th>AccML2_sm</th>\n",
       "      <th>AccAP2_sm</th>\n",
       "    </tr>\n",
       "  </thead>\n",
       "  <tbody>\n",
       "    <tr>\n",
       "      <th>0</th>\n",
       "      <td>0</td>\n",
       "      <td>-1.002697</td>\n",
       "      <td>0.022371</td>\n",
       "      <td>0.068304</td>\n",
       "      <td>0</td>\n",
       "      <td>0</td>\n",
       "      <td>0</td>\n",
       "      <td>be9d33541d</td>\n",
       "      <td>-0.018056</td>\n",
       "      <td>0.007508</td>\n",
       "      <td>-0.073567</td>\n",
       "      <td>99.000000</td>\n",
       "      <td>99.000000</td>\n",
       "      <td>99.000000</td>\n",
       "      <td>99.000000</td>\n",
       "      <td>99.000000</td>\n",
       "      <td>99.000000</td>\n",
       "    </tr>\n",
       "    <tr>\n",
       "      <th>1</th>\n",
       "      <td>1</td>\n",
       "      <td>-1.002641</td>\n",
       "      <td>0.019173</td>\n",
       "      <td>0.066162</td>\n",
       "      <td>0</td>\n",
       "      <td>0</td>\n",
       "      <td>0</td>\n",
       "      <td>be9d33541d</td>\n",
       "      <td>-0.018000</td>\n",
       "      <td>0.004310</td>\n",
       "      <td>-0.075708</td>\n",
       "      <td>0.000056</td>\n",
       "      <td>-0.003198</td>\n",
       "      <td>-0.002142</td>\n",
       "      <td>99.000000</td>\n",
       "      <td>99.000000</td>\n",
       "      <td>99.000000</td>\n",
       "    </tr>\n",
       "    <tr>\n",
       "      <th>2</th>\n",
       "      <td>2</td>\n",
       "      <td>-0.999820</td>\n",
       "      <td>0.019142</td>\n",
       "      <td>0.067536</td>\n",
       "      <td>0</td>\n",
       "      <td>0</td>\n",
       "      <td>0</td>\n",
       "      <td>be9d33541d</td>\n",
       "      <td>-0.015179</td>\n",
       "      <td>0.004279</td>\n",
       "      <td>-0.074335</td>\n",
       "      <td>0.002821</td>\n",
       "      <td>-0.000031</td>\n",
       "      <td>0.001374</td>\n",
       "      <td>99.000000</td>\n",
       "      <td>99.000000</td>\n",
       "      <td>99.000000</td>\n",
       "    </tr>\n",
       "    <tr>\n",
       "      <th>3</th>\n",
       "      <td>3</td>\n",
       "      <td>-0.998023</td>\n",
       "      <td>0.018378</td>\n",
       "      <td>0.068409</td>\n",
       "      <td>0</td>\n",
       "      <td>0</td>\n",
       "      <td>0</td>\n",
       "      <td>be9d33541d</td>\n",
       "      <td>-0.013382</td>\n",
       "      <td>0.003515</td>\n",
       "      <td>-0.073461</td>\n",
       "      <td>0.001797</td>\n",
       "      <td>-0.000764</td>\n",
       "      <td>0.000874</td>\n",
       "      <td>99.000000</td>\n",
       "      <td>99.000000</td>\n",
       "      <td>99.000000</td>\n",
       "    </tr>\n",
       "    <tr>\n",
       "      <th>4</th>\n",
       "      <td>4</td>\n",
       "      <td>-0.998359</td>\n",
       "      <td>0.016726</td>\n",
       "      <td>0.066448</td>\n",
       "      <td>0</td>\n",
       "      <td>0</td>\n",
       "      <td>0</td>\n",
       "      <td>be9d33541d</td>\n",
       "      <td>-0.013717</td>\n",
       "      <td>0.001863</td>\n",
       "      <td>-0.075423</td>\n",
       "      <td>-0.000336</td>\n",
       "      <td>-0.001652</td>\n",
       "      <td>-0.001961</td>\n",
       "      <td>99.000000</td>\n",
       "      <td>99.000000</td>\n",
       "      <td>99.000000</td>\n",
       "    </tr>\n",
       "    <tr>\n",
       "      <th>...</th>\n",
       "      <td>...</td>\n",
       "      <td>...</td>\n",
       "      <td>...</td>\n",
       "      <td>...</td>\n",
       "      <td>...</td>\n",
       "      <td>...</td>\n",
       "      <td>...</td>\n",
       "      <td>...</td>\n",
       "      <td>...</td>\n",
       "      <td>...</td>\n",
       "      <td>...</td>\n",
       "      <td>...</td>\n",
       "      <td>...</td>\n",
       "      <td>...</td>\n",
       "      <td>...</td>\n",
       "      <td>...</td>\n",
       "      <td>...</td>\n",
       "    </tr>\n",
       "    <tr>\n",
       "      <th>5153</th>\n",
       "      <td>5153</td>\n",
       "      <td>-9.915920</td>\n",
       "      <td>-0.105897</td>\n",
       "      <td>-1.123455</td>\n",
       "      <td>0</td>\n",
       "      <td>0</td>\n",
       "      <td>0</td>\n",
       "      <td>0506d9a39f</td>\n",
       "      <td>-0.562312</td>\n",
       "      <td>0.166628</td>\n",
       "      <td>-3.640620</td>\n",
       "      <td>0.207943</td>\n",
       "      <td>-0.005537</td>\n",
       "      <td>-0.006615</td>\n",
       "      <td>-0.386098</td>\n",
       "      <td>0.053607</td>\n",
       "      <td>-0.012213</td>\n",
       "    </tr>\n",
       "    <tr>\n",
       "      <th>5154</th>\n",
       "      <td>5154</td>\n",
       "      <td>-9.693752</td>\n",
       "      <td>-0.066892</td>\n",
       "      <td>-1.114903</td>\n",
       "      <td>0</td>\n",
       "      <td>0</td>\n",
       "      <td>0</td>\n",
       "      <td>0506d9a39f</td>\n",
       "      <td>-0.340144</td>\n",
       "      <td>0.205633</td>\n",
       "      <td>-3.632069</td>\n",
       "      <td>0.222167</td>\n",
       "      <td>0.039005</td>\n",
       "      <td>0.008551</td>\n",
       "      <td>-0.082525</td>\n",
       "      <td>0.073279</td>\n",
       "      <td>-0.006012</td>\n",
       "    </tr>\n",
       "    <tr>\n",
       "      <th>5155</th>\n",
       "      <td>5155</td>\n",
       "      <td>-9.548118</td>\n",
       "      <td>-0.098315</td>\n",
       "      <td>-1.112123</td>\n",
       "      <td>0</td>\n",
       "      <td>0</td>\n",
       "      <td>0</td>\n",
       "      <td>0506d9a39f</td>\n",
       "      <td>-0.194509</td>\n",
       "      <td>0.174209</td>\n",
       "      <td>-3.629288</td>\n",
       "      <td>0.145635</td>\n",
       "      <td>-0.031424</td>\n",
       "      <td>0.002781</td>\n",
       "      <td>0.127065</td>\n",
       "      <td>0.018766</td>\n",
       "      <td>0.003074</td>\n",
       "    </tr>\n",
       "    <tr>\n",
       "      <th>5156</th>\n",
       "      <td>5156</td>\n",
       "      <td>-9.469803</td>\n",
       "      <td>-0.111004</td>\n",
       "      <td>-1.130814</td>\n",
       "      <td>0</td>\n",
       "      <td>0</td>\n",
       "      <td>0</td>\n",
       "      <td>0506d9a39f</td>\n",
       "      <td>-0.116195</td>\n",
       "      <td>0.161520</td>\n",
       "      <td>-3.647979</td>\n",
       "      <td>0.078315</td>\n",
       "      <td>-0.012689</td>\n",
       "      <td>-0.018691</td>\n",
       "      <td>0.274570</td>\n",
       "      <td>-0.010809</td>\n",
       "      <td>-0.017962</td>\n",
       "    </tr>\n",
       "    <tr>\n",
       "      <th>5157</th>\n",
       "      <td>5157</td>\n",
       "      <td>-9.566318</td>\n",
       "      <td>-0.113865</td>\n",
       "      <td>-1.103353</td>\n",
       "      <td>0</td>\n",
       "      <td>0</td>\n",
       "      <td>0</td>\n",
       "      <td>0506d9a39f</td>\n",
       "      <td>-0.212710</td>\n",
       "      <td>0.158660</td>\n",
       "      <td>-3.620518</td>\n",
       "      <td>-0.096515</td>\n",
       "      <td>-0.002860</td>\n",
       "      <td>0.027461</td>\n",
       "      <td>0.183973</td>\n",
       "      <td>-0.017371</td>\n",
       "      <td>0.016274</td>\n",
       "    </tr>\n",
       "  </tbody>\n",
       "</table>\n",
       "<p>20588374 rows × 17 columns</p>\n",
       "</div>"
      ],
      "text/plain": [
       "      Time      AccV     AccML     AccAP  StartHesitation  Turn  Walking  \\\n",
       "0        0 -1.002697  0.022371  0.068304                0     0        0   \n",
       "1        1 -1.002641  0.019173  0.066162                0     0        0   \n",
       "2        2 -0.999820  0.019142  0.067536                0     0        0   \n",
       "3        3 -0.998023  0.018378  0.068409                0     0        0   \n",
       "4        4 -0.998359  0.016726  0.066448                0     0        0   \n",
       "...    ...       ...       ...       ...              ...   ...      ...   \n",
       "5153  5153 -9.915920 -0.105897 -1.123455                0     0        0   \n",
       "5154  5154 -9.693752 -0.066892 -1.114903                0     0        0   \n",
       "5155  5155 -9.548118 -0.098315 -1.112123                0     0        0   \n",
       "5156  5156 -9.469803 -0.111004 -1.130814                0     0        0   \n",
       "5157  5157 -9.566318 -0.113865 -1.103353                0     0        0   \n",
       "\n",
       "              Id     AccV2    AccML2    AccAP2    AccV2_s   AccML2_s  \\\n",
       "0     be9d33541d -0.018056  0.007508 -0.073567  99.000000  99.000000   \n",
       "1     be9d33541d -0.018000  0.004310 -0.075708   0.000056  -0.003198   \n",
       "2     be9d33541d -0.015179  0.004279 -0.074335   0.002821  -0.000031   \n",
       "3     be9d33541d -0.013382  0.003515 -0.073461   0.001797  -0.000764   \n",
       "4     be9d33541d -0.013717  0.001863 -0.075423  -0.000336  -0.001652   \n",
       "...          ...       ...       ...       ...        ...        ...   \n",
       "5153  0506d9a39f -0.562312  0.166628 -3.640620   0.207943  -0.005537   \n",
       "5154  0506d9a39f -0.340144  0.205633 -3.632069   0.222167   0.039005   \n",
       "5155  0506d9a39f -0.194509  0.174209 -3.629288   0.145635  -0.031424   \n",
       "5156  0506d9a39f -0.116195  0.161520 -3.647979   0.078315  -0.012689   \n",
       "5157  0506d9a39f -0.212710  0.158660 -3.620518  -0.096515  -0.002860   \n",
       "\n",
       "       AccAP2_s   AccV2_sm  AccML2_sm  AccAP2_sm  \n",
       "0     99.000000  99.000000  99.000000  99.000000  \n",
       "1     -0.002142  99.000000  99.000000  99.000000  \n",
       "2      0.001374  99.000000  99.000000  99.000000  \n",
       "3      0.000874  99.000000  99.000000  99.000000  \n",
       "4     -0.001961  99.000000  99.000000  99.000000  \n",
       "...         ...        ...        ...        ...  \n",
       "5153  -0.006615  -0.386098   0.053607  -0.012213  \n",
       "5154   0.008551  -0.082525   0.073279  -0.006012  \n",
       "5155   0.002781   0.127065   0.018766   0.003074  \n",
       "5156  -0.018691   0.274570  -0.010809  -0.017962  \n",
       "5157   0.027461   0.183973  -0.017371   0.016274  \n",
       "\n",
       "[20588374 rows x 17 columns]"
      ]
     },
     "execution_count": 30,
     "metadata": {},
     "output_type": "execute_result"
    }
   ],
   "source": [
    "train"
   ]
  },
  {
   "cell_type": "code",
   "execution_count": 31,
   "id": "e53e715a",
   "metadata": {
    "execution": {
     "iopub.execute_input": "2023-04-14T03:29:29.528376Z",
     "iopub.status.busy": "2023-04-14T03:29:29.527868Z",
     "iopub.status.idle": "2023-04-14T03:29:29.535071Z",
     "shell.execute_reply": "2023-04-14T03:29:29.533978Z"
    },
    "papermill": {
     "duration": 0.026526,
     "end_time": "2023-04-14T03:29:29.538460",
     "exception": false,
     "start_time": "2023-04-14T03:29:29.511934",
     "status": "completed"
    },
    "tags": []
   },
   "outputs": [],
   "source": [
    "cols = [c for c in train.columns if c not in ['Id', 'StartHesitation', 'Turn' , 'Walking', 'Valid', 'Task','Event']]"
   ]
  },
  {
   "cell_type": "code",
   "execution_count": 32,
   "id": "2a2cbff8",
   "metadata": {
    "execution": {
     "iopub.execute_input": "2023-04-14T03:29:29.569059Z",
     "iopub.status.busy": "2023-04-14T03:29:29.568608Z",
     "iopub.status.idle": "2023-04-14T03:29:29.574635Z",
     "shell.execute_reply": "2023-04-14T03:29:29.573156Z"
    },
    "papermill": {
     "duration": 0.02487,
     "end_time": "2023-04-14T03:29:29.577255",
     "exception": false,
     "start_time": "2023-04-14T03:29:29.552385",
     "status": "completed"
    },
    "tags": []
   },
   "outputs": [],
   "source": [
    "pcols = ['StartHesitation', 'Turn' , 'Walking']"
   ]
  },
  {
   "cell_type": "code",
   "execution_count": 33,
   "id": "33b6b967",
   "metadata": {
    "execution": {
     "iopub.execute_input": "2023-04-14T03:29:29.606974Z",
     "iopub.status.busy": "2023-04-14T03:29:29.606584Z",
     "iopub.status.idle": "2023-04-14T03:29:29.613111Z",
     "shell.execute_reply": "2023-04-14T03:29:29.611246Z"
    },
    "papermill": {
     "duration": 0.025053,
     "end_time": "2023-04-14T03:29:29.616302",
     "exception": false,
     "start_time": "2023-04-14T03:29:29.591249",
     "status": "completed"
    },
    "tags": []
   },
   "outputs": [],
   "source": [
    "scols = ['Id', 'StartHesitation', 'Turn' , 'Walking']"
   ]
  },
  {
   "cell_type": "code",
   "execution_count": 34,
   "id": "9471e0f0",
   "metadata": {
    "execution": {
     "iopub.execute_input": "2023-04-14T03:29:29.646828Z",
     "iopub.status.busy": "2023-04-14T03:29:29.646370Z",
     "iopub.status.idle": "2023-04-14T03:31:41.994778Z",
     "shell.execute_reply": "2023-04-14T03:31:41.993216Z"
    },
    "papermill": {
     "duration": 132.367623,
     "end_time": "2023-04-14T03:31:41.998404",
     "exception": false,
     "start_time": "2023-04-14T03:29:29.630781",
     "status": "completed"
    },
    "tags": []
   },
   "outputs": [],
   "source": [
    "x1, x2, y1, y2 = model_selection.train_test_split(train[cols], train[pcols], test_size=.30, random_state=3, stratify=train[pcols])"
   ]
  },
  {
   "cell_type": "code",
   "execution_count": 35,
   "id": "2ce7d4a3",
   "metadata": {
    "execution": {
     "iopub.execute_input": "2023-04-14T03:31:42.029656Z",
     "iopub.status.busy": "2023-04-14T03:31:42.028352Z",
     "iopub.status.idle": "2023-04-14T03:31:42.036068Z",
     "shell.execute_reply": "2023-04-14T03:31:42.034574Z"
    },
    "papermill": {
     "duration": 0.026523,
     "end_time": "2023-04-14T03:31:42.039524",
     "exception": false,
     "start_time": "2023-04-14T03:31:42.013001",
     "status": "completed"
    },
    "tags": []
   },
   "outputs": [],
   "source": [
    "del train"
   ]
  },
  {
   "cell_type": "code",
   "execution_count": 36,
   "id": "f681ad07",
   "metadata": {
    "execution": {
     "iopub.execute_input": "2023-04-14T03:31:42.067744Z",
     "iopub.status.busy": "2023-04-14T03:31:42.067320Z",
     "iopub.status.idle": "2023-04-14T03:31:42.073010Z",
     "shell.execute_reply": "2023-04-14T03:31:42.071625Z"
    },
    "papermill": {
     "duration": 0.023007,
     "end_time": "2023-04-14T03:31:42.075673",
     "exception": false,
     "start_time": "2023-04-14T03:31:42.052666",
     "status": "completed"
    },
    "tags": []
   },
   "outputs": [],
   "source": [
    "reg = ensemble.ExtraTreesRegressor(n_estimators=200, max_depth=7, n_jobs=-1, random_state=3)"
   ]
  },
  {
   "cell_type": "code",
   "execution_count": 37,
   "id": "40f3a7c2",
   "metadata": {
    "execution": {
     "iopub.execute_input": "2023-04-14T03:31:42.106329Z",
     "iopub.status.busy": "2023-04-14T03:31:42.105854Z",
     "iopub.status.idle": "2023-04-14T03:39:14.712423Z",
     "shell.execute_reply": "2023-04-14T03:39:14.710871Z"
    },
    "papermill": {
     "duration": 452.638836,
     "end_time": "2023-04-14T03:39:14.727761",
     "exception": false,
     "start_time": "2023-04-14T03:31:42.088925",
     "status": "completed"
    },
    "tags": []
   },
   "outputs": [
    {
     "data": {
      "text/plain": [
       "ExtraTreesRegressor(max_depth=7, n_estimators=200, n_jobs=-1, random_state=3)"
      ]
     },
     "execution_count": 37,
     "metadata": {},
     "output_type": "execute_result"
    }
   ],
   "source": [
    "reg.fit(x1[:5_000_000],y1[:5_000_000])"
   ]
  },
  {
   "cell_type": "code",
   "execution_count": 38,
   "id": "61f07498",
   "metadata": {
    "execution": {
     "iopub.execute_input": "2023-04-14T03:39:14.756340Z",
     "iopub.status.busy": "2023-04-14T03:39:14.755919Z",
     "iopub.status.idle": "2023-04-14T03:39:49.354489Z",
     "shell.execute_reply": "2023-04-14T03:39:49.352709Z"
    },
    "papermill": {
     "duration": 34.6284,
     "end_time": "2023-04-14T03:39:49.369416",
     "exception": false,
     "start_time": "2023-04-14T03:39:14.741016",
     "status": "completed"
    },
    "tags": []
   },
   "outputs": [
    {
     "name": "stdout",
     "output_type": "stream",
     "text": [
      "0.3603862856783766\n"
     ]
    }
   ],
   "source": [
    "print(metrics.average_precision_score(y2, reg.predict(x2).clip(0.0,1.0)))"
   ]
  },
  {
   "cell_type": "code",
   "execution_count": 39,
   "id": "dce5ecd8",
   "metadata": {
    "execution": {
     "iopub.execute_input": "2023-04-14T03:39:49.399501Z",
     "iopub.status.busy": "2023-04-14T03:39:49.398171Z",
     "iopub.status.idle": "2023-04-14T03:39:49.405729Z",
     "shell.execute_reply": "2023-04-14T03:39:49.404686Z"
    },
    "papermill": {
     "duration": 0.025225,
     "end_time": "2023-04-14T03:39:49.408336",
     "exception": false,
     "start_time": "2023-04-14T03:39:49.383111",
     "status": "completed"
    },
    "tags": []
   },
   "outputs": [],
   "source": [
    "sub['t'] = 0\n",
    "submission = []"
   ]
  },
  {
   "cell_type": "code",
   "execution_count": 40,
   "id": "b07fb019",
   "metadata": {
    "execution": {
     "iopub.execute_input": "2023-04-14T03:39:49.439608Z",
     "iopub.status.busy": "2023-04-14T03:39:49.438052Z",
     "iopub.status.idle": "2023-04-14T03:39:51.166805Z",
     "shell.execute_reply": "2023-04-14T03:39:51.164391Z"
    },
    "papermill": {
     "duration": 1.749501,
     "end_time": "2023-04-14T03:39:51.171789",
     "exception": false,
     "start_time": "2023-04-14T03:39:49.422288",
     "status": "completed"
    },
    "tags": []
   },
   "outputs": [],
   "source": [
    "for f in test:\n",
    "    df = pd.read_csv(f)\n",
    "    df['Id'] = f.split('/')[-1].split('.')[0]\n",
    "    df = df.fillna(0).reset_index(drop=True)\n",
    "    #df = pd.merge(df, tasks[['Id','t_kmeans']], how='left', on='Id').fillna(-1)\n",
    "    #df = pd.merge(df, subjects[['Id','s_kmeans']], how='left', on='Id').fillna(-1)\n",
    "    df['AccV2'] = df['AccV'] - np.median(df['AccV'])\n",
    "    df['AccML2'] = df['AccML'] - np.median(df['AccML'])\n",
    "    df['AccAP2'] = df['AccAP'] - np.median(df['AccAP'])\n",
    "    df['AccV2_s'] = df['AccV'] - df['AccV'].shift(1)\n",
    "    df['AccML2_s'] = df['AccML'] - df['AccML'].shift(1)\n",
    "    df['AccAP2_s'] = df['AccAP'] - df['AccAP'].shift(1)\n",
    "    df['AccV2_sm'] = df['AccV'] - df['AccV'].shift(1).rolling(5).mean()\n",
    "    df['AccML2_sm'] = df['AccML'] - df['AccML'].shift(1).rolling(5).mean()\n",
    "    df['AccAP2_sm'] = df['AccAP'] - df['AccAP'].shift(1).rolling(5).mean()\n",
    "    df = df.fillna(99)\n",
    "    res = pd.DataFrame(reg.predict(df[cols]).clip(0.0,1.0), columns=pcols)\n",
    "    df = pd.concat([df,res], axis=1)\n",
    "    df['Id'] = df['Id'].astype(str) + '_' + df['Time'].astype(str)\n",
    "    submission.append(df[scols])"
   ]
  },
  {
   "cell_type": "code",
   "execution_count": 41,
   "id": "69b978e8",
   "metadata": {
    "execution": {
     "iopub.execute_input": "2023-04-14T03:39:51.203365Z",
     "iopub.status.busy": "2023-04-14T03:39:51.202910Z",
     "iopub.status.idle": "2023-04-14T03:39:51.219785Z",
     "shell.execute_reply": "2023-04-14T03:39:51.218116Z"
    },
    "papermill": {
     "duration": 0.035912,
     "end_time": "2023-04-14T03:39:51.222956",
     "exception": false,
     "start_time": "2023-04-14T03:39:51.187044",
     "status": "completed"
    },
    "tags": []
   },
   "outputs": [],
   "source": [
    "submission = pd.concat(submission)"
   ]
  },
  {
   "cell_type": "code",
   "execution_count": 42,
   "id": "87185005",
   "metadata": {
    "execution": {
     "iopub.execute_input": "2023-04-14T03:39:51.253284Z",
     "iopub.status.busy": "2023-04-14T03:39:51.252878Z",
     "iopub.status.idle": "2023-04-14T03:39:51.271159Z",
     "shell.execute_reply": "2023-04-14T03:39:51.269590Z"
    },
    "papermill": {
     "duration": 0.036043,
     "end_time": "2023-04-14T03:39:51.273920",
     "exception": false,
     "start_time": "2023-04-14T03:39:51.237877",
     "status": "completed"
    },
    "tags": []
   },
   "outputs": [
    {
     "data": {
      "text/html": [
       "<div>\n",
       "<style scoped>\n",
       "    .dataframe tbody tr th:only-of-type {\n",
       "        vertical-align: middle;\n",
       "    }\n",
       "\n",
       "    .dataframe tbody tr th {\n",
       "        vertical-align: top;\n",
       "    }\n",
       "\n",
       "    .dataframe thead th {\n",
       "        text-align: right;\n",
       "    }\n",
       "</style>\n",
       "<table border=\"1\" class=\"dataframe\">\n",
       "  <thead>\n",
       "    <tr style=\"text-align: right;\">\n",
       "      <th></th>\n",
       "      <th>Id</th>\n",
       "      <th>StartHesitation</th>\n",
       "      <th>Turn</th>\n",
       "      <th>Walking</th>\n",
       "      <th>t</th>\n",
       "    </tr>\n",
       "  </thead>\n",
       "  <tbody>\n",
       "    <tr>\n",
       "      <th>0</th>\n",
       "      <td>003f117e14_0</td>\n",
       "      <td>0</td>\n",
       "      <td>0</td>\n",
       "      <td>0</td>\n",
       "      <td>0</td>\n",
       "    </tr>\n",
       "    <tr>\n",
       "      <th>1</th>\n",
       "      <td>003f117e14_1</td>\n",
       "      <td>0</td>\n",
       "      <td>0</td>\n",
       "      <td>0</td>\n",
       "      <td>0</td>\n",
       "    </tr>\n",
       "    <tr>\n",
       "      <th>2</th>\n",
       "      <td>003f117e14_2</td>\n",
       "      <td>0</td>\n",
       "      <td>0</td>\n",
       "      <td>0</td>\n",
       "      <td>0</td>\n",
       "    </tr>\n",
       "    <tr>\n",
       "      <th>3</th>\n",
       "      <td>003f117e14_3</td>\n",
       "      <td>0</td>\n",
       "      <td>0</td>\n",
       "      <td>0</td>\n",
       "      <td>0</td>\n",
       "    </tr>\n",
       "    <tr>\n",
       "      <th>4</th>\n",
       "      <td>003f117e14_4</td>\n",
       "      <td>0</td>\n",
       "      <td>0</td>\n",
       "      <td>0</td>\n",
       "      <td>0</td>\n",
       "    </tr>\n",
       "    <tr>\n",
       "      <th>...</th>\n",
       "      <td>...</td>\n",
       "      <td>...</td>\n",
       "      <td>...</td>\n",
       "      <td>...</td>\n",
       "      <td>...</td>\n",
       "    </tr>\n",
       "    <tr>\n",
       "      <th>286365</th>\n",
       "      <td>02ab235146_281683</td>\n",
       "      <td>0</td>\n",
       "      <td>0</td>\n",
       "      <td>0</td>\n",
       "      <td>0</td>\n",
       "    </tr>\n",
       "    <tr>\n",
       "      <th>286366</th>\n",
       "      <td>02ab235146_281684</td>\n",
       "      <td>0</td>\n",
       "      <td>0</td>\n",
       "      <td>0</td>\n",
       "      <td>0</td>\n",
       "    </tr>\n",
       "    <tr>\n",
       "      <th>286367</th>\n",
       "      <td>02ab235146_281685</td>\n",
       "      <td>0</td>\n",
       "      <td>0</td>\n",
       "      <td>0</td>\n",
       "      <td>0</td>\n",
       "    </tr>\n",
       "    <tr>\n",
       "      <th>286368</th>\n",
       "      <td>02ab235146_281686</td>\n",
       "      <td>0</td>\n",
       "      <td>0</td>\n",
       "      <td>0</td>\n",
       "      <td>0</td>\n",
       "    </tr>\n",
       "    <tr>\n",
       "      <th>286369</th>\n",
       "      <td>02ab235146_281687</td>\n",
       "      <td>0</td>\n",
       "      <td>0</td>\n",
       "      <td>0</td>\n",
       "      <td>0</td>\n",
       "    </tr>\n",
       "  </tbody>\n",
       "</table>\n",
       "<p>286370 rows × 5 columns</p>\n",
       "</div>"
      ],
      "text/plain": [
       "                       Id  StartHesitation  Turn  Walking  t\n",
       "0            003f117e14_0                0     0        0  0\n",
       "1            003f117e14_1                0     0        0  0\n",
       "2            003f117e14_2                0     0        0  0\n",
       "3            003f117e14_3                0     0        0  0\n",
       "4            003f117e14_4                0     0        0  0\n",
       "...                   ...              ...   ...      ... ..\n",
       "286365  02ab235146_281683                0     0        0  0\n",
       "286366  02ab235146_281684                0     0        0  0\n",
       "286367  02ab235146_281685                0     0        0  0\n",
       "286368  02ab235146_281686                0     0        0  0\n",
       "286369  02ab235146_281687                0     0        0  0\n",
       "\n",
       "[286370 rows x 5 columns]"
      ]
     },
     "execution_count": 42,
     "metadata": {},
     "output_type": "execute_result"
    }
   ],
   "source": [
    "sub"
   ]
  },
  {
   "cell_type": "code",
   "execution_count": 43,
   "id": "d4c8d20c",
   "metadata": {
    "execution": {
     "iopub.execute_input": "2023-04-14T03:39:51.306891Z",
     "iopub.status.busy": "2023-04-14T03:39:51.306467Z",
     "iopub.status.idle": "2023-04-14T03:39:51.646397Z",
     "shell.execute_reply": "2023-04-14T03:39:51.645015Z"
    },
    "papermill": {
     "duration": 0.361283,
     "end_time": "2023-04-14T03:39:51.649634",
     "exception": false,
     "start_time": "2023-04-14T03:39:51.288351",
     "status": "completed"
    },
    "tags": []
   },
   "outputs": [],
   "source": [
    "submission = pd.merge(sub[['Id','t']], submission, how='left', on='Id').fillna(0.0)"
   ]
  },
  {
   "cell_type": "code",
   "execution_count": 44,
   "id": "e76d087a",
   "metadata": {
    "execution": {
     "iopub.execute_input": "2023-04-14T03:39:51.681066Z",
     "iopub.status.busy": "2023-04-14T03:39:51.679961Z",
     "iopub.status.idle": "2023-04-14T03:39:51.698029Z",
     "shell.execute_reply": "2023-04-14T03:39:51.696390Z"
    },
    "papermill": {
     "duration": 0.037731,
     "end_time": "2023-04-14T03:39:51.701847",
     "exception": false,
     "start_time": "2023-04-14T03:39:51.664116",
     "status": "completed"
    },
    "tags": []
   },
   "outputs": [
    {
     "data": {
      "text/html": [
       "<div>\n",
       "<style scoped>\n",
       "    .dataframe tbody tr th:only-of-type {\n",
       "        vertical-align: middle;\n",
       "    }\n",
       "\n",
       "    .dataframe tbody tr th {\n",
       "        vertical-align: top;\n",
       "    }\n",
       "\n",
       "    .dataframe thead th {\n",
       "        text-align: right;\n",
       "    }\n",
       "</style>\n",
       "<table border=\"1\" class=\"dataframe\">\n",
       "  <thead>\n",
       "    <tr style=\"text-align: right;\">\n",
       "      <th></th>\n",
       "      <th>Id</th>\n",
       "      <th>t</th>\n",
       "      <th>StartHesitation</th>\n",
       "      <th>Turn</th>\n",
       "      <th>Walking</th>\n",
       "    </tr>\n",
       "  </thead>\n",
       "  <tbody>\n",
       "    <tr>\n",
       "      <th>0</th>\n",
       "      <td>003f117e14_0</td>\n",
       "      <td>0</td>\n",
       "      <td>0.011363</td>\n",
       "      <td>0.043270</td>\n",
       "      <td>0.002876</td>\n",
       "    </tr>\n",
       "    <tr>\n",
       "      <th>1</th>\n",
       "      <td>003f117e14_1</td>\n",
       "      <td>0</td>\n",
       "      <td>0.011338</td>\n",
       "      <td>0.043239</td>\n",
       "      <td>0.002876</td>\n",
       "    </tr>\n",
       "    <tr>\n",
       "      <th>2</th>\n",
       "      <td>003f117e14_2</td>\n",
       "      <td>0</td>\n",
       "      <td>0.011338</td>\n",
       "      <td>0.043239</td>\n",
       "      <td>0.002876</td>\n",
       "    </tr>\n",
       "    <tr>\n",
       "      <th>3</th>\n",
       "      <td>003f117e14_3</td>\n",
       "      <td>0</td>\n",
       "      <td>0.011338</td>\n",
       "      <td>0.043239</td>\n",
       "      <td>0.002876</td>\n",
       "    </tr>\n",
       "    <tr>\n",
       "      <th>4</th>\n",
       "      <td>003f117e14_4</td>\n",
       "      <td>0</td>\n",
       "      <td>0.011338</td>\n",
       "      <td>0.043239</td>\n",
       "      <td>0.002876</td>\n",
       "    </tr>\n",
       "    <tr>\n",
       "      <th>...</th>\n",
       "      <td>...</td>\n",
       "      <td>...</td>\n",
       "      <td>...</td>\n",
       "      <td>...</td>\n",
       "      <td>...</td>\n",
       "    </tr>\n",
       "    <tr>\n",
       "      <th>286365</th>\n",
       "      <td>02ab235146_281683</td>\n",
       "      <td>0</td>\n",
       "      <td>0.000274</td>\n",
       "      <td>0.027678</td>\n",
       "      <td>0.021871</td>\n",
       "    </tr>\n",
       "    <tr>\n",
       "      <th>286366</th>\n",
       "      <td>02ab235146_281684</td>\n",
       "      <td>0</td>\n",
       "      <td>0.000274</td>\n",
       "      <td>0.027678</td>\n",
       "      <td>0.021871</td>\n",
       "    </tr>\n",
       "    <tr>\n",
       "      <th>286367</th>\n",
       "      <td>02ab235146_281685</td>\n",
       "      <td>0</td>\n",
       "      <td>0.000274</td>\n",
       "      <td>0.027678</td>\n",
       "      <td>0.021871</td>\n",
       "    </tr>\n",
       "    <tr>\n",
       "      <th>286368</th>\n",
       "      <td>02ab235146_281686</td>\n",
       "      <td>0</td>\n",
       "      <td>0.000274</td>\n",
       "      <td>0.027678</td>\n",
       "      <td>0.021871</td>\n",
       "    </tr>\n",
       "    <tr>\n",
       "      <th>286369</th>\n",
       "      <td>02ab235146_281687</td>\n",
       "      <td>0</td>\n",
       "      <td>0.000274</td>\n",
       "      <td>0.027678</td>\n",
       "      <td>0.021871</td>\n",
       "    </tr>\n",
       "  </tbody>\n",
       "</table>\n",
       "<p>286370 rows × 5 columns</p>\n",
       "</div>"
      ],
      "text/plain": [
       "                       Id  t  StartHesitation      Turn   Walking\n",
       "0            003f117e14_0  0         0.011363  0.043270  0.002876\n",
       "1            003f117e14_1  0         0.011338  0.043239  0.002876\n",
       "2            003f117e14_2  0         0.011338  0.043239  0.002876\n",
       "3            003f117e14_3  0         0.011338  0.043239  0.002876\n",
       "4            003f117e14_4  0         0.011338  0.043239  0.002876\n",
       "...                   ... ..              ...       ...       ...\n",
       "286365  02ab235146_281683  0         0.000274  0.027678  0.021871\n",
       "286366  02ab235146_281684  0         0.000274  0.027678  0.021871\n",
       "286367  02ab235146_281685  0         0.000274  0.027678  0.021871\n",
       "286368  02ab235146_281686  0         0.000274  0.027678  0.021871\n",
       "286369  02ab235146_281687  0         0.000274  0.027678  0.021871\n",
       "\n",
       "[286370 rows x 5 columns]"
      ]
     },
     "execution_count": 44,
     "metadata": {},
     "output_type": "execute_result"
    }
   ],
   "source": [
    "submission "
   ]
  },
  {
   "cell_type": "code",
   "execution_count": 45,
   "id": "1d46fbca",
   "metadata": {
    "execution": {
     "iopub.execute_input": "2023-04-14T03:39:51.734217Z",
     "iopub.status.busy": "2023-04-14T03:39:51.733803Z",
     "iopub.status.idle": "2023-04-14T03:39:51.742305Z",
     "shell.execute_reply": "2023-04-14T03:39:51.740235Z"
    },
    "papermill": {
     "duration": 0.027619,
     "end_time": "2023-04-14T03:39:51.745044",
     "exception": false,
     "start_time": "2023-04-14T03:39:51.717425",
     "status": "completed"
    },
    "tags": []
   },
   "outputs": [],
   "source": [
    "subjects=subjects.rename(columns={'Visit':'s_Visit','Age':'s_Age','YearsSinceDx':'s_YearsSinceDx','UPDRSIII_On':'s_UPDRSIII_On','UPDRSIII_Off':'s_UPDRSIII_Off','NFOGQ':'s_NFOGQ'})"
   ]
  },
  {
   "cell_type": "code",
   "execution_count": 46,
   "id": "29cb032c",
   "metadata": {
    "execution": {
     "iopub.execute_input": "2023-04-14T03:39:51.778027Z",
     "iopub.status.busy": "2023-04-14T03:39:51.776926Z",
     "iopub.status.idle": "2023-04-14T03:39:53.423005Z",
     "shell.execute_reply": "2023-04-14T03:39:53.421884Z"
    },
    "papermill": {
     "duration": 1.665455,
     "end_time": "2023-04-14T03:39:53.425718",
     "exception": false,
     "start_time": "2023-04-14T03:39:51.760263",
     "status": "completed"
    },
    "tags": []
   },
   "outputs": [],
   "source": [
    "submission[scols].to_csv('submission.csv', index=False)"
   ]
  },
  {
   "cell_type": "code",
   "execution_count": null,
   "id": "dd0994db",
   "metadata": {
    "papermill": {
     "duration": 0.013804,
     "end_time": "2023-04-14T03:39:53.453731",
     "exception": false,
     "start_time": "2023-04-14T03:39:53.439927",
     "status": "completed"
    },
    "tags": []
   },
   "outputs": [],
   "source": []
  }
 ],
 "metadata": {
  "kernelspec": {
   "display_name": "Python 3",
   "language": "python",
   "name": "python3"
  },
  "language_info": {
   "codemirror_mode": {
    "name": "ipython",
    "version": 3
   },
   "file_extension": ".py",
   "mimetype": "text/x-python",
   "name": "python",
   "nbconvert_exporter": "python",
   "pygments_lexer": "ipython3",
   "version": "3.7.12"
  },
  "papermill": {
   "default_parameters": {},
   "duration": 716.585149,
   "end_time": "2023-04-14T03:39:54.593994",
   "environment_variables": {},
   "exception": null,
   "input_path": "__notebook__.ipynb",
   "output_path": "__notebook__.ipynb",
   "parameters": {},
   "start_time": "2023-04-14T03:27:58.008845",
   "version": "2.4.0"
  }
 },
 "nbformat": 4,
 "nbformat_minor": 5
}
